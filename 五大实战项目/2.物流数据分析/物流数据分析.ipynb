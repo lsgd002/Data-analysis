{
 "cells": [
  {
   "attachments": {},
   "cell_type": "markdown",
   "metadata": {},
   "source": [
    "# 物流行业数据分析\n",
    "\n",
    "https://blog.csdn.net/m0_47533564/article/details/124019271?ops_request_misc=%257B%2522request%255Fid%2522%253A%2522168272641316800188532475%2522%252C%2522scm%2522%253A%252220140713.130102334..%2522%257D&request_id=168272641316800188532475&biz_id=0&utm_medium=distribute.pc_search_result.none-task-blog-2~all~baidu_landing_v2~default-4-124019271-null-null.142^v86^control,239^v2^insert_chatgpt&utm_term=%E7%89%A9%E6%B5%81%E8%A1%8C%E4%B8%9A%E6%95%B0%E6%8D%AE%E5%88%86%E6%9E%90&spm=1018.2226.3001.4187"
   ]
  },
  {
   "attachments": {},
   "cell_type": "markdown",
   "metadata": {},
   "source": [
    "1.数据清洗（重复值、缺失值、异常值处理、格式调整）"
   ]
  },
  {
   "attachments": {},
   "cell_type": "markdown",
   "metadata": {},
   "source": [
    "## 数据分析并可视化\n",
    "\n",
    "### PART1 货品配送服务分析  "
   ]
  },
  {
   "attachments": {},
   "cell_type": "markdown",
   "metadata": {},
   "source": [
    "1.配送服务是否存在问题  "
   ]
  },
  {
   "attachments": {},
   "cell_type": "markdown",
   "metadata": {},
   "source": [
    "        a.月份维度  "
   ]
  },
  {
   "attachments": {},
   "cell_type": "markdown",
   "metadata": {},
   "source": [
    "        b.销售区域维度"
   ]
  },
  {
   "attachments": {},
   "cell_type": "markdown",
   "metadata": {},
   "source": [
    "        c.货品维度"
   ]
  },
  {
   "attachments": {},
   "cell_type": "markdown",
   "metadata": {},
   "source": [
    "        d.货品和销售区域结合    "
   ]
  },
  {
   "attachments": {},
   "cell_type": "markdown",
   "metadata": {},
   "source": [
    "### PART2 销售区域潜力分析\n",
    "\n",
    "2.是否存在尚有潜力的销售区域(a.月份维度b.销售区域维度c.月份和销售区域结合)  "
   ]
  },
  {
   "attachments": {},
   "cell_type": "markdown",
   "metadata": {},
   "source": [
    "        a 月份维度"
   ]
  },
  {
   "attachments": {},
   "cell_type": "markdown",
   "metadata": {},
   "source": [
    "        b 销售区域"
   ]
  },
  {
   "attachments": {},
   "cell_type": "markdown",
   "metadata": {},
   "source": [
    "        c 月份和区域维度"
   ]
  },
  {
   "attachments": {},
   "cell_type": "markdown",
   "metadata": {},
   "source": [
    "### PART3 商品质量分析\n",
    "\n",
    "3.商品是否存在质量问题？"
   ]
  },
  {
   "attachments": {},
   "cell_type": "markdown",
   "metadata": {},
   "source": [
    "## 总结分析"
   ]
  }
 ],
 "metadata": {
  "language_info": {
   "name": "python"
  },
  "orig_nbformat": 4
 },
 "nbformat": 4,
 "nbformat_minor": 2
}
