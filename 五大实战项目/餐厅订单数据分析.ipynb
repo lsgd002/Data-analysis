{
 "cells": [
  {
   "cell_type": "markdown",
   "metadata": {},
   "source": [
    "## 餐厅订单数据分析"
   ]
  },
  {
   "attachments": {},
   "cell_type": "markdown",
   "metadata": {},
   "source": [
    "'''\n",
    "\n",
    "分析可得信息\n",
    "\n",
    "1.订单表的长度，shape，columns\n",
    "\n",
    "2.统计菜品的平均价格（amounts）\n",
    "\n",
    "3.什么菜最受欢迎\n",
    "\n",
    "4.哪个订单ID点的菜最多\n",
    "\n",
    "......\n",
    "\n",
    "~~加载数据~~\n",
    "\n",
    "~~数据预处理（合并数据，NA处理），分析数据~~\n",
    "\n",
    "~~统计8月卖出菜品的平均价格~~\n",
    "\n",
    "~~频数统计，什么菜最受欢迎 （对菜名进行频数统计，取最大前10名）~~\n",
    "\n",
    "~~数据可视化matplotlib~~\n",
    "\n",
    "~~订单点菜的种类最多~~\n",
    "\n",
    "~~8月份餐厅订单点菜种类前10名，平均点菜25个菜品\n",
    "\n",
    "~~订单ID点菜数量Top10(分组order_id,counts求和，排序，前10)~~\n",
    "\n",
    "~~8月份订单点菜数量前10名~~\n",
    "\n",
    "~~哪个订单ID吃的钱做多~~\n",
    "\n",
    "~~哪个订单ID平均消费最贵~~\n",
    "\n",
    "~~一天当中什么时间段，点菜量比较集中（hour）~~\n",
    "\n",
    "~~8月份哪一天订餐数量最多~~\n",
    "\n",
    "~~拓展：排序，取点菜量最大的前5天(Done)~~\n",
    "\n",
    "查看星期几人数最多，订餐数最多，映射数据到星期\n",
    "\n",
    "'''\n",
    "\n",
    "不同维度进行数据分析：\n",
    "\n",
    "针对订单order_id：\n",
    "\n",
    "        什么菜最受欢迎\n",
    "\n",
    "        点菜的种类\n",
    "\n",
    "        点菜的数量\n",
    "\n",
    "        消费金额最大\n",
    "\n",
    "        平均消费\n",
    "\n",
    "针对时间日期进行分析：\n",
    "\n",
    "        点菜量比较集中的时间\n",
    "\n",
    "        哪一天订餐数量最大\n",
    "\n",
    "        星期几就餐人数最多\n",
    "\n",
    "技术点：\n",
    "\n",
    "        拼接数据：pd.concat([列1,...])\n",
    "\n",
    "        分组统计(求和)\n",
    "\n",
    "        排序，切片Top10\n",
    "\n",
    "        绘制柱状图走势和高度\n",
    "\n",
    "'''\n",
    "\n"
   ]
  },
  {
   "cell_type": "code",
   "execution_count": 168,
   "metadata": {},
   "outputs": [],
   "source": [
    "import numpy as np\n",
    "import pandas as pd\n",
    "import matplotlib.pyplot as plt\n",
    "\n",
    "plt.rcParams['font.sans-serif'] = ['SimHei'] # 用来正常显示中文标签\n",
    "plt.rcParams['axes.unicode_minus'] = False # 用来正常显示负号"
   ]
  },
  {
   "cell_type": "code",
   "execution_count": 169,
   "metadata": {},
   "outputs": [],
   "source": [
    "# 加载数据\n",
    "data1 = pd.read_excel(r'C:\\Users\\wdl\\Data-analysis\\五大实战项目\\data\\meal_order_detail.xlsx', sheet_name=0)\n",
    "data2 = pd.read_excel(r'C:\\Users\\wdl\\Data-analysis\\五大实战项目\\data\\meal_order_detail.xlsx', sheet_name=1)\n",
    "data3 = pd.read_excel(r'C:\\Users\\wdl\\Data-analysis\\五大实战项目\\data\\meal_order_detail.xlsx', sheet_name=2)"
   ]
  },
  {
   "cell_type": "code",
   "execution_count": 170,
   "metadata": {},
   "outputs": [
    {
     "name": "stdout",
     "output_type": "stream",
     "text": [
      "<class 'pandas.core.frame.DataFrame'>\n",
      "Int64Index: 10037 entries, 0 to 3610\n",
      "Data columns (total 19 columns):\n",
      " #   Column             Non-Null Count  Dtype         \n",
      "---  ------             --------------  -----         \n",
      " 0   detail_id          10037 non-null  int64         \n",
      " 1   order_id           10037 non-null  int64         \n",
      " 2   dishes_id          10037 non-null  int64         \n",
      " 3   logicprn_name      0 non-null      float64       \n",
      " 4   parent_class_name  0 non-null      float64       \n",
      " 5   dishes_name        10037 non-null  object        \n",
      " 6   itemis_add         10037 non-null  int64         \n",
      " 7   counts             10037 non-null  int64         \n",
      " 8   amounts            10037 non-null  int64         \n",
      " 9   cost               0 non-null      float64       \n",
      " 10  place_order_time   10037 non-null  datetime64[ns]\n",
      " 11  discount_amt       0 non-null      float64       \n",
      " 12  discount_reason    0 non-null      float64       \n",
      " 13  kick_back          0 non-null      float64       \n",
      " 14  add_inprice        10037 non-null  int64         \n",
      " 15  add_info           0 non-null      float64       \n",
      " 16  bar_code           0 non-null      float64       \n",
      " 17  picture_file       10037 non-null  object        \n",
      " 18  emp_id             10037 non-null  int64         \n",
      "dtypes: datetime64[ns](1), float64(8), int64(8), object(2)\n",
      "memory usage: 1.5+ MB\n"
     ]
    }
   ],
   "source": [
    "# 数据预处理（合并数据，NA处理），分析数据\n",
    "data = pd.concat([data1, data2, data3], axis=0)\n",
    "data.info()"
   ]
  },
  {
   "cell_type": "code",
   "execution_count": 171,
   "metadata": {},
   "outputs": [
    {
     "data": {
      "text/html": [
       "<div>\n",
       "<style scoped>\n",
       "    .dataframe tbody tr th:only-of-type {\n",
       "        vertical-align: middle;\n",
       "    }\n",
       "\n",
       "    .dataframe tbody tr th {\n",
       "        vertical-align: top;\n",
       "    }\n",
       "\n",
       "    .dataframe thead th {\n",
       "        text-align: right;\n",
       "    }\n",
       "</style>\n",
       "<table border=\"1\" class=\"dataframe\">\n",
       "  <thead>\n",
       "    <tr style=\"text-align: right;\">\n",
       "      <th></th>\n",
       "      <th>detail_id</th>\n",
       "      <th>order_id</th>\n",
       "      <th>dishes_id</th>\n",
       "      <th>dishes_name</th>\n",
       "      <th>itemis_add</th>\n",
       "      <th>counts</th>\n",
       "      <th>amounts</th>\n",
       "      <th>place_order_time</th>\n",
       "      <th>add_inprice</th>\n",
       "      <th>picture_file</th>\n",
       "      <th>emp_id</th>\n",
       "    </tr>\n",
       "  </thead>\n",
       "  <tbody>\n",
       "    <tr>\n",
       "      <th>0</th>\n",
       "      <td>2956</td>\n",
       "      <td>417</td>\n",
       "      <td>610062</td>\n",
       "      <td>蒜蓉生蚝</td>\n",
       "      <td>0</td>\n",
       "      <td>1</td>\n",
       "      <td>49</td>\n",
       "      <td>2016-08-01 11:05:36</td>\n",
       "      <td>0</td>\n",
       "      <td>caipu/104001.jpg</td>\n",
       "      <td>1442</td>\n",
       "    </tr>\n",
       "    <tr>\n",
       "      <th>1</th>\n",
       "      <td>2958</td>\n",
       "      <td>417</td>\n",
       "      <td>609957</td>\n",
       "      <td>蒙古烤羊腿</td>\n",
       "      <td>0</td>\n",
       "      <td>1</td>\n",
       "      <td>48</td>\n",
       "      <td>2016-08-01 11:07:07</td>\n",
       "      <td>0</td>\n",
       "      <td>caipu/202003.jpg</td>\n",
       "      <td>1442</td>\n",
       "    </tr>\n",
       "    <tr>\n",
       "      <th>2</th>\n",
       "      <td>2961</td>\n",
       "      <td>417</td>\n",
       "      <td>609950</td>\n",
       "      <td>大蒜苋菜</td>\n",
       "      <td>0</td>\n",
       "      <td>1</td>\n",
       "      <td>30</td>\n",
       "      <td>2016-08-01 11:07:40</td>\n",
       "      <td>0</td>\n",
       "      <td>caipu/303001.jpg</td>\n",
       "      <td>1442</td>\n",
       "    </tr>\n",
       "    <tr>\n",
       "      <th>3</th>\n",
       "      <td>2966</td>\n",
       "      <td>417</td>\n",
       "      <td>610038</td>\n",
       "      <td>芝麻烤紫菜</td>\n",
       "      <td>0</td>\n",
       "      <td>1</td>\n",
       "      <td>25</td>\n",
       "      <td>2016-08-01 11:11:11</td>\n",
       "      <td>0</td>\n",
       "      <td>caipu/105002.jpg</td>\n",
       "      <td>1442</td>\n",
       "    </tr>\n",
       "    <tr>\n",
       "      <th>4</th>\n",
       "      <td>2968</td>\n",
       "      <td>417</td>\n",
       "      <td>610003</td>\n",
       "      <td>蒜香包</td>\n",
       "      <td>0</td>\n",
       "      <td>1</td>\n",
       "      <td>13</td>\n",
       "      <td>2016-08-01 11:11:30</td>\n",
       "      <td>0</td>\n",
       "      <td>caipu/503002.jpg</td>\n",
       "      <td>1442</td>\n",
       "    </tr>\n",
       "  </tbody>\n",
       "</table>\n",
       "</div>"
      ],
      "text/plain": [
       "   detail_id  order_id  dishes_id dishes_name  itemis_add  counts  amounts  \\\n",
       "0       2956       417     610062        蒜蓉生蚝           0       1       49   \n",
       "1       2958       417     609957       蒙古烤羊腿           0       1       48   \n",
       "2       2961       417     609950        大蒜苋菜           0       1       30   \n",
       "3       2966       417     610038       芝麻烤紫菜           0       1       25   \n",
       "4       2968       417     610003         蒜香包           0       1       13   \n",
       "\n",
       "     place_order_time  add_inprice      picture_file  emp_id  \n",
       "0 2016-08-01 11:05:36            0  caipu/104001.jpg    1442  \n",
       "1 2016-08-01 11:07:07            0  caipu/202003.jpg    1442  \n",
       "2 2016-08-01 11:07:40            0  caipu/303001.jpg    1442  \n",
       "3 2016-08-01 11:11:11            0  caipu/105002.jpg    1442  \n",
       "4 2016-08-01 11:11:30            0  caipu/503002.jpg    1442  "
      ]
     },
     "execution_count": 171,
     "metadata": {},
     "output_type": "execute_result"
    }
   ],
   "source": [
    "data.dropna(axis=1, how='any', inplace=True)\n",
    "data.head(5)"
   ]
  },
  {
   "cell_type": "code",
   "execution_count": 172,
   "metadata": {},
   "outputs": [
    {
     "data": {
      "text/plain": [
       "44.821360964431605"
      ]
     },
     "execution_count": 172,
     "metadata": {},
     "output_type": "execute_result"
    }
   ],
   "source": [
    "# 统计8月卖出菜品的平均价格\n",
    "data.amounts.mean()"
   ]
  },
  {
   "cell_type": "code",
   "execution_count": 173,
   "metadata": {},
   "outputs": [
    {
     "data": {
      "text/plain": [
       "白饭/大碗         323\n",
       "凉拌菠菜          269\n",
       "谷稻小庄          239\n",
       "麻辣小龙虾         216\n",
       "辣炒鱿鱼          189\n",
       "             ... \n",
       "特醇嘉士伯啤酒罐装      13\n",
       "鸡蛋、肉末肠粉        12\n",
       "三丝鳝鱼           10\n",
       "百里香奶油烤紅酒牛肉      5\n",
       "铁板牛肉            3\n",
       "Name: dishes_name, Length: 145, dtype: int64"
      ]
     },
     "execution_count": 173,
     "metadata": {},
     "output_type": "execute_result"
    }
   ],
   "source": [
    "# 删除series的字符\n",
    "data.dishes_name = data.dishes_name.str.replace(r'_x000D_\\n', '', regex=True)\n",
    "data.dishes_name.value_counts()"
   ]
  },
  {
   "cell_type": "code",
   "execution_count": 183,
   "metadata": {},
   "outputs": [
    {
     "data": {
      "text/plain": [
       "凉拌菠菜          245\n",
       "谷稻小庄          218\n",
       "麻辣小龙虾         198\n",
       "五色糯米饭(七色)     175\n",
       "芝士烩波士顿龙虾      171\n",
       "             ... \n",
       "鸡蛋、肉末肠粉        11\n",
       "特醇嘉士伯啤酒罐装      11\n",
       "三丝鳝鱼            9\n",
       "百里香奶油烤紅酒牛肉      5\n",
       "铁板牛肉            3\n",
       "Name: dishes_name, Length: 143, dtype: int64"
      ]
     },
     "execution_count": 183,
     "metadata": {},
     "output_type": "execute_result"
    }
   ],
   "source": [
    "new_data = data.drop(data[(data.dishes_name=='白饭/大碗') | (data.dishes_name=='白饭/小碗')].index)\n",
    "new_data.dishes_name.value_counts()"
   ]
  },
  {
   "cell_type": "code",
   "execution_count": 184,
   "metadata": {},
   "outputs": [
    {
     "data": {
      "text/plain": [
       "凉拌菠菜         245\n",
       "谷稻小庄         218\n",
       "麻辣小龙虾        198\n",
       "五色糯米饭(七色)    175\n",
       "芝士烩波士顿龙虾     171\n",
       "辣炒鱿鱼         168\n",
       "香酥两吃大虾       165\n",
       "焖猪手          159\n",
       "水煮鱼          148\n",
       "蒙古烤羊腿        140\n",
       "Name: dishes_name, dtype: int64"
      ]
     },
     "execution_count": 184,
     "metadata": {},
     "output_type": "execute_result"
    }
   ],
   "source": [
    "# 频数统计，什么菜最受欢迎 （对菜名进行频数统计，取最大前10名）\n",
    "ser1 = new_data.dishes_name.value_counts().nlargest(10)\n",
    "ser1"
   ]
  },
  {
   "cell_type": "code",
   "execution_count": 176,
   "metadata": {},
   "outputs": [
    {
     "data": {
      "image/png": "[encoded data removed]",
      "text/plain": [
       "<Figure size 640x480 with 1 Axes>"
      ]
     },
     "metadata": {},
     "output_type": "display_data"
    }
   ],
   "source": [
    "import matplotlib\n",
    "import matplotlib.pyplot as plt\n",
    "import numpy as np\n",
    "\n",
    "\n",
    "labels = ser1.index.to_list()\n",
    "men_means = ser1.values.tolist()\n",
    "\n",
    "x = np.arange(len(labels))  \n",
    "width = 0.35  \n",
    "fig, ax = plt.subplots()\n",
    "rects1 = ax.bar(x - width/2 + .19, men_means, width, label='销量')\n",
    "\n",
    "\n",
    "ax.set_ylabel('销量')\n",
    "ax.set_title('最受欢迎的10个菜')\n",
    "ax.set_xticks(x)\n",
    "ax.set_xticklabels(labels)\n",
    "ax.legend()\n",
    "\n",
    "\n",
    "def autolabel(rects):\n",
    "    for rect in rects:\n",
    "        height = rect.get_height()\n",
    "        ax.annotate('{}'.format(height),\n",
    "                    xy=(rect.get_x() + rect.get_width() / 2, height),\n",
    "                    xytext=(0, 3),  # 3 points vertical offset\n",
    "                    textcoords=\"offset points\",\n",
    "                    ha='center', va='bottom')\n",
    "\n",
    "plt.xticks(rotation=65)\n",
    "\n",
    "# ser1.plot(kind='line',color='r')\n",
    "autolabel(rects1)\n",
    "\n",
    "# fig.tight_layout()\n",
    "\n",
    "plt.show()"
   ]
  },
  {
   "cell_type": "code",
   "execution_count": 186,
   "metadata": {},
   "outputs": [
    {
     "data": {
      "text/plain": [
       "398     34\n",
       "1078    25\n",
       "582     25\n",
       "392     24\n",
       "1295    24\n",
       "1311    23\n",
       "465     23\n",
       "1318    23\n",
       "672     23\n",
       "1166    22\n",
       "Name: order_id, dtype: int64"
      ]
     },
     "execution_count": 186,
     "metadata": {},
     "output_type": "execute_result"
    }
   ],
   "source": [
    "# 订单点菜的种类最多\n",
    "new_data.order_id.value_counts()[:10]"
   ]
  },
  {
   "cell_type": "code",
   "execution_count": 185,
   "metadata": {},
   "outputs": [
    {
     "data": {
      "text/plain": [
       "25.0"
      ]
     },
     "execution_count": 185,
     "metadata": {},
     "output_type": "execute_result"
    }
   ],
   "source": [
    "# 平均点菜25个菜品\n",
    "np.round(new_data.order_id.value_counts()[:10].mean(), 0)"
   ]
  },
  {
   "cell_type": "code",
   "execution_count": 189,
   "metadata": {},
   "outputs": [
    {
     "data": {
      "text/plain": [
       "order_id\n",
       "398     34\n",
       "1051    33\n",
       "1033    30\n",
       "1318    30\n",
       "1150    28\n",
       "752     27\n",
       "1078    27\n",
       "1186    27\n",
       "557     26\n",
       "1019    26\n",
       "Name: counts, dtype: int64"
      ]
     },
     "execution_count": 189,
     "metadata": {},
     "output_type": "execute_result"
    }
   ],
   "source": [
    "# 订单ID点菜数量Top10\n",
    "new_data.groupby('order_id').counts.sum().nlargest(10)"
   ]
  },
  {
   "cell_type": "code",
   "execution_count": 191,
   "metadata": {},
   "outputs": [
    {
     "data": {
      "text/plain": [
       "order_id\n",
       "1166    1314\n",
       "743     1214\n",
       "1317    1210\n",
       "576     1162\n",
       "408     1148\n",
       "1121    1146\n",
       "561     1144\n",
       "1178    1129\n",
       "385     1125\n",
       "584     1121\n",
       "Name: amounts, dtype: int64"
      ]
     },
     "execution_count": 191,
     "metadata": {},
     "output_type": "execute_result"
    }
   ],
   "source": [
    "# 哪个订单ID吃的钱做多\n",
    "data.groupby('order_id').amounts.sum().nlargest(10)"
   ]
  },
  {
   "cell_type": "code",
   "execution_count": 199,
   "metadata": {},
   "outputs": [
    {
     "data": {
      "text/plain": [
       "order_id\n",
       "909    117.75\n",
       "Name: amounts, dtype: float64"
      ]
     },
     "execution_count": 199,
     "metadata": {},
     "output_type": "execute_result"
    }
   ],
   "source": [
    "# 哪个订单ID平均消费最贵\n",
    "data.groupby('order_id').amounts.mean().nlargest(1)"
   ]
  },
  {
   "cell_type": "code",
   "execution_count": 204,
   "metadata": {},
   "outputs": [],
   "source": [
    "data['hour'] = data.place_order_time.dt.hour"
   ]
  },
  {
   "cell_type": "code",
   "execution_count": 256,
   "metadata": {},
   "outputs": [
    {
     "data": {
      "text/plain": [
       "hour\n",
       "11    1022\n",
       "12     915\n",
       "13     888\n",
       "14     140\n",
       "17    1231\n",
       "18    1726\n",
       "19    1619\n",
       "20    1709\n",
       "21    1662\n",
       "22     214\n",
       "Name: counts, dtype: int64"
      ]
     },
     "execution_count": 256,
     "metadata": {},
     "output_type": "execute_result"
    }
   ],
   "source": [
    "hour_data = data.groupby('hour').counts.sum()\n",
    "hour_data"
   ]
  },
  {
   "cell_type": "code",
   "execution_count": 275,
   "metadata": {},
   "outputs": [
    {
     "ename": "AttributeError",
     "evalue": "module 'pyecharts.options' has no attribute 'DataZoomHandleStyleOpts'",
     "output_type": "error",
     "traceback": [
      "\u001b[1;31m---------------------------------------------------------------------------\u001b[0m",
      "\u001b[1;31mAttributeError\u001b[0m                            Traceback (most recent call last)",
      "Cell \u001b[1;32mIn[275], line 12\u001b[0m\n\u001b[0;32m      6\u001b[0m bar\u001b[39m.\u001b[39madd_xaxis([\u001b[39mf\u001b[39m\u001b[39m'\u001b[39m\u001b[39m{\u001b[39;00mi\u001b[39m}\u001b[39;00m\u001b[39m天\u001b[39m\u001b[39m'\u001b[39m \u001b[39mfor\u001b[39;00m i \u001b[39min\u001b[39;00m hour_data\u001b[39m.\u001b[39mindex\u001b[39m.\u001b[39mto_list()])\n\u001b[0;32m      7\u001b[0m bar\u001b[39m.\u001b[39madd_yaxis(\u001b[39m\"\u001b[39m\u001b[39m点菜数量\u001b[39m\u001b[39m\"\u001b[39m, hour_data\u001b[39m.\u001b[39mvalues\u001b[39m.\u001b[39mtolist())\n\u001b[0;32m      8\u001b[0m bar\u001b[39m.\u001b[39mset_global_opts(\n\u001b[0;32m      9\u001b[0m         title_opts\u001b[39m=\u001b[39mopts\u001b[39m.\u001b[39mTitleOpts(title\u001b[39m=\u001b[39m\u001b[39m\"\u001b[39m\u001b[39m一天中什么时间段，点菜量比较集中\u001b[39m\u001b[39m\"\u001b[39m),\n\u001b[0;32m     10\u001b[0m         datazoom_opts\u001b[39m=\u001b[39m[opts\u001b[39m.\u001b[39mDataZoomOpts(range_start\u001b[39m=\u001b[39m\u001b[39m0\u001b[39m, range_end\u001b[39m=\u001b[39m\u001b[39m100\u001b[39m, \n\u001b[0;32m     11\u001b[0m                                       handle_size\u001b[39m=\u001b[39m\u001b[39m20\u001b[39m, \n\u001b[1;32m---> 12\u001b[0m                                       handle_style\u001b[39m=\u001b[39mopts\u001b[39m.\u001b[39;49mDataZoomHandleStyleOpts(color\u001b[39m=\u001b[39m\u001b[39m'\u001b[39m\u001b[39m#007bff\u001b[39m\u001b[39m'\u001b[39m, width\u001b[39m=\u001b[39m\u001b[39m10\u001b[39m, height\u001b[39m=\u001b[39m\u001b[39m20\u001b[39m))], \n\u001b[0;32m     13\u001b[0m     )\n\u001b[0;32m     14\u001b[0m bar\u001b[39m.\u001b[39mrender_notebook()\n",
      "\u001b[1;31mAttributeError\u001b[0m: module 'pyecharts.options' has no attribute 'DataZoomHandleStyleOpts'"
     ]
    }
   ],
   "source": [
    "from pyecharts import options as opts\n",
    "from pyecharts.charts import Bar\n",
    "\n",
    "\n",
    "bar = Bar(init_opts=opts.InitOpts(width=\"800px\", height=\"400px\", theme='dark'))\n",
    "bar.add_xaxis([f'{i}天' for i in hour_data.index.to_list()])\n",
    "bar.add_yaxis(\"点菜数量\", hour_data.values.tolist())\n",
    "bar.set_global_opts(\n",
    "        title_opts=opts.TitleOpts(title=\"一天中什么时间段，点菜量比较集中\"),\n",
    "        datazoom_opts=[opts.DataZoomOpts(range_start=0, range_end=100, \n",
    "                                      handle_size=20, \n",
    "                                      handle_style=opts.DataZoomHandleStyleOpts(color='#007bff', width=10, height=20))], \n",
    "    )\n",
    "bar.render_notebook()"
   ]
  },
  {
   "cell_type": "code",
   "execution_count": 243,
   "metadata": {},
   "outputs": [
    {
     "data": {
      "image/png": "[encoded data removed]",
      "text/plain": [
       "<Figure size 640x480 with 1 Axes>"
      ]
     },
     "metadata": {},
     "output_type": "display_data"
    }
   ],
   "source": [
    "# 一天当中什么时间段，点菜量比较集中（hour）\n",
    "data.groupby('hour').counts.sum().plot(kind='bar')\n",
    "plt.text(0, 1000, '午餐', ha='center', va='bottom', fontsize=20)\n",
    "ax = plt.gca()\n",
    "ax.set_xticklabels(ax.get_xticklabels(), rotation=0)\n",
    "ax.set_xlabel('时间段')\n",
    "ax.set_ylabel('点菜量', rotation=0, labelpad=20) # labelpad=20 用来调整label与轴的距离\n",
    "\n",
    "plt.show()"
   ]
  },
  {
   "cell_type": "code",
   "execution_count": 208,
   "metadata": {},
   "outputs": [],
   "source": [
    "data['day'] = data.place_order_time.dt.day"
   ]
  },
  {
   "cell_type": "code",
   "execution_count": 211,
   "metadata": {},
   "outputs": [
    {
     "data": {
      "image/png": "[encoded data removed]",
      "text/plain": [
       "<Figure size 640x480 with 1 Axes>"
      ]
     },
     "metadata": {},
     "output_type": "display_data"
    }
   ],
   "source": [
    "# 8月份哪一天订餐数量最多\n",
    "data.groupby('day').counts.sum().plot(kind='bar')\n",
    "plt.xticks(rotation=0)\n",
    "plt.show()"
   ]
  },
  {
   "cell_type": "code",
   "execution_count": 215,
   "metadata": {},
   "outputs": [
    {
     "data": {
      "text/plain": [
       "day\n",
       "20    996\n",
       "28    892\n",
       "21    853\n",
       "27    831\n",
       "13    824\n",
       "Name: counts, dtype: int64"
      ]
     },
     "execution_count": 215,
     "metadata": {},
     "output_type": "execute_result"
    }
   ],
   "source": [
    "# 排序，取点菜量最大的前5天\n",
    "data.groupby('day').counts.sum().nlargest(5)"
   ]
  },
  {
   "cell_type": "code",
   "execution_count": 219,
   "metadata": {},
   "outputs": [],
   "source": [
    "data['day_of_week'] = data.place_order_time.dt.dayofweek + 1"
   ]
  },
  {
   "cell_type": "code",
   "execution_count": 232,
   "metadata": {},
   "outputs": [
    {
     "data": {
      "image/png": "[encoded data removed]",
      "text/plain": [
       "<Figure size 640x480 with 1 Axes>"
      ]
     },
     "metadata": {},
     "output_type": "display_data"
    }
   ],
   "source": [
    "data.groupby('day_of_week').counts.sum().plot(kind='bar')\n",
    "plt.xticks(rotation=0)\n",
    "ax = plt.gca()\n",
    "ax.spines['right'].set_visible(False)\n",
    "ax.spines['top'].set_visible(False)\n",
    "ax.set_title('周一到周日的销量')\n",
    "plt.show()\n",
    "# 显示柱状总计数\n"
   ]
  }
 ],
 "metadata": {
  "kernelspec": {
   "display_name": "Python 3",
   "language": "python",
   "name": "python3"
  },
  "language_info": {
   "codemirror_mode": {
    "name": "ipython",
    "version": 3
   },
   "file_extension": ".py",
   "mimetype": "text/x-python",
   "name": "python",
   "nbconvert_exporter": "python",
   "pygments_lexer": "ipython3",
   "version": "3.11.3"
  },
  "orig_nbformat": 4
 },
 "nbformat": 4,
 "nbformat_minor": 2
}
