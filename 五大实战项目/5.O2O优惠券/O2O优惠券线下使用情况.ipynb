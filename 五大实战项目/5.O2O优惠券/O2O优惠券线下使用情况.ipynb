{
 "cells": [
  {
   "attachments": {},
   "cell_type": "markdown",
   "metadata": {},
   "source": [
    "# O2O优惠券线下使用情况\n",
    "\n",
    "https://blog.csdn.net/BiLiBa123/article/details/128020313?ops_request_misc=%257B%2522request%255Fid%2522%253A%2522168272786316800184144333%2522%252C%2522scm%2522%253A%252220140713.130102334..%2522%257D&request_id=168272786316800184144333&biz_id=0&utm_medium=distribute.pc_search_result.none-task-blog-2~all~sobaiduend~default-2-128020313-null-null.142^v86^control,239^v2^insert_chatgpt&utm_term=%E4%BC%98%E6%83%A0%E5%88%B8%E4%BD%BF%E7%94%A8%E6%83%85%E5%86%B5%E5%88%86%E6%9E%90&spm=1018.2226.3001.4187  \n",
    "\n",
    "https://www.bilibili.com/video/BV1K24y1G7pJ?p=42"
   ]
  },
  {
   "attachments": {},
   "cell_type": "markdown",
   "metadata": {},
   "source": [
    "数据清洗工具：jupyter notebook\n",
    "\n",
    "数据分析工具：Python\n",
    "\n",
    "可视化图表工具：Pyecharts\n",
    "\n",
    "分析类型：描述性分析，诊断分析\n",
    "\n",
    "分析方法：漏斗分析，RFM用户价值分析，AARRR分析，假设检验分析。"
   ]
  },
  {
   "attachments": {},
   "cell_type": "markdown",
   "metadata": {},
   "source": [
    "## 一. 数据清洗\n",
    "\n"
   ]
  },
  {
   "attachments": {},
   "cell_type": "markdown",
   "metadata": {},
   "source": [
    "        1.1 数据集来源\n",
    "\n",
    "数据来源：https://tianchi.aliyun.com/competition/entrance/231593/information"
   ]
  },
  {
   "attachments": {},
   "cell_type": "markdown",
   "metadata": {},
   "source": [
    "        1.2 数据说明\n",
    "数据说明：用户在2016年1月1日至2016年6月30日之间真实线下消费行为数据\n",
    "\n",
    "分析工具：Python\n",
    "\n",
    "Table 1: 用户线下消费和优惠券领取行为\n",
    "\n",
    "| Field | Description |  \n",
    "| :--- | :--- |\n",
    "| User_id | 用户ID |  \n",
    "| Merchant_id | 商户ID|  \n",
    "|Coupon_id | 优惠券ID：null表示无优惠券消费，此时Discount_rate和Date_received字段无意义 |\n",
    "| Discount_rate | 优惠率：x \\in [0,1]代表折扣率；x:y表示满x减y。单位是元 |\n",
    "| Distanceuser | 经常活动的地点离该merchant的最近门店距离是x*500米（如果是连锁店，则取最近的一家门店），x\\in[0,10]；<br>null表示无此信息，0表示低于500米，10表示大于5公里；|\n",
    "| Date_received | 领取优惠券日期 |\n",
    "| Date | 消费日期：<br>如果Date=null & Coupon_id != null，该记录表示领取优惠券但没有使用，即负样本；<br>如果Date!=null & Coupon_id = null，则表示普通消费日期；<br>如果Date!=null & Coupon_id != null，则表示用优惠券消费日期，即正样本；"
   ]
  },
  {
   "attachments": {},
   "cell_type": "markdown",
   "metadata": {},
   "source": [
    "        1.3 数据导入"
   ]
  },
  {
   "cell_type": "code",
   "execution_count": 1,
   "metadata": {},
   "outputs": [],
   "source": [
    "import numpy as np\n",
    "import pandas as pd\n",
    "import matplotlib.pyplot as plt\n",
    "import seaborn as sns\n",
    "from datetime import datetime\n",
    "\n",
    "plt.rcParams['font.sans-serif'] = ['SimHei']\n",
    "plt.rcParams['axes.unicode_minus'] = False"
   ]
  },
  {
   "cell_type": "code",
   "execution_count": 2,
   "metadata": {},
   "outputs": [
    {
     "data": {
      "text/html": [
       "<div>\n",
       "<style scoped>\n",
       "    .dataframe tbody tr th:only-of-type {\n",
       "        vertical-align: middle;\n",
       "    }\n",
       "\n",
       "    .dataframe tbody tr th {\n",
       "        vertical-align: top;\n",
       "    }\n",
       "\n",
       "    .dataframe thead th {\n",
       "        text-align: right;\n",
       "    }\n",
       "</style>\n",
       "<table border=\"1\" class=\"dataframe\">\n",
       "  <thead>\n",
       "    <tr style=\"text-align: right;\">\n",
       "      <th></th>\n",
       "      <th>User_id</th>\n",
       "      <th>Merchant_id</th>\n",
       "      <th>Coupon_id</th>\n",
       "      <th>Discount_rate</th>\n",
       "      <th>Distance</th>\n",
       "      <th>Date_received</th>\n",
       "      <th>Date</th>\n",
       "    </tr>\n",
       "  </thead>\n",
       "  <tbody>\n",
       "    <tr>\n",
       "      <th>0</th>\n",
       "      <td>1439408</td>\n",
       "      <td>2632</td>\n",
       "      <td>NaN</td>\n",
       "      <td>NaN</td>\n",
       "      <td>0.0</td>\n",
       "      <td>NaT</td>\n",
       "      <td>2016-02-17</td>\n",
       "    </tr>\n",
       "    <tr>\n",
       "      <th>1</th>\n",
       "      <td>1439408</td>\n",
       "      <td>4663</td>\n",
       "      <td>11002.0</td>\n",
       "      <td>150:20:00</td>\n",
       "      <td>1.0</td>\n",
       "      <td>2016-05-28</td>\n",
       "      <td>NaT</td>\n",
       "    </tr>\n",
       "    <tr>\n",
       "      <th>2</th>\n",
       "      <td>1439408</td>\n",
       "      <td>2632</td>\n",
       "      <td>8591.0</td>\n",
       "      <td>20:01</td>\n",
       "      <td>0.0</td>\n",
       "      <td>2016-02-17</td>\n",
       "      <td>NaT</td>\n",
       "    </tr>\n",
       "    <tr>\n",
       "      <th>3</th>\n",
       "      <td>1439408</td>\n",
       "      <td>2632</td>\n",
       "      <td>1078.0</td>\n",
       "      <td>20:01</td>\n",
       "      <td>0.0</td>\n",
       "      <td>2016-03-19</td>\n",
       "      <td>NaT</td>\n",
       "    </tr>\n",
       "    <tr>\n",
       "      <th>4</th>\n",
       "      <td>1439408</td>\n",
       "      <td>2632</td>\n",
       "      <td>8591.0</td>\n",
       "      <td>20:01</td>\n",
       "      <td>0.0</td>\n",
       "      <td>2016-06-13</td>\n",
       "      <td>NaT</td>\n",
       "    </tr>\n",
       "  </tbody>\n",
       "</table>\n",
       "</div>"
      ],
      "text/plain": [
       "   User_id  Merchant_id  Coupon_id Discount_rate  Distance Date_received  \\\n",
       "0  1439408         2632        NaN           NaN       0.0           NaT   \n",
       "1  1439408         4663    11002.0     150:20:00       1.0    2016-05-28   \n",
       "2  1439408         2632     8591.0         20:01       0.0    2016-02-17   \n",
       "3  1439408         2632     1078.0         20:01       0.0    2016-03-19   \n",
       "4  1439408         2632     8591.0         20:01       0.0    2016-06-13   \n",
       "\n",
       "        Date  \n",
       "0 2016-02-17  \n",
       "1        NaT  \n",
       "2        NaT  \n",
       "3        NaT  \n",
       "4        NaT  "
      ]
     },
     "execution_count": 2,
     "metadata": {},
     "output_type": "execute_result"
    }
   ],
   "source": [
    "offline = pd.read_csv(r'C:\\Users\\wdl\\Data-analysis\\五大实战项目\\5.O2O优惠券\\data\\ccf_offline_stage1_train.csv', parse_dates=['Date_received', 'Date'])\n",
    "offline.head(5)"
   ]
  },
  {
   "cell_type": "code",
   "execution_count": 3,
   "metadata": {},
   "outputs": [
    {
     "name": "stdout",
     "output_type": "stream",
     "text": [
      "<class 'pandas.core.frame.DataFrame'>\n",
      "RangeIndex: 1048575 entries, 0 to 1048574\n",
      "Data columns (total 7 columns):\n",
      " #   Column         Non-Null Count    Dtype         \n",
      "---  ------         --------------    -----         \n",
      " 0   User_id        1048575 non-null  int64         \n",
      " 1   Merchant_id    1048575 non-null  int64         \n",
      " 2   Coupon_id      629824 non-null   float64       \n",
      " 3   Discount_rate  629824 non-null   object        \n",
      " 4   Distance       985589 non-null   float64       \n",
      " 5   Date_received  629824 non-null   datetime64[ns]\n",
      " 6   Date           463717 non-null   datetime64[ns]\n",
      "dtypes: datetime64[ns](2), float64(2), int64(2), object(1)\n",
      "memory usage: 56.0+ MB\n"
     ]
    }
   ],
   "source": [
    "offline.info()"
   ]
  },
  {
   "attachments": {},
   "cell_type": "markdown",
   "metadata": {},
   "source": [
    "        1.4 查看缺失值"
   ]
  },
  {
   "cell_type": "code",
   "execution_count": 4,
   "metadata": {},
   "outputs": [
    {
     "data": {
      "text/plain": [
       "User_id               0\n",
       "Merchant_id           0\n",
       "Coupon_id        418751\n",
       "Discount_rate    418751\n",
       "Distance          62986\n",
       "Date_received    418751\n",
       "Date             584858\n",
       "dtype: int64"
      ]
     },
     "execution_count": 4,
     "metadata": {},
     "output_type": "execute_result"
    }
   ],
   "source": [
    "offline.isnull().sum()"
   ]
  },
  {
   "attachments": {},
   "cell_type": "markdown",
   "metadata": {},
   "source": [
    "            1.4.1 验证缺失值是否相等"
   ]
  },
  {
   "cell_type": "code",
   "execution_count": 5,
   "metadata": {},
   "outputs": [],
   "source": [
    "nan1 = offline.Coupon_id.isna()\n",
    "nan2 = offline.Discount_rate.isna()\n",
    "nan3 = offline.Date_received.isna()"
   ]
  },
  {
   "cell_type": "code",
   "execution_count": 6,
   "metadata": {},
   "outputs": [
    {
     "data": {
      "text/plain": [
       "True"
      ]
     },
     "execution_count": 6,
     "metadata": {},
     "output_type": "execute_result"
    }
   ],
   "source": [
    "np.all(nan1 == nan2)"
   ]
  },
  {
   "cell_type": "code",
   "execution_count": 7,
   "metadata": {},
   "outputs": [
    {
     "data": {
      "text/plain": [
       "True"
      ]
     },
     "execution_count": 7,
     "metadata": {},
     "output_type": "execute_result"
    }
   ],
   "source": [
    "np.all(nan1 == nan3)"
   ]
  },
  {
   "cell_type": "code",
   "execution_count": 8,
   "metadata": {},
   "outputs": [],
   "source": [
    "offline['Distance'].fillna(11, inplace=True)"
   ]
  },
  {
   "attachments": {},
   "cell_type": "markdown",
   "metadata": {},
   "source": [
    "        1.5 数据处理​编辑"
   ]
  },
  {
   "attachments": {},
   "cell_type": "markdown",
   "metadata": {},
   "source": [
    "            1.5.1 计算折扣率"
   ]
  },
  {
   "cell_type": "code",
   "execution_count": 9,
   "metadata": {},
   "outputs": [],
   "source": [
    "def discount_rate_convert(s):\n",
    "    if ':' in str(s):\n",
    "        split = str(s).split(':')\n",
    "        discount_rate = (int(split[0]) - int(split[1])) / int(split[0])\n",
    "        return round(discount_rate, 2)\n",
    "    elif s == np.NaN:\n",
    "        return s\n",
    "    else:\n",
    "        return float(s)"
   ]
  },
  {
   "cell_type": "code",
   "execution_count": 10,
   "metadata": {},
   "outputs": [
    {
     "data": {
      "text/plain": [
       "0           NaN\n",
       "1          0.87\n",
       "2          0.95\n",
       "3          0.95\n",
       "4          0.95\n",
       "           ... \n",
       "1048570    0.83\n",
       "1048571    0.83\n",
       "1048572     NaN\n",
       "1048573     NaN\n",
       "1048574     NaN\n",
       "Name: Discount_rate, Length: 1048575, dtype: float64"
      ]
     },
     "execution_count": 10,
     "metadata": {},
     "output_type": "execute_result"
    }
   ],
   "source": [
    "offline['Discount_rate'] = offline.Discount_rate.map(discount_rate_convert)\n",
    "offline.Discount_rate"
   ]
  },
  {
   "attachments": {},
   "cell_type": "markdown",
   "metadata": {},
   "source": [
    "## 二. 分析"
   ]
  },
  {
   "attachments": {},
   "cell_type": "markdown",
   "metadata": {},
   "source": [
    "        2.1 优惠券使用情况：\n",
    "<br>Date == null & Coupon_id != null，有券未消费（cpon_no_consume）\n",
    "<br>Date != null & Coupon_id == null，无券消费（no_cpon_consume）；\n",
    "<br>Date != null & Coupon_id != null，有券消费（cpon_consume）；\n",
    "<br>Date == null & Coupon_id == null，无券未消费（no_cpon_no_consume）；"
   ]
  },
  {
   "cell_type": "code",
   "execution_count": 11,
   "metadata": {},
   "outputs": [],
   "source": [
    "cpon_no_consume = offline[(offline['Date'].isna() & offline['Coupon_id'].notna())]\n",
    "no_cpon_consume = offline[(offline['Date'].notna() & offline['Coupon_id'].isna())]\n",
    "cpon_consume = offline[(offline['Date'].notna() & offline['Coupon_id'].notna())]\n",
    "no_cpon_no_consume = offline[(offline['Date'].isna() & offline['Coupon_id'].isna())]"
   ]
  },
  {
   "cell_type": "code",
   "execution_count": 12,
   "metadata": {},
   "outputs": [
    {
     "name": "stdout",
     "output_type": "stream",
     "text": [
      "有券未消费： 584858\n",
      "无券消费： 418751\n",
      "有券且消费： 44966\n",
      "无券未消费： 0\n"
     ]
    }
   ],
   "source": [
    "print('有券未消费：', len(cpon_no_consume))\n",
    "print('无券消费：', len(no_cpon_consume))\n",
    "print('有券且消费：', len(cpon_consume))\n",
    "print('无券未消费：', len(no_cpon_no_consume))"
   ]
  },
  {
   "attachments": {},
   "cell_type": "markdown",
   "metadata": {},
   "source": [
    "            2.1.1 优惠券使用情况分析可视化\n",
    "        "
   ]
  },
  {
   "cell_type": "code",
   "execution_count": 13,
   "metadata": {},
   "outputs": [
    {
     "data": {
      "image/png": "[encoded data removed]",
      "text/plain": [
       "<Figure size 640x480 with 1 Axes>"
      ]
     },
     "metadata": {},
     "output_type": "display_data"
    }
   ],
   "source": [
    "plt.pie([len(cpon_no_consume), len(no_cpon_consume), len(cpon_consume), ], \n",
    "        labels=['有券未消费\\n{}'.format(len(cpon_no_consume)), \n",
    "                '无券消费\\n{}'.format(len(no_cpon_consume)), \n",
    "                '有券且消费\\n{}'.format(len(cpon_consume)),], \n",
    "        autopct='%1.1f%%',\n",
    "        shadow=True,\n",
    "        wedgeprops={'linewidth': 1, 'edgecolor': 'black'},\n",
    "        explode=[0.02, 0.05, 0.2],\n",
    "        )\n",
    "plt.legend(labels=['有券未消费', '有券且消费', '无券消费'], loc='best')\n",
    "plt.show()"
   ]
  },
  {
   "attachments": {},
   "cell_type": "markdown",
   "metadata": {},
   "source": [
    "            2.1.2 有券，距离和优惠折扣力度"
   ]
  },
  {
   "cell_type": "code",
   "execution_count": 14,
   "metadata": {},
   "outputs": [
    {
     "data": {
      "image/png": "[encoded data removed]",
      "text/plain": [
       "<Figure size 640x480 with 1 Axes>"
      ]
     },
     "metadata": {},
     "output_type": "display_data"
    }
   ],
   "source": [
    "Merchant_distance = cpon_consume.groupby('Merchant_id').Distance.mean()\n",
    "Merchant_distance.value_counts()\n",
    "Merchant_distance.plot(kind='hist', bins=11)\n",
    "plt.show()"
   ]
  },
  {
   "cell_type": "code",
   "execution_count": 15,
   "metadata": {},
   "outputs": [
    {
     "data": {
      "image/png": "[encoded data removed]",
      "text/plain": [
       "<Figure size 640x480 with 1 Axes>"
      ]
     },
     "metadata": {},
     "output_type": "display_data"
    },
    {
     "data": {
      "text/plain": [
       "0.882283800869223"
      ]
     },
     "execution_count": 15,
     "metadata": {},
     "output_type": "execute_result"
    }
   ],
   "source": [
    "Merchant_distance_rate = cpon_consume.groupby('Merchant_id').Discount_rate.mean()\n",
    "Merchant_distance_rate.sort_values()\n",
    "Merchant_distance_rate.hist(bins=10)\n",
    "plt.show()\n",
    "Merchant_distance_rate.mean() # 所有商家折扣平均值：0.88"
   ]
  },
  {
   "attachments": {},
   "cell_type": "markdown",
   "metadata": {},
   "source": [
    "            2.1.3 持券到店消费人数最多的商家"
   ]
  },
  {
   "cell_type": "code",
   "execution_count": 16,
   "metadata": {},
   "outputs": [
    {
     "data": {
      "text/html": [
       "<div>\n",
       "<style scoped>\n",
       "    .dataframe tbody tr th:only-of-type {\n",
       "        vertical-align: middle;\n",
       "    }\n",
       "\n",
       "    .dataframe tbody tr th {\n",
       "        vertical-align: top;\n",
       "    }\n",
       "\n",
       "    .dataframe thead th {\n",
       "        text-align: right;\n",
       "    }\n",
       "</style>\n",
       "<table border=\"1\" class=\"dataframe\">\n",
       "  <thead>\n",
       "    <tr style=\"text-align: right;\">\n",
       "      <th></th>\n",
       "      <th>User_id</th>\n",
       "      <th>Merchant_id</th>\n",
       "      <th>Coupon_id</th>\n",
       "      <th>Discount_rate</th>\n",
       "      <th>Distance</th>\n",
       "      <th>Date_received</th>\n",
       "      <th>Date</th>\n",
       "    </tr>\n",
       "  </thead>\n",
       "  <tbody>\n",
       "    <tr>\n",
       "      <th>6</th>\n",
       "      <td>1439408</td>\n",
       "      <td>2632</td>\n",
       "      <td>8591.0</td>\n",
       "      <td>0.95</td>\n",
       "      <td>0.0</td>\n",
       "      <td>2016-05-16</td>\n",
       "      <td>2016-06-13</td>\n",
       "    </tr>\n",
       "    <tr>\n",
       "      <th>33</th>\n",
       "      <td>1113008</td>\n",
       "      <td>1361</td>\n",
       "      <td>11166.0</td>\n",
       "      <td>0.95</td>\n",
       "      <td>0.0</td>\n",
       "      <td>2016-05-15</td>\n",
       "      <td>2016-05-21</td>\n",
       "    </tr>\n",
       "    <tr>\n",
       "      <th>38</th>\n",
       "      <td>2881376</td>\n",
       "      <td>8390</td>\n",
       "      <td>7531.0</td>\n",
       "      <td>0.75</td>\n",
       "      <td>0.0</td>\n",
       "      <td>2016-03-21</td>\n",
       "      <td>2016-03-29</td>\n",
       "    </tr>\n",
       "    <tr>\n",
       "      <th>69</th>\n",
       "      <td>114747</td>\n",
       "      <td>6901</td>\n",
       "      <td>2366.0</td>\n",
       "      <td>0.83</td>\n",
       "      <td>0.0</td>\n",
       "      <td>2016-05-23</td>\n",
       "      <td>2016-06-05</td>\n",
       "    </tr>\n",
       "    <tr>\n",
       "      <th>75</th>\n",
       "      <td>114747</td>\n",
       "      <td>5341</td>\n",
       "      <td>111.0</td>\n",
       "      <td>0.83</td>\n",
       "      <td>0.0</td>\n",
       "      <td>2016-01-27</td>\n",
       "      <td>2016-02-21</td>\n",
       "    </tr>\n",
       "    <tr>\n",
       "      <th>...</th>\n",
       "      <td>...</td>\n",
       "      <td>...</td>\n",
       "      <td>...</td>\n",
       "      <td>...</td>\n",
       "      <td>...</td>\n",
       "      <td>...</td>\n",
       "      <td>...</td>\n",
       "    </tr>\n",
       "    <tr>\n",
       "      <th>1048424</th>\n",
       "      <td>6068811</td>\n",
       "      <td>2099</td>\n",
       "      <td>12034.0</td>\n",
       "      <td>0.90</td>\n",
       "      <td>3.0</td>\n",
       "      <td>2016-01-25</td>\n",
       "      <td>2016-02-21</td>\n",
       "    </tr>\n",
       "    <tr>\n",
       "      <th>1048493</th>\n",
       "      <td>6145611</td>\n",
       "      <td>3381</td>\n",
       "      <td>11951.0</td>\n",
       "      <td>0.90</td>\n",
       "      <td>0.0</td>\n",
       "      <td>2016-01-29</td>\n",
       "      <td>2016-02-21</td>\n",
       "    </tr>\n",
       "    <tr>\n",
       "      <th>1048494</th>\n",
       "      <td>6151755</td>\n",
       "      <td>2036</td>\n",
       "      <td>3507.0</td>\n",
       "      <td>0.50</td>\n",
       "      <td>11.0</td>\n",
       "      <td>2016-05-16</td>\n",
       "      <td>2016-05-21</td>\n",
       "    </tr>\n",
       "    <tr>\n",
       "      <th>1048517</th>\n",
       "      <td>4854351</td>\n",
       "      <td>3532</td>\n",
       "      <td>883.0</td>\n",
       "      <td>0.90</td>\n",
       "      <td>0.0</td>\n",
       "      <td>2016-02-09</td>\n",
       "      <td>2016-02-28</td>\n",
       "    </tr>\n",
       "    <tr>\n",
       "      <th>1048570</th>\n",
       "      <td>5186127</td>\n",
       "      <td>4043</td>\n",
       "      <td>3996.0</td>\n",
       "      <td>0.83</td>\n",
       "      <td>1.0</td>\n",
       "      <td>2016-02-03</td>\n",
       "      <td>2016-02-10</td>\n",
       "    </tr>\n",
       "  </tbody>\n",
       "</table>\n",
       "<p>44966 rows × 7 columns</p>\n",
       "</div>"
      ],
      "text/plain": [
       "         User_id  Merchant_id  Coupon_id  Discount_rate  Distance  \\\n",
       "6        1439408         2632     8591.0           0.95       0.0   \n",
       "33       1113008         1361    11166.0           0.95       0.0   \n",
       "38       2881376         8390     7531.0           0.75       0.0   \n",
       "69        114747         6901     2366.0           0.83       0.0   \n",
       "75        114747         5341      111.0           0.83       0.0   \n",
       "...          ...          ...        ...            ...       ...   \n",
       "1048424  6068811         2099    12034.0           0.90       3.0   \n",
       "1048493  6145611         3381    11951.0           0.90       0.0   \n",
       "1048494  6151755         2036     3507.0           0.50      11.0   \n",
       "1048517  4854351         3532      883.0           0.90       0.0   \n",
       "1048570  5186127         4043     3996.0           0.83       1.0   \n",
       "\n",
       "        Date_received       Date  \n",
       "6          2016-05-16 2016-06-13  \n",
       "33         2016-05-15 2016-05-21  \n",
       "38         2016-03-21 2016-03-29  \n",
       "69         2016-05-23 2016-06-05  \n",
       "75         2016-01-27 2016-02-21  \n",
       "...               ...        ...  \n",
       "1048424    2016-01-25 2016-02-21  \n",
       "1048493    2016-01-29 2016-02-21  \n",
       "1048494    2016-05-16 2016-05-21  \n",
       "1048517    2016-02-09 2016-02-28  \n",
       "1048570    2016-02-03 2016-02-10  \n",
       "\n",
       "[44966 rows x 7 columns]"
      ]
     },
     "execution_count": 16,
     "metadata": {},
     "output_type": "execute_result"
    }
   ],
   "source": [
    "cpon_consume"
   ]
  },
  {
   "cell_type": "code",
   "execution_count": 17,
   "metadata": {},
   "outputs": [
    {
     "data": {
      "text/plain": [
       "Merchant_id\n",
       "5341    1652\n",
       "760     1527\n",
       "3381    1274\n",
       "6485    1198\n",
       "2099     845\n",
       "2934     812\n",
       "450      661\n",
       "7555     573\n",
       "3532     559\n",
       "1520     526\n",
       "4142     503\n",
       "6901     502\n",
       "Name: customer_count, dtype: int64"
      ]
     },
     "execution_count": 17,
     "metadata": {},
     "output_type": "execute_result"
    }
   ],
   "source": [
    "popular_merchant = cpon_consume.groupby('Merchant_id').User_id.nunique().sort_values(ascending=False)\n",
    "popular_merchant500 = popular_merchant[popular_merchant > 500]\n",
    "popular_merchant500.name = 'customer_count'\n",
    "popular_merchant500\n",
    "\n",
    "#共有16家店铺，持券消费人数在500人以上\n",
    "#持券消费人数最多商家是5341，持券消费人数在1652\n",
    "#排名最后的商家，持券消费人数未502人\n",
    "#这批商家对优惠券的使用方法得当，消费者喜欢用优惠券进行消费，可以适当借鉴这批商家的推广力度\n"
   ]
  },
  {
   "attachments": {},
   "cell_type": "markdown",
   "metadata": {},
   "source": [
    "            2.1.4 持券消费人数在500人以上的商家，连接顾客到店平均距离和平均折扣力度\n"
   ]
  },
  {
   "cell_type": "code",
   "execution_count": 18,
   "metadata": {},
   "outputs": [
    {
     "data": {
      "text/html": [
       "<div>\n",
       "<style scoped>\n",
       "    .dataframe tbody tr th:only-of-type {\n",
       "        vertical-align: middle;\n",
       "    }\n",
       "\n",
       "    .dataframe tbody tr th {\n",
       "        vertical-align: top;\n",
       "    }\n",
       "\n",
       "    .dataframe thead th {\n",
       "        text-align: right;\n",
       "    }\n",
       "</style>\n",
       "<table border=\"1\" class=\"dataframe\">\n",
       "  <thead>\n",
       "    <tr style=\"text-align: right;\">\n",
       "      <th></th>\n",
       "      <th>customer_count</th>\n",
       "      <th>Distance</th>\n",
       "      <th>Discount_rate</th>\n",
       "    </tr>\n",
       "    <tr>\n",
       "      <th>Merchant_id</th>\n",
       "      <th></th>\n",
       "      <th></th>\n",
       "      <th></th>\n",
       "    </tr>\n",
       "  </thead>\n",
       "  <tbody>\n",
       "    <tr>\n",
       "      <th>5341</th>\n",
       "      <td>1652</td>\n",
       "      <td>0.394471</td>\n",
       "      <td>0.825942</td>\n",
       "    </tr>\n",
       "    <tr>\n",
       "      <th>760</th>\n",
       "      <td>1527</td>\n",
       "      <td>0.850804</td>\n",
       "      <td>0.799251</td>\n",
       "    </tr>\n",
       "    <tr>\n",
       "      <th>3381</th>\n",
       "      <td>1274</td>\n",
       "      <td>1.982143</td>\n",
       "      <td>0.747143</td>\n",
       "    </tr>\n",
       "    <tr>\n",
       "      <th>6485</th>\n",
       "      <td>1198</td>\n",
       "      <td>1.231687</td>\n",
       "      <td>0.771763</td>\n",
       "    </tr>\n",
       "    <tr>\n",
       "      <th>2099</th>\n",
       "      <td>845</td>\n",
       "      <td>1.173700</td>\n",
       "      <td>0.900000</td>\n",
       "    </tr>\n",
       "    <tr>\n",
       "      <th>2934</th>\n",
       "      <td>812</td>\n",
       "      <td>2.040201</td>\n",
       "      <td>0.830000</td>\n",
       "    </tr>\n",
       "    <tr>\n",
       "      <th>450</th>\n",
       "      <td>661</td>\n",
       "      <td>1.370034</td>\n",
       "      <td>0.819921</td>\n",
       "    </tr>\n",
       "    <tr>\n",
       "      <th>7555</th>\n",
       "      <td>573</td>\n",
       "      <td>1.807461</td>\n",
       "      <td>0.828123</td>\n",
       "    </tr>\n",
       "    <tr>\n",
       "      <th>3532</th>\n",
       "      <td>559</td>\n",
       "      <td>1.387483</td>\n",
       "      <td>0.852250</td>\n",
       "    </tr>\n",
       "    <tr>\n",
       "      <th>1520</th>\n",
       "      <td>526</td>\n",
       "      <td>11.000000</td>\n",
       "      <td>0.925420</td>\n",
       "    </tr>\n",
       "    <tr>\n",
       "      <th>4142</th>\n",
       "      <td>503</td>\n",
       "      <td>0.813441</td>\n",
       "      <td>0.900000</td>\n",
       "    </tr>\n",
       "    <tr>\n",
       "      <th>6901</th>\n",
       "      <td>502</td>\n",
       "      <td>0.942177</td>\n",
       "      <td>0.834949</td>\n",
       "    </tr>\n",
       "  </tbody>\n",
       "</table>\n",
       "</div>"
      ],
      "text/plain": [
       "             customer_count   Distance  Discount_rate\n",
       "Merchant_id                                          \n",
       "5341                   1652   0.394471       0.825942\n",
       "760                    1527   0.850804       0.799251\n",
       "3381                   1274   1.982143       0.747143\n",
       "6485                   1198   1.231687       0.771763\n",
       "2099                    845   1.173700       0.900000\n",
       "2934                    812   2.040201       0.830000\n",
       "450                     661   1.370034       0.819921\n",
       "7555                    573   1.807461       0.828123\n",
       "3532                    559   1.387483       0.852250\n",
       "1520                    526  11.000000       0.925420\n",
       "4142                    503   0.813441       0.900000\n",
       "6901                    502   0.942177       0.834949"
      ]
     },
     "execution_count": 18,
     "metadata": {},
     "output_type": "execute_result"
    }
   ],
   "source": [
    "merge1 = pd.merge(popular_merchant500, Merchant_distance, on='Merchant_id', how='inner')\n",
    "merchant_pop_dis_rate = pd.merge(merge1, Merchant_distance_rate, on='Merchant_id', how='inner')\n",
    "merchant_pop_dis_rate"
   ]
  },
  {
   "attachments": {},
   "cell_type": "markdown",
   "metadata": {},
   "source": [
    "            2.1.5 计算到店消费人数与平均距离和折扣力度的相关系数"
   ]
  },
  {
   "cell_type": "code",
   "execution_count": 19,
   "metadata": {},
   "outputs": [
    {
     "data": {
      "text/html": [
       "<div>\n",
       "<style scoped>\n",
       "    .dataframe tbody tr th:only-of-type {\n",
       "        vertical-align: middle;\n",
       "    }\n",
       "\n",
       "    .dataframe tbody tr th {\n",
       "        vertical-align: top;\n",
       "    }\n",
       "\n",
       "    .dataframe thead th {\n",
       "        text-align: right;\n",
       "    }\n",
       "</style>\n",
       "<table border=\"1\" class=\"dataframe\">\n",
       "  <thead>\n",
       "    <tr style=\"text-align: right;\">\n",
       "      <th></th>\n",
       "      <th>customer_count</th>\n",
       "      <th>Distance</th>\n",
       "      <th>Discount_rate</th>\n",
       "    </tr>\n",
       "  </thead>\n",
       "  <tbody>\n",
       "    <tr>\n",
       "      <th>customer_count</th>\n",
       "      <td>1.000000</td>\n",
       "      <td>-0.316434</td>\n",
       "      <td>-0.593229</td>\n",
       "    </tr>\n",
       "    <tr>\n",
       "      <th>Distance</th>\n",
       "      <td>-0.316434</td>\n",
       "      <td>1.000000</td>\n",
       "      <td>0.478608</td>\n",
       "    </tr>\n",
       "    <tr>\n",
       "      <th>Discount_rate</th>\n",
       "      <td>-0.593229</td>\n",
       "      <td>0.478608</td>\n",
       "      <td>1.000000</td>\n",
       "    </tr>\n",
       "  </tbody>\n",
       "</table>\n",
       "</div>"
      ],
      "text/plain": [
       "                customer_count  Distance  Discount_rate\n",
       "customer_count        1.000000 -0.316434      -0.593229\n",
       "Distance             -0.316434  1.000000       0.478608\n",
       "Discount_rate        -0.593229  0.478608       1.000000"
      ]
     },
     "execution_count": 19,
     "metadata": {},
     "output_type": "execute_result"
    }
   ],
   "source": [
    "merchant_pop_dis_rate.corr()\n",
    "#持券消费人数，与距离和目关，属于生活中的正常现象"
   ]
  },
  {
   "cell_type": "code",
   "execution_count": 20,
   "metadata": {},
   "outputs": [
    {
     "data": {
      "image/png": "[encoded data removed]",
      "text/plain": [
       "<Figure size 640x480 with 2 Axes>"
      ]
     },
     "metadata": {},
     "output_type": "display_data"
    }
   ],
   "source": [
    "sns.heatmap(merchant_pop_dis_rate.corr(), annot=True, cmap='Reds', vmax=1, vmin=-1, linewidths=0.2)\n",
    "plt.show()"
   ]
  },
  {
   "cell_type": "code",
   "execution_count": 21,
   "metadata": {},
   "outputs": [],
   "source": [
    "# 由图可知:  \n",
    "#1.到店消费人数的多少与顾客到店铺的距离之间呈现负相关，相关系数0.31，在0.3~0.5之间，为低度相关  \n",
    "#2.到店消费人数的多少与优惠打折力度呈现负相关，相关系数E.2，在0~0.3之间，为相关程度极弱  \n",
    "#综上所述，这些店家之所以火爆，应该是物美价廉导致，与距离和优惠力度相关性不大  "
   ]
  },
  {
   "attachments": {},
   "cell_type": "markdown",
   "metadata": {},
   "source": [
    "            2.1.7 分析每天中优惠券的总体发放量与使用量情况"
   ]
  },
  {
   "cell_type": "code",
   "execution_count": 22,
   "metadata": {},
   "outputs": [
    {
     "data": {
      "text/html": [
       "<div>\n",
       "<style scoped>\n",
       "    .dataframe tbody tr th:only-of-type {\n",
       "        vertical-align: middle;\n",
       "    }\n",
       "\n",
       "    .dataframe tbody tr th {\n",
       "        vertical-align: top;\n",
       "    }\n",
       "\n",
       "    .dataframe thead th {\n",
       "        text-align: right;\n",
       "    }\n",
       "</style>\n",
       "<table border=\"1\" class=\"dataframe\">\n",
       "  <thead>\n",
       "    <tr style=\"text-align: right;\">\n",
       "      <th></th>\n",
       "      <th>User_id</th>\n",
       "      <th>Merchant_id</th>\n",
       "      <th>Coupon_id</th>\n",
       "      <th>Discount_rate</th>\n",
       "      <th>Distance</th>\n",
       "      <th>Date_received</th>\n",
       "      <th>Date</th>\n",
       "    </tr>\n",
       "  </thead>\n",
       "  <tbody>\n",
       "    <tr>\n",
       "      <th>0</th>\n",
       "      <td>1439408</td>\n",
       "      <td>2632</td>\n",
       "      <td>NaN</td>\n",
       "      <td>NaN</td>\n",
       "      <td>0.0</td>\n",
       "      <td>NaT</td>\n",
       "      <td>2016-02-17</td>\n",
       "    </tr>\n",
       "    <tr>\n",
       "      <th>1</th>\n",
       "      <td>1439408</td>\n",
       "      <td>4663</td>\n",
       "      <td>11002.0</td>\n",
       "      <td>0.87</td>\n",
       "      <td>1.0</td>\n",
       "      <td>2016-05-28</td>\n",
       "      <td>NaT</td>\n",
       "    </tr>\n",
       "    <tr>\n",
       "      <th>2</th>\n",
       "      <td>1439408</td>\n",
       "      <td>2632</td>\n",
       "      <td>8591.0</td>\n",
       "      <td>0.95</td>\n",
       "      <td>0.0</td>\n",
       "      <td>2016-02-17</td>\n",
       "      <td>NaT</td>\n",
       "    </tr>\n",
       "    <tr>\n",
       "      <th>3</th>\n",
       "      <td>1439408</td>\n",
       "      <td>2632</td>\n",
       "      <td>1078.0</td>\n",
       "      <td>0.95</td>\n",
       "      <td>0.0</td>\n",
       "      <td>2016-03-19</td>\n",
       "      <td>NaT</td>\n",
       "    </tr>\n",
       "    <tr>\n",
       "      <th>4</th>\n",
       "      <td>1439408</td>\n",
       "      <td>2632</td>\n",
       "      <td>8591.0</td>\n",
       "      <td>0.95</td>\n",
       "      <td>0.0</td>\n",
       "      <td>2016-06-13</td>\n",
       "      <td>NaT</td>\n",
       "    </tr>\n",
       "  </tbody>\n",
       "</table>\n",
       "</div>"
      ],
      "text/plain": [
       "   User_id  Merchant_id  Coupon_id  Discount_rate  Distance Date_received  \\\n",
       "0  1439408         2632        NaN            NaN       0.0           NaT   \n",
       "1  1439408         4663    11002.0           0.87       1.0    2016-05-28   \n",
       "2  1439408         2632     8591.0           0.95       0.0    2016-02-17   \n",
       "3  1439408         2632     1078.0           0.95       0.0    2016-03-19   \n",
       "4  1439408         2632     8591.0           0.95       0.0    2016-06-13   \n",
       "\n",
       "        Date  \n",
       "0 2016-02-17  \n",
       "1        NaT  \n",
       "2        NaT  \n",
       "3        NaT  \n",
       "4        NaT  "
      ]
     },
     "execution_count": 22,
     "metadata": {},
     "output_type": "execute_result"
    }
   ],
   "source": [
    "offline.head(5)"
   ]
  },
  {
   "cell_type": "code",
   "execution_count": 23,
   "metadata": {},
   "outputs": [
    {
     "data": {
      "text/plain": [
       "463717"
      ]
     },
     "execution_count": 23,
     "metadata": {},
     "output_type": "execute_result"
    }
   ],
   "source": [
    "offline.Date.notna().sum()"
   ]
  },
  {
   "cell_type": "code",
   "execution_count": 24,
   "metadata": {},
   "outputs": [
    {
     "data": {
      "text/plain": [
       "629824"
      ]
     },
     "execution_count": 24,
     "metadata": {},
     "output_type": "execute_result"
    }
   ],
   "source": [
    "offline.Date_received.notna().sum()"
   ]
  },
  {
   "cell_type": "code",
   "execution_count": 25,
   "metadata": {},
   "outputs": [
    {
     "data": {
      "text/plain": [
       "array(['2016-01-01T00:00:00.000000000', '2016-01-02T00:00:00.000000000',\n",
       "       '2016-01-03T00:00:00.000000000', '2016-01-04T00:00:00.000000000',\n",
       "       '2016-01-05T00:00:00.000000000', '2016-01-06T00:00:00.000000000',\n",
       "       '2016-01-07T00:00:00.000000000', '2016-01-08T00:00:00.000000000',\n",
       "       '2016-01-09T00:00:00.000000000', '2016-01-10T00:00:00.000000000',\n",
       "       '2016-01-11T00:00:00.000000000', '2016-01-12T00:00:00.000000000',\n",
       "       '2016-01-13T00:00:00.000000000', '2016-01-14T00:00:00.000000000',\n",
       "       '2016-01-15T00:00:00.000000000', '2016-01-16T00:00:00.000000000',\n",
       "       '2016-01-17T00:00:00.000000000', '2016-01-18T00:00:00.000000000',\n",
       "       '2016-01-19T00:00:00.000000000', '2016-01-20T00:00:00.000000000',\n",
       "       '2016-01-21T00:00:00.000000000', '2016-01-22T00:00:00.000000000',\n",
       "       '2016-01-23T00:00:00.000000000', '2016-01-24T00:00:00.000000000',\n",
       "       '2016-01-25T00:00:00.000000000', '2016-01-26T00:00:00.000000000',\n",
       "       '2016-01-27T00:00:00.000000000', '2016-01-28T00:00:00.000000000',\n",
       "       '2016-01-29T00:00:00.000000000', '2016-01-30T00:00:00.000000000',\n",
       "       '2016-01-31T00:00:00.000000000', '2016-02-01T00:00:00.000000000',\n",
       "       '2016-02-02T00:00:00.000000000', '2016-02-03T00:00:00.000000000',\n",
       "       '2016-02-04T00:00:00.000000000', '2016-02-05T00:00:00.000000000',\n",
       "       '2016-02-06T00:00:00.000000000', '2016-02-07T00:00:00.000000000',\n",
       "       '2016-02-08T00:00:00.000000000', '2016-02-09T00:00:00.000000000',\n",
       "       '2016-02-10T00:00:00.000000000', '2016-02-11T00:00:00.000000000',\n",
       "       '2016-02-12T00:00:00.000000000', '2016-02-13T00:00:00.000000000',\n",
       "       '2016-02-14T00:00:00.000000000', '2016-02-15T00:00:00.000000000',\n",
       "       '2016-02-16T00:00:00.000000000', '2016-02-17T00:00:00.000000000',\n",
       "       '2016-02-18T00:00:00.000000000', '2016-02-19T00:00:00.000000000',\n",
       "       '2016-02-20T00:00:00.000000000', '2016-02-21T00:00:00.000000000',\n",
       "       '2016-02-22T00:00:00.000000000', '2016-02-23T00:00:00.000000000',\n",
       "       '2016-02-24T00:00:00.000000000', '2016-02-25T00:00:00.000000000',\n",
       "       '2016-02-26T00:00:00.000000000', '2016-02-27T00:00:00.000000000',\n",
       "       '2016-02-28T00:00:00.000000000', '2016-02-29T00:00:00.000000000',\n",
       "       '2016-03-01T00:00:00.000000000', '2016-03-02T00:00:00.000000000',\n",
       "       '2016-03-03T00:00:00.000000000', '2016-03-04T00:00:00.000000000',\n",
       "       '2016-03-05T00:00:00.000000000', '2016-03-06T00:00:00.000000000',\n",
       "       '2016-03-07T00:00:00.000000000', '2016-03-08T00:00:00.000000000',\n",
       "       '2016-03-09T00:00:00.000000000', '2016-03-10T00:00:00.000000000',\n",
       "       '2016-03-11T00:00:00.000000000', '2016-03-12T00:00:00.000000000',\n",
       "       '2016-03-13T00:00:00.000000000', '2016-03-14T00:00:00.000000000',\n",
       "       '2016-03-15T00:00:00.000000000', '2016-03-16T00:00:00.000000000',\n",
       "       '2016-03-17T00:00:00.000000000', '2016-03-18T00:00:00.000000000',\n",
       "       '2016-03-19T00:00:00.000000000', '2016-03-20T00:00:00.000000000',\n",
       "       '2016-03-21T00:00:00.000000000', '2016-03-22T00:00:00.000000000',\n",
       "       '2016-03-23T00:00:00.000000000', '2016-03-24T00:00:00.000000000',\n",
       "       '2016-03-25T00:00:00.000000000', '2016-03-26T00:00:00.000000000',\n",
       "       '2016-03-27T00:00:00.000000000', '2016-03-28T00:00:00.000000000',\n",
       "       '2016-03-29T00:00:00.000000000', '2016-03-30T00:00:00.000000000',\n",
       "       '2016-03-31T00:00:00.000000000', '2016-04-01T00:00:00.000000000',\n",
       "       '2016-04-02T00:00:00.000000000', '2016-04-03T00:00:00.000000000',\n",
       "       '2016-04-04T00:00:00.000000000', '2016-04-05T00:00:00.000000000',\n",
       "       '2016-04-06T00:00:00.000000000', '2016-04-07T00:00:00.000000000',\n",
       "       '2016-04-08T00:00:00.000000000', '2016-04-09T00:00:00.000000000',\n",
       "       '2016-04-10T00:00:00.000000000', '2016-04-11T00:00:00.000000000',\n",
       "       '2016-04-12T00:00:00.000000000', '2016-04-13T00:00:00.000000000',\n",
       "       '2016-04-14T00:00:00.000000000', '2016-04-15T00:00:00.000000000',\n",
       "       '2016-04-16T00:00:00.000000000', '2016-04-17T00:00:00.000000000',\n",
       "       '2016-04-18T00:00:00.000000000', '2016-04-19T00:00:00.000000000',\n",
       "       '2016-04-20T00:00:00.000000000', '2016-04-21T00:00:00.000000000',\n",
       "       '2016-04-22T00:00:00.000000000', '2016-04-23T00:00:00.000000000',\n",
       "       '2016-04-24T00:00:00.000000000', '2016-04-25T00:00:00.000000000',\n",
       "       '2016-04-26T00:00:00.000000000', '2016-04-27T00:00:00.000000000',\n",
       "       '2016-04-28T00:00:00.000000000', '2016-04-29T00:00:00.000000000',\n",
       "       '2016-04-30T00:00:00.000000000', '2016-05-01T00:00:00.000000000',\n",
       "       '2016-05-02T00:00:00.000000000', '2016-05-03T00:00:00.000000000',\n",
       "       '2016-05-04T00:00:00.000000000', '2016-05-05T00:00:00.000000000',\n",
       "       '2016-05-06T00:00:00.000000000', '2016-05-07T00:00:00.000000000',\n",
       "       '2016-05-08T00:00:00.000000000', '2016-05-09T00:00:00.000000000',\n",
       "       '2016-05-10T00:00:00.000000000', '2016-05-11T00:00:00.000000000',\n",
       "       '2016-05-12T00:00:00.000000000', '2016-05-13T00:00:00.000000000',\n",
       "       '2016-05-14T00:00:00.000000000', '2016-05-15T00:00:00.000000000',\n",
       "       '2016-05-16T00:00:00.000000000', '2016-05-17T00:00:00.000000000',\n",
       "       '2016-05-18T00:00:00.000000000', '2016-05-19T00:00:00.000000000',\n",
       "       '2016-05-20T00:00:00.000000000', '2016-05-21T00:00:00.000000000',\n",
       "       '2016-05-22T00:00:00.000000000', '2016-05-23T00:00:00.000000000',\n",
       "       '2016-05-24T00:00:00.000000000', '2016-05-25T00:00:00.000000000',\n",
       "       '2016-05-26T00:00:00.000000000', '2016-05-27T00:00:00.000000000',\n",
       "       '2016-05-28T00:00:00.000000000', '2016-05-29T00:00:00.000000000',\n",
       "       '2016-05-30T00:00:00.000000000', '2016-05-31T00:00:00.000000000',\n",
       "       '2016-06-01T00:00:00.000000000', '2016-06-02T00:00:00.000000000',\n",
       "       '2016-06-03T00:00:00.000000000', '2016-06-04T00:00:00.000000000',\n",
       "       '2016-06-05T00:00:00.000000000', '2016-06-06T00:00:00.000000000',\n",
       "       '2016-06-07T00:00:00.000000000', '2016-06-08T00:00:00.000000000',\n",
       "       '2016-06-09T00:00:00.000000000', '2016-06-10T00:00:00.000000000',\n",
       "       '2016-06-11T00:00:00.000000000', '2016-06-12T00:00:00.000000000',\n",
       "       '2016-06-13T00:00:00.000000000', '2016-06-14T00:00:00.000000000',\n",
       "       '2016-06-15T00:00:00.000000000', '2016-06-16T00:00:00.000000000',\n",
       "       '2016-06-17T00:00:00.000000000', '2016-06-18T00:00:00.000000000',\n",
       "       '2016-06-19T00:00:00.000000000', '2016-06-20T00:00:00.000000000',\n",
       "       '2016-06-21T00:00:00.000000000', '2016-06-22T00:00:00.000000000',\n",
       "       '2016-06-23T00:00:00.000000000', '2016-06-24T00:00:00.000000000',\n",
       "       '2016-06-25T00:00:00.000000000', '2016-06-26T00:00:00.000000000',\n",
       "       '2016-06-27T00:00:00.000000000', '2016-06-28T00:00:00.000000000',\n",
       "       '2016-06-29T00:00:00.000000000', '2016-06-30T00:00:00.000000000'],\n",
       "      dtype='datetime64[ns]')"
      ]
     },
     "execution_count": 25,
     "metadata": {},
     "output_type": "execute_result"
    }
   ],
   "source": [
    "date_sort = offline[offline.Date.notna()].Date.sort_values().unique()\n",
    "date_sort"
   ]
  },
  {
   "cell_type": "code",
   "execution_count": 26,
   "metadata": {},
   "outputs": [
    {
     "data": {
      "text/plain": [
       "array(['2016-01-01T00:00:00.000000000', '2016-01-02T00:00:00.000000000',\n",
       "       '2016-01-03T00:00:00.000000000', '2016-01-04T00:00:00.000000000',\n",
       "       '2016-01-05T00:00:00.000000000', '2016-01-06T00:00:00.000000000',\n",
       "       '2016-01-07T00:00:00.000000000', '2016-01-08T00:00:00.000000000',\n",
       "       '2016-01-09T00:00:00.000000000', '2016-01-10T00:00:00.000000000',\n",
       "       '2016-01-11T00:00:00.000000000', '2016-01-12T00:00:00.000000000',\n",
       "       '2016-01-13T00:00:00.000000000', '2016-01-14T00:00:00.000000000',\n",
       "       '2016-01-15T00:00:00.000000000', '2016-01-16T00:00:00.000000000',\n",
       "       '2016-01-17T00:00:00.000000000', '2016-01-18T00:00:00.000000000',\n",
       "       '2016-01-19T00:00:00.000000000', '2016-01-20T00:00:00.000000000',\n",
       "       '2016-01-21T00:00:00.000000000', '2016-01-22T00:00:00.000000000',\n",
       "       '2016-01-23T00:00:00.000000000', '2016-01-24T00:00:00.000000000',\n",
       "       '2016-01-25T00:00:00.000000000', '2016-01-26T00:00:00.000000000',\n",
       "       '2016-01-27T00:00:00.000000000', '2016-01-28T00:00:00.000000000',\n",
       "       '2016-01-29T00:00:00.000000000', '2016-01-30T00:00:00.000000000',\n",
       "       '2016-01-31T00:00:00.000000000', '2016-02-01T00:00:00.000000000',\n",
       "       '2016-02-02T00:00:00.000000000', '2016-02-03T00:00:00.000000000',\n",
       "       '2016-02-04T00:00:00.000000000', '2016-02-05T00:00:00.000000000',\n",
       "       '2016-02-06T00:00:00.000000000', '2016-02-07T00:00:00.000000000',\n",
       "       '2016-02-08T00:00:00.000000000', '2016-02-09T00:00:00.000000000',\n",
       "       '2016-02-10T00:00:00.000000000', '2016-02-11T00:00:00.000000000',\n",
       "       '2016-02-12T00:00:00.000000000', '2016-02-13T00:00:00.000000000',\n",
       "       '2016-02-14T00:00:00.000000000', '2016-02-15T00:00:00.000000000',\n",
       "       '2016-02-16T00:00:00.000000000', '2016-02-17T00:00:00.000000000',\n",
       "       '2016-02-18T00:00:00.000000000', '2016-02-19T00:00:00.000000000',\n",
       "       '2016-02-20T00:00:00.000000000', '2016-02-21T00:00:00.000000000',\n",
       "       '2016-02-22T00:00:00.000000000', '2016-02-23T00:00:00.000000000',\n",
       "       '2016-02-24T00:00:00.000000000', '2016-02-25T00:00:00.000000000',\n",
       "       '2016-02-26T00:00:00.000000000', '2016-02-27T00:00:00.000000000',\n",
       "       '2016-02-28T00:00:00.000000000', '2016-02-29T00:00:00.000000000',\n",
       "       '2016-03-01T00:00:00.000000000', '2016-03-02T00:00:00.000000000',\n",
       "       '2016-03-03T00:00:00.000000000', '2016-03-04T00:00:00.000000000',\n",
       "       '2016-03-05T00:00:00.000000000', '2016-03-06T00:00:00.000000000',\n",
       "       '2016-03-07T00:00:00.000000000', '2016-03-08T00:00:00.000000000',\n",
       "       '2016-03-09T00:00:00.000000000', '2016-03-10T00:00:00.000000000',\n",
       "       '2016-03-11T00:00:00.000000000', '2016-03-12T00:00:00.000000000',\n",
       "       '2016-03-13T00:00:00.000000000', '2016-03-14T00:00:00.000000000',\n",
       "       '2016-03-15T00:00:00.000000000', '2016-03-16T00:00:00.000000000',\n",
       "       '2016-03-17T00:00:00.000000000', '2016-03-18T00:00:00.000000000',\n",
       "       '2016-03-19T00:00:00.000000000', '2016-03-20T00:00:00.000000000',\n",
       "       '2016-03-21T00:00:00.000000000', '2016-03-22T00:00:00.000000000',\n",
       "       '2016-03-23T00:00:00.000000000', '2016-03-24T00:00:00.000000000',\n",
       "       '2016-03-25T00:00:00.000000000', '2016-03-26T00:00:00.000000000',\n",
       "       '2016-03-27T00:00:00.000000000', '2016-03-28T00:00:00.000000000',\n",
       "       '2016-03-29T00:00:00.000000000', '2016-03-30T00:00:00.000000000',\n",
       "       '2016-03-31T00:00:00.000000000', '2016-04-01T00:00:00.000000000',\n",
       "       '2016-04-02T00:00:00.000000000', '2016-04-03T00:00:00.000000000',\n",
       "       '2016-04-04T00:00:00.000000000', '2016-04-05T00:00:00.000000000',\n",
       "       '2016-04-06T00:00:00.000000000', '2016-04-07T00:00:00.000000000',\n",
       "       '2016-04-08T00:00:00.000000000', '2016-04-09T00:00:00.000000000',\n",
       "       '2016-04-10T00:00:00.000000000', '2016-04-11T00:00:00.000000000',\n",
       "       '2016-04-12T00:00:00.000000000', '2016-04-13T00:00:00.000000000',\n",
       "       '2016-04-14T00:00:00.000000000', '2016-04-15T00:00:00.000000000',\n",
       "       '2016-04-16T00:00:00.000000000', '2016-04-17T00:00:00.000000000',\n",
       "       '2016-04-18T00:00:00.000000000', '2016-04-19T00:00:00.000000000',\n",
       "       '2016-04-20T00:00:00.000000000', '2016-04-21T00:00:00.000000000',\n",
       "       '2016-04-22T00:00:00.000000000', '2016-04-23T00:00:00.000000000',\n",
       "       '2016-04-24T00:00:00.000000000', '2016-04-25T00:00:00.000000000',\n",
       "       '2016-04-26T00:00:00.000000000', '2016-04-27T00:00:00.000000000',\n",
       "       '2016-04-28T00:00:00.000000000', '2016-04-29T00:00:00.000000000',\n",
       "       '2016-04-30T00:00:00.000000000', '2016-05-01T00:00:00.000000000',\n",
       "       '2016-05-02T00:00:00.000000000', '2016-05-03T00:00:00.000000000',\n",
       "       '2016-05-04T00:00:00.000000000', '2016-05-05T00:00:00.000000000',\n",
       "       '2016-05-06T00:00:00.000000000', '2016-05-07T00:00:00.000000000',\n",
       "       '2016-05-08T00:00:00.000000000', '2016-05-09T00:00:00.000000000',\n",
       "       '2016-05-10T00:00:00.000000000', '2016-05-11T00:00:00.000000000',\n",
       "       '2016-05-12T00:00:00.000000000', '2016-05-13T00:00:00.000000000',\n",
       "       '2016-05-14T00:00:00.000000000', '2016-05-15T00:00:00.000000000',\n",
       "       '2016-05-16T00:00:00.000000000', '2016-05-17T00:00:00.000000000',\n",
       "       '2016-05-18T00:00:00.000000000', '2016-05-19T00:00:00.000000000',\n",
       "       '2016-05-20T00:00:00.000000000', '2016-05-21T00:00:00.000000000',\n",
       "       '2016-05-22T00:00:00.000000000', '2016-05-23T00:00:00.000000000',\n",
       "       '2016-05-24T00:00:00.000000000', '2016-05-25T00:00:00.000000000',\n",
       "       '2016-05-26T00:00:00.000000000', '2016-05-27T00:00:00.000000000',\n",
       "       '2016-05-28T00:00:00.000000000', '2016-05-29T00:00:00.000000000',\n",
       "       '2016-05-30T00:00:00.000000000', '2016-05-31T00:00:00.000000000',\n",
       "       '2016-06-01T00:00:00.000000000', '2016-06-02T00:00:00.000000000',\n",
       "       '2016-06-03T00:00:00.000000000', '2016-06-04T00:00:00.000000000',\n",
       "       '2016-06-05T00:00:00.000000000', '2016-06-06T00:00:00.000000000',\n",
       "       '2016-06-07T00:00:00.000000000', '2016-06-08T00:00:00.000000000',\n",
       "       '2016-06-09T00:00:00.000000000', '2016-06-10T00:00:00.000000000',\n",
       "       '2016-06-11T00:00:00.000000000', '2016-06-12T00:00:00.000000000',\n",
       "       '2016-06-13T00:00:00.000000000', '2016-06-14T00:00:00.000000000',\n",
       "       '2016-06-15T00:00:00.000000000', '2016-06-16T00:00:00.000000000',\n",
       "       '2016-06-17T00:00:00.000000000', '2016-06-18T00:00:00.000000000',\n",
       "       '2016-06-19T00:00:00.000000000', '2016-06-20T00:00:00.000000000',\n",
       "       '2016-06-21T00:00:00.000000000', '2016-06-22T00:00:00.000000000',\n",
       "       '2016-06-23T00:00:00.000000000', '2016-06-24T00:00:00.000000000',\n",
       "       '2016-06-25T00:00:00.000000000', '2016-06-26T00:00:00.000000000',\n",
       "       '2016-06-27T00:00:00.000000000', '2016-06-28T00:00:00.000000000',\n",
       "       '2016-06-29T00:00:00.000000000', '2016-06-30T00:00:00.000000000',\n",
       "                                 'NaT'], dtype='datetime64[ns]')"
      ]
     },
     "execution_count": 26,
     "metadata": {},
     "output_type": "execute_result"
    }
   ],
   "source": [
    "date_received_sort = offline[offline.Date_received.notnull()].Date.sort_values().unique()\n",
    "date_received_sort"
   ]
  },
  {
   "cell_type": "code",
   "execution_count": 27,
   "metadata": {},
   "outputs": [
    {
     "data": {
      "text/html": [
       "<div>\n",
       "<style scoped>\n",
       "    .dataframe tbody tr th:only-of-type {\n",
       "        vertical-align: middle;\n",
       "    }\n",
       "\n",
       "    .dataframe tbody tr th {\n",
       "        vertical-align: top;\n",
       "    }\n",
       "\n",
       "    .dataframe thead th {\n",
       "        text-align: right;\n",
       "    }\n",
       "</style>\n",
       "<table border=\"1\" class=\"dataframe\">\n",
       "  <thead>\n",
       "    <tr style=\"text-align: right;\">\n",
       "      <th></th>\n",
       "      <th>count</th>\n",
       "    </tr>\n",
       "    <tr>\n",
       "      <th>Date_received</th>\n",
       "      <th></th>\n",
       "    </tr>\n",
       "  </thead>\n",
       "  <tbody>\n",
       "    <tr>\n",
       "      <th>2016-01-01</th>\n",
       "      <td>48</td>\n",
       "    </tr>\n",
       "    <tr>\n",
       "      <th>2016-01-02</th>\n",
       "      <td>43</td>\n",
       "    </tr>\n",
       "    <tr>\n",
       "      <th>2016-01-03</th>\n",
       "      <td>49</td>\n",
       "    </tr>\n",
       "    <tr>\n",
       "      <th>2016-01-04</th>\n",
       "      <td>60</td>\n",
       "    </tr>\n",
       "    <tr>\n",
       "      <th>2016-01-05</th>\n",
       "      <td>68</td>\n",
       "    </tr>\n",
       "    <tr>\n",
       "      <th>...</th>\n",
       "      <td>...</td>\n",
       "    </tr>\n",
       "    <tr>\n",
       "      <th>2016-06-11</th>\n",
       "      <td>210</td>\n",
       "    </tr>\n",
       "    <tr>\n",
       "      <th>2016-06-12</th>\n",
       "      <td>199</td>\n",
       "    </tr>\n",
       "    <tr>\n",
       "      <th>2016-06-13</th>\n",
       "      <td>275</td>\n",
       "    </tr>\n",
       "    <tr>\n",
       "      <th>2016-06-14</th>\n",
       "      <td>239</td>\n",
       "    </tr>\n",
       "    <tr>\n",
       "      <th>2016-06-15</th>\n",
       "      <td>227</td>\n",
       "    </tr>\n",
       "  </tbody>\n",
       "</table>\n",
       "<p>167 rows × 1 columns</p>\n",
       "</div>"
      ],
      "text/plain": [
       "               count\n",
       "Date_received       \n",
       "2016-01-01        48\n",
       "2016-01-02        43\n",
       "2016-01-03        49\n",
       "2016-01-04        60\n",
       "2016-01-05        68\n",
       "...              ...\n",
       "2016-06-11       210\n",
       "2016-06-12       199\n",
       "2016-06-13       275\n",
       "2016-06-14       239\n",
       "2016-06-15       227\n",
       "\n",
       "[167 rows x 1 columns]"
      ]
     },
     "execution_count": 27,
     "metadata": {},
     "output_type": "execute_result"
    }
   ],
   "source": [
    "consume_num_everday = cpon_consume[['User_id', 'Date_received']]\n",
    "consume_num_everday = consume_num_everday.groupby('Date_received').count()\n",
    "consume_num_everday = consume_num_everday.rename(columns={'User_id': 'count'})\n",
    "consume_num_everday"
   ]
  },
  {
   "cell_type": "code",
   "execution_count": 28,
   "metadata": {},
   "outputs": [
    {
     "data": {
      "text/plain": [
       "array(['2016-01-01T00:00:00.000000000', '2016-01-02T00:00:00.000000000',\n",
       "       '2016-01-03T00:00:00.000000000', '2016-01-04T00:00:00.000000000',\n",
       "       '2016-01-05T00:00:00.000000000', '2016-01-06T00:00:00.000000000',\n",
       "       '2016-01-07T00:00:00.000000000', '2016-01-08T00:00:00.000000000',\n",
       "       '2016-01-09T00:00:00.000000000', '2016-01-10T00:00:00.000000000',\n",
       "       '2016-01-11T00:00:00.000000000', '2016-01-12T00:00:00.000000000',\n",
       "       '2016-01-13T00:00:00.000000000', '2016-01-14T00:00:00.000000000',\n",
       "       '2016-01-15T00:00:00.000000000', '2016-01-16T00:00:00.000000000',\n",
       "       '2016-01-17T00:00:00.000000000', '2016-01-18T00:00:00.000000000',\n",
       "       '2016-01-19T00:00:00.000000000', '2016-01-20T00:00:00.000000000',\n",
       "       '2016-01-21T00:00:00.000000000', '2016-01-22T00:00:00.000000000',\n",
       "       '2016-01-23T00:00:00.000000000', '2016-01-24T00:00:00.000000000',\n",
       "       '2016-01-25T00:00:00.000000000', '2016-01-26T00:00:00.000000000',\n",
       "       '2016-01-27T00:00:00.000000000', '2016-01-28T00:00:00.000000000',\n",
       "       '2016-01-29T00:00:00.000000000', '2016-01-30T00:00:00.000000000',\n",
       "       '2016-01-31T00:00:00.000000000', '2016-02-01T00:00:00.000000000',\n",
       "       '2016-02-02T00:00:00.000000000', '2016-02-03T00:00:00.000000000',\n",
       "       '2016-02-04T00:00:00.000000000', '2016-02-05T00:00:00.000000000',\n",
       "       '2016-02-06T00:00:00.000000000', '2016-02-07T00:00:00.000000000',\n",
       "       '2016-02-08T00:00:00.000000000', '2016-02-09T00:00:00.000000000',\n",
       "       '2016-02-10T00:00:00.000000000', '2016-02-11T00:00:00.000000000',\n",
       "       '2016-02-12T00:00:00.000000000', '2016-02-13T00:00:00.000000000',\n",
       "       '2016-02-14T00:00:00.000000000', '2016-02-15T00:00:00.000000000',\n",
       "       '2016-02-16T00:00:00.000000000', '2016-02-17T00:00:00.000000000',\n",
       "       '2016-02-18T00:00:00.000000000', '2016-02-19T00:00:00.000000000',\n",
       "       '2016-02-20T00:00:00.000000000', '2016-02-21T00:00:00.000000000',\n",
       "       '2016-02-22T00:00:00.000000000', '2016-02-23T00:00:00.000000000',\n",
       "       '2016-02-24T00:00:00.000000000', '2016-02-25T00:00:00.000000000',\n",
       "       '2016-02-26T00:00:00.000000000', '2016-02-27T00:00:00.000000000',\n",
       "       '2016-02-28T00:00:00.000000000', '2016-02-29T00:00:00.000000000',\n",
       "       '2016-03-01T00:00:00.000000000', '2016-03-02T00:00:00.000000000',\n",
       "       '2016-03-03T00:00:00.000000000', '2016-03-04T00:00:00.000000000',\n",
       "       '2016-03-05T00:00:00.000000000', '2016-03-06T00:00:00.000000000',\n",
       "       '2016-03-07T00:00:00.000000000', '2016-03-08T00:00:00.000000000',\n",
       "       '2016-03-09T00:00:00.000000000', '2016-03-10T00:00:00.000000000',\n",
       "       '2016-03-11T00:00:00.000000000', '2016-03-12T00:00:00.000000000',\n",
       "       '2016-03-13T00:00:00.000000000', '2016-03-14T00:00:00.000000000',\n",
       "       '2016-03-15T00:00:00.000000000', '2016-03-16T00:00:00.000000000',\n",
       "       '2016-03-17T00:00:00.000000000', '2016-03-18T00:00:00.000000000',\n",
       "       '2016-03-19T00:00:00.000000000', '2016-03-20T00:00:00.000000000',\n",
       "       '2016-03-21T00:00:00.000000000', '2016-03-22T00:00:00.000000000',\n",
       "       '2016-03-23T00:00:00.000000000', '2016-03-24T00:00:00.000000000',\n",
       "       '2016-03-25T00:00:00.000000000', '2016-03-26T00:00:00.000000000',\n",
       "       '2016-03-27T00:00:00.000000000', '2016-03-28T00:00:00.000000000',\n",
       "       '2016-03-29T00:00:00.000000000', '2016-03-30T00:00:00.000000000',\n",
       "       '2016-03-31T00:00:00.000000000', '2016-04-01T00:00:00.000000000',\n",
       "       '2016-04-02T00:00:00.000000000', '2016-04-03T00:00:00.000000000',\n",
       "       '2016-04-04T00:00:00.000000000', '2016-04-05T00:00:00.000000000',\n",
       "       '2016-04-06T00:00:00.000000000', '2016-04-07T00:00:00.000000000',\n",
       "       '2016-04-08T00:00:00.000000000', '2016-04-09T00:00:00.000000000',\n",
       "       '2016-04-10T00:00:00.000000000', '2016-04-11T00:00:00.000000000',\n",
       "       '2016-04-12T00:00:00.000000000', '2016-04-13T00:00:00.000000000',\n",
       "       '2016-04-14T00:00:00.000000000', '2016-04-15T00:00:00.000000000',\n",
       "       '2016-04-16T00:00:00.000000000', '2016-04-17T00:00:00.000000000',\n",
       "       '2016-04-18T00:00:00.000000000', '2016-04-19T00:00:00.000000000',\n",
       "       '2016-04-20T00:00:00.000000000', '2016-04-21T00:00:00.000000000',\n",
       "       '2016-04-22T00:00:00.000000000', '2016-04-23T00:00:00.000000000',\n",
       "       '2016-04-24T00:00:00.000000000', '2016-04-25T00:00:00.000000000',\n",
       "       '2016-04-26T00:00:00.000000000', '2016-04-27T00:00:00.000000000',\n",
       "       '2016-04-28T00:00:00.000000000', '2016-04-29T00:00:00.000000000',\n",
       "       '2016-04-30T00:00:00.000000000', '2016-05-01T00:00:00.000000000',\n",
       "       '2016-05-02T00:00:00.000000000', '2016-05-03T00:00:00.000000000',\n",
       "       '2016-05-04T00:00:00.000000000', '2016-05-05T00:00:00.000000000',\n",
       "       '2016-05-06T00:00:00.000000000', '2016-05-07T00:00:00.000000000',\n",
       "       '2016-05-08T00:00:00.000000000', '2016-05-09T00:00:00.000000000',\n",
       "       '2016-05-10T00:00:00.000000000', '2016-05-11T00:00:00.000000000',\n",
       "       '2016-05-12T00:00:00.000000000', '2016-05-13T00:00:00.000000000',\n",
       "       '2016-05-14T00:00:00.000000000', '2016-05-15T00:00:00.000000000',\n",
       "       '2016-05-16T00:00:00.000000000', '2016-05-17T00:00:00.000000000',\n",
       "       '2016-05-18T00:00:00.000000000', '2016-05-19T00:00:00.000000000',\n",
       "       '2016-05-20T00:00:00.000000000', '2016-05-21T00:00:00.000000000',\n",
       "       '2016-05-22T00:00:00.000000000', '2016-05-23T00:00:00.000000000',\n",
       "       '2016-05-24T00:00:00.000000000', '2016-05-25T00:00:00.000000000',\n",
       "       '2016-05-26T00:00:00.000000000', '2016-05-27T00:00:00.000000000',\n",
       "       '2016-05-28T00:00:00.000000000', '2016-05-29T00:00:00.000000000',\n",
       "       '2016-05-30T00:00:00.000000000', '2016-05-31T00:00:00.000000000',\n",
       "       '2016-06-01T00:00:00.000000000', '2016-06-02T00:00:00.000000000',\n",
       "       '2016-06-03T00:00:00.000000000', '2016-06-04T00:00:00.000000000',\n",
       "       '2016-06-05T00:00:00.000000000', '2016-06-06T00:00:00.000000000',\n",
       "       '2016-06-07T00:00:00.000000000', '2016-06-08T00:00:00.000000000',\n",
       "       '2016-06-09T00:00:00.000000000', '2016-06-10T00:00:00.000000000',\n",
       "       '2016-06-11T00:00:00.000000000', '2016-06-12T00:00:00.000000000',\n",
       "       '2016-06-13T00:00:00.000000000', '2016-06-14T00:00:00.000000000',\n",
       "       '2016-06-15T00:00:00.000000000'], dtype='datetime64[ns]')"
      ]
     },
     "execution_count": 28,
     "metadata": {},
     "output_type": "execute_result"
    }
   ],
   "source": [
    "date_receive_sort = offline[offline.Date_received.notna()].Date_received.sort_values().unique()\n",
    "date_receive_sort"
   ]
  },
  {
   "cell_type": "code",
   "execution_count": 29,
   "metadata": {},
   "outputs": [
    {
     "data": {
      "text/html": [
       "<div>\n",
       "<style scoped>\n",
       "    .dataframe tbody tr th:only-of-type {\n",
       "        vertical-align: middle;\n",
       "    }\n",
       "\n",
       "    .dataframe tbody tr th {\n",
       "        vertical-align: top;\n",
       "    }\n",
       "\n",
       "    .dataframe thead th {\n",
       "        text-align: right;\n",
       "    }\n",
       "</style>\n",
       "<table border=\"1\" class=\"dataframe\">\n",
       "  <thead>\n",
       "    <tr style=\"text-align: right;\">\n",
       "      <th></th>\n",
       "      <th>count</th>\n",
       "    </tr>\n",
       "    <tr>\n",
       "      <th>Date_received</th>\n",
       "      <th></th>\n",
       "    </tr>\n",
       "  </thead>\n",
       "  <tbody>\n",
       "    <tr>\n",
       "      <th>2016-01-01</th>\n",
       "      <td>340</td>\n",
       "    </tr>\n",
       "    <tr>\n",
       "      <th>2016-01-02</th>\n",
       "      <td>334</td>\n",
       "    </tr>\n",
       "    <tr>\n",
       "      <th>2016-01-03</th>\n",
       "      <td>341</td>\n",
       "    </tr>\n",
       "    <tr>\n",
       "      <th>2016-01-04</th>\n",
       "      <td>337</td>\n",
       "    </tr>\n",
       "    <tr>\n",
       "      <th>2016-01-05</th>\n",
       "      <td>396</td>\n",
       "    </tr>\n",
       "    <tr>\n",
       "      <th>...</th>\n",
       "      <td>...</td>\n",
       "    </tr>\n",
       "    <tr>\n",
       "      <th>2016-06-11</th>\n",
       "      <td>3087</td>\n",
       "    </tr>\n",
       "    <tr>\n",
       "      <th>2016-06-12</th>\n",
       "      <td>2412</td>\n",
       "    </tr>\n",
       "    <tr>\n",
       "      <th>2016-06-13</th>\n",
       "      <td>4740</td>\n",
       "    </tr>\n",
       "    <tr>\n",
       "      <th>2016-06-14</th>\n",
       "      <td>2896</td>\n",
       "    </tr>\n",
       "    <tr>\n",
       "      <th>2016-06-15</th>\n",
       "      <td>2111</td>\n",
       "    </tr>\n",
       "  </tbody>\n",
       "</table>\n",
       "<p>167 rows × 1 columns</p>\n",
       "</div>"
      ],
      "text/plain": [
       "               count\n",
       "Date_received       \n",
       "2016-01-01       340\n",
       "2016-01-02       334\n",
       "2016-01-03       341\n",
       "2016-01-04       337\n",
       "2016-01-05       396\n",
       "...              ...\n",
       "2016-06-11      3087\n",
       "2016-06-12      2412\n",
       "2016-06-13      4740\n",
       "2016-06-14      2896\n",
       "2016-06-15      2111\n",
       "\n",
       "[167 rows x 1 columns]"
      ]
     },
     "execution_count": 29,
     "metadata": {},
     "output_type": "execute_result"
    }
   ],
   "source": [
    "coupon_sendout_everday = offline[offline.Date_received.notna()][['Date_received', 'User_id']]\n",
    "coupon_sendout_everday = coupon_sendout_everday.groupby('Date_received').count()\n",
    "coupon_sendout_everday = coupon_sendout_everday.rename(columns={'User_id': 'count'})\n",
    "coupon_sendout_everday"
   ]
  },
  {
   "cell_type": "code",
   "execution_count": 30,
   "metadata": {},
   "outputs": [
    {
     "data": {
      "image/png": "[encoded data removed]",
      "text/plain": [
       "<Figure size 1800x600 with 1 Axes>"
      ]
     },
     "metadata": {},
     "output_type": "display_data"
    }
   ],
   "source": [
    "plt.figure(figsize=(18, 6))\n",
    "plt.bar(date_receive_sort, coupon_sendout_everday['count'], label='每天发券量')\n",
    "plt.bar(date_receive_sort, consume_num_everday['count'], label='每天用券量')\n",
    "plt.yscale('log')\n",
    "plt.legend()\n",
    "plt.show()\n",
    "#16年2月为例，用券量级别再1000，发券量再10万左右，在100倍左右，优惠券的使用率还是非常低的"
   ]
  },
  {
   "cell_type": "code",
   "execution_count": 31,
   "metadata": {},
   "outputs": [
    {
     "data": {
      "image/png": "[encoded data removed]",
      "text/plain": [
       "<Figure size 1800x600 with 1 Axes>"
      ]
     },
     "metadata": {},
     "output_type": "display_data"
    }
   ],
   "source": [
    "plt.figure(figsize=(18, 6))\n",
    "plt.bar(date_receive_sort,\n",
    "        consume_num_everday['count']/coupon_sendout_everday['count'], \n",
    "        label='百分比')\n",
    "plt.legend()\n",
    "plt.show()\n"
   ]
  },
  {
   "cell_type": "code",
   "execution_count": 32,
   "metadata": {},
   "outputs": [],
   "source": [
    "#由图可知，优惠券使用率最高在16年书3月底，达到了30%\n",
    "#使用率最低在16年1月底，最低为3%左右。\n",
    "#整体来看，优惠券使用率波动较大。"
   ]
  },
  {
   "attachments": {},
   "cell_type": "markdown",
   "metadata": {},
   "source": [
    "## 三. 总体情况统计分析\n",
    "\n"
   ]
  },
  {
   "attachments": {},
   "cell_type": "markdown",
   "metadata": {},
   "source": [
    "        3.1 数据总体情况 "
   ]
  },
  {
   "cell_type": "code",
   "execution_count": 33,
   "metadata": {},
   "outputs": [
    {
     "data": {
      "text/html": [
       "<div>\n",
       "<style scoped>\n",
       "    .dataframe tbody tr th:only-of-type {\n",
       "        vertical-align: middle;\n",
       "    }\n",
       "\n",
       "    .dataframe tbody tr th {\n",
       "        vertical-align: top;\n",
       "    }\n",
       "\n",
       "    .dataframe thead th {\n",
       "        text-align: right;\n",
       "    }\n",
       "</style>\n",
       "<table border=\"1\" class=\"dataframe\">\n",
       "  <thead>\n",
       "    <tr style=\"text-align: right;\">\n",
       "      <th></th>\n",
       "      <th>User_id</th>\n",
       "      <th>Merchant_id</th>\n",
       "      <th>Coupon_id</th>\n",
       "      <th>Discount_rate</th>\n",
       "      <th>Distance</th>\n",
       "      <th>Date_received</th>\n",
       "      <th>Date</th>\n",
       "    </tr>\n",
       "  </thead>\n",
       "  <tbody>\n",
       "    <tr>\n",
       "      <th>0</th>\n",
       "      <td>1439408</td>\n",
       "      <td>2632</td>\n",
       "      <td>NaN</td>\n",
       "      <td>NaN</td>\n",
       "      <td>0.0</td>\n",
       "      <td>NaT</td>\n",
       "      <td>2016-02-17</td>\n",
       "    </tr>\n",
       "    <tr>\n",
       "      <th>1</th>\n",
       "      <td>1439408</td>\n",
       "      <td>4663</td>\n",
       "      <td>11002.0</td>\n",
       "      <td>0.87</td>\n",
       "      <td>1.0</td>\n",
       "      <td>2016-05-28</td>\n",
       "      <td>NaT</td>\n",
       "    </tr>\n",
       "    <tr>\n",
       "      <th>2</th>\n",
       "      <td>1439408</td>\n",
       "      <td>2632</td>\n",
       "      <td>8591.0</td>\n",
       "      <td>0.95</td>\n",
       "      <td>0.0</td>\n",
       "      <td>2016-02-17</td>\n",
       "      <td>NaT</td>\n",
       "    </tr>\n",
       "    <tr>\n",
       "      <th>3</th>\n",
       "      <td>1439408</td>\n",
       "      <td>2632</td>\n",
       "      <td>1078.0</td>\n",
       "      <td>0.95</td>\n",
       "      <td>0.0</td>\n",
       "      <td>2016-03-19</td>\n",
       "      <td>NaT</td>\n",
       "    </tr>\n",
       "    <tr>\n",
       "      <th>4</th>\n",
       "      <td>1439408</td>\n",
       "      <td>2632</td>\n",
       "      <td>8591.0</td>\n",
       "      <td>0.95</td>\n",
       "      <td>0.0</td>\n",
       "      <td>2016-06-13</td>\n",
       "      <td>NaT</td>\n",
       "    </tr>\n",
       "  </tbody>\n",
       "</table>\n",
       "</div>"
      ],
      "text/plain": [
       "   User_id  Merchant_id  Coupon_id  Discount_rate  Distance Date_received  \\\n",
       "0  1439408         2632        NaN            NaN       0.0           NaT   \n",
       "1  1439408         4663    11002.0           0.87       1.0    2016-05-28   \n",
       "2  1439408         2632     8591.0           0.95       0.0    2016-02-17   \n",
       "3  1439408         2632     1078.0           0.95       0.0    2016-03-19   \n",
       "4  1439408         2632     8591.0           0.95       0.0    2016-06-13   \n",
       "\n",
       "        Date  \n",
       "0 2016-02-17  \n",
       "1        NaT  \n",
       "2        NaT  \n",
       "3        NaT  \n",
       "4        NaT  "
      ]
     },
     "execution_count": 33,
     "metadata": {},
     "output_type": "execute_result"
    }
   ],
   "source": [
    "offline.head(5)"
   ]
  },
  {
   "cell_type": "code",
   "execution_count": 34,
   "metadata": {},
   "outputs": [
    {
     "name": "stdout",
     "output_type": "stream",
     "text": [
      "领券人数：629824\n"
     ]
    }
   ],
   "source": [
    "# 不使用科学记数法\n",
    "pd.set_option('display.float_format', lambda x: '%.4f' % x)\n",
    "offline.Coupon_id.notna().sum()\n",
    "print(f'领券人数：{offline.Coupon_id.notna().sum()}')"
   ]
  },
  {
   "cell_type": "code",
   "execution_count": 35,
   "metadata": {},
   "outputs": [
    {
     "name": "stdout",
     "output_type": "stream",
     "text": [
      "有券且消费人数：44966\n"
     ]
    }
   ],
   "source": [
    "cpon_consume = offline[offline.Coupon_id.notna() & offline.Date.notna()]\n",
    "len(cpon_consume)\n",
    "print(f'有券且消费人数：{len(cpon_consume)}')"
   ]
  },
  {
   "cell_type": "code",
   "execution_count": 36,
   "metadata": {},
   "outputs": [
    {
     "name": "stdout",
     "output_type": "stream",
     "text": [
      "核销率：7.14%\n"
     ]
    }
   ],
   "source": [
    "len(cpon_consume) / offline.Coupon_id.notna().sum() * 100\n",
    "print(f'核销率：{len(cpon_consume) / offline.Coupon_id.notna().sum() * 100:.2f}%')"
   ]
  },
  {
   "attachments": {},
   "cell_type": "markdown",
   "metadata": {},
   "source": [
    "        3.2 优惠券每月核销情况统计"
   ]
  },
  {
   "cell_type": "code",
   "execution_count": 37,
   "metadata": {},
   "outputs": [
    {
     "data": {
      "text/html": [
       "<div>\n",
       "<style scoped>\n",
       "    .dataframe tbody tr th:only-of-type {\n",
       "        vertical-align: middle;\n",
       "    }\n",
       "\n",
       "    .dataframe tbody tr th {\n",
       "        vertical-align: top;\n",
       "    }\n",
       "\n",
       "    .dataframe thead th {\n",
       "        text-align: right;\n",
       "    }\n",
       "</style>\n",
       "<table border=\"1\" class=\"dataframe\">\n",
       "  <thead>\n",
       "    <tr style=\"text-align: right;\">\n",
       "      <th></th>\n",
       "      <th>User_id</th>\n",
       "      <th>Merchant_id</th>\n",
       "      <th>Coupon_id</th>\n",
       "      <th>Discount_rate</th>\n",
       "      <th>Distance</th>\n",
       "      <th>Date_received</th>\n",
       "      <th>Date</th>\n",
       "      <th>month</th>\n",
       "    </tr>\n",
       "  </thead>\n",
       "  <tbody>\n",
       "    <tr>\n",
       "      <th>0</th>\n",
       "      <td>1439408</td>\n",
       "      <td>2632</td>\n",
       "      <td>NaN</td>\n",
       "      <td>NaN</td>\n",
       "      <td>0.0000</td>\n",
       "      <td>NaT</td>\n",
       "      <td>2016-02-17</td>\n",
       "      <td>2.0000</td>\n",
       "    </tr>\n",
       "    <tr>\n",
       "      <th>1</th>\n",
       "      <td>1439408</td>\n",
       "      <td>4663</td>\n",
       "      <td>11002.0000</td>\n",
       "      <td>0.8700</td>\n",
       "      <td>1.0000</td>\n",
       "      <td>2016-05-28</td>\n",
       "      <td>NaT</td>\n",
       "      <td>NaN</td>\n",
       "    </tr>\n",
       "    <tr>\n",
       "      <th>2</th>\n",
       "      <td>1439408</td>\n",
       "      <td>2632</td>\n",
       "      <td>8591.0000</td>\n",
       "      <td>0.9500</td>\n",
       "      <td>0.0000</td>\n",
       "      <td>2016-02-17</td>\n",
       "      <td>NaT</td>\n",
       "      <td>NaN</td>\n",
       "    </tr>\n",
       "    <tr>\n",
       "      <th>3</th>\n",
       "      <td>1439408</td>\n",
       "      <td>2632</td>\n",
       "      <td>1078.0000</td>\n",
       "      <td>0.9500</td>\n",
       "      <td>0.0000</td>\n",
       "      <td>2016-03-19</td>\n",
       "      <td>NaT</td>\n",
       "      <td>NaN</td>\n",
       "    </tr>\n",
       "    <tr>\n",
       "      <th>4</th>\n",
       "      <td>1439408</td>\n",
       "      <td>2632</td>\n",
       "      <td>8591.0000</td>\n",
       "      <td>0.9500</td>\n",
       "      <td>0.0000</td>\n",
       "      <td>2016-06-13</td>\n",
       "      <td>NaT</td>\n",
       "      <td>NaN</td>\n",
       "    </tr>\n",
       "    <tr>\n",
       "      <th>...</th>\n",
       "      <td>...</td>\n",
       "      <td>...</td>\n",
       "      <td>...</td>\n",
       "      <td>...</td>\n",
       "      <td>...</td>\n",
       "      <td>...</td>\n",
       "      <td>...</td>\n",
       "      <td>...</td>\n",
       "    </tr>\n",
       "    <tr>\n",
       "      <th>1048570</th>\n",
       "      <td>5186127</td>\n",
       "      <td>4043</td>\n",
       "      <td>3996.0000</td>\n",
       "      <td>0.8300</td>\n",
       "      <td>1.0000</td>\n",
       "      <td>2016-02-03</td>\n",
       "      <td>2016-02-10</td>\n",
       "      <td>2.0000</td>\n",
       "    </tr>\n",
       "    <tr>\n",
       "      <th>1048571</th>\n",
       "      <td>5186127</td>\n",
       "      <td>4043</td>\n",
       "      <td>3996.0000</td>\n",
       "      <td>0.8300</td>\n",
       "      <td>1.0000</td>\n",
       "      <td>2016-02-12</td>\n",
       "      <td>NaT</td>\n",
       "      <td>NaN</td>\n",
       "    </tr>\n",
       "    <tr>\n",
       "      <th>1048572</th>\n",
       "      <td>5186127</td>\n",
       "      <td>4043</td>\n",
       "      <td>NaN</td>\n",
       "      <td>NaN</td>\n",
       "      <td>1.0000</td>\n",
       "      <td>NaT</td>\n",
       "      <td>2016-05-30</td>\n",
       "      <td>5.0000</td>\n",
       "    </tr>\n",
       "    <tr>\n",
       "      <th>1048573</th>\n",
       "      <td>5186127</td>\n",
       "      <td>4043</td>\n",
       "      <td>NaN</td>\n",
       "      <td>NaN</td>\n",
       "      <td>1.0000</td>\n",
       "      <td>NaT</td>\n",
       "      <td>2016-05-01</td>\n",
       "      <td>5.0000</td>\n",
       "    </tr>\n",
       "    <tr>\n",
       "      <th>1048574</th>\n",
       "      <td>5186127</td>\n",
       "      <td>4043</td>\n",
       "      <td>NaN</td>\n",
       "      <td>NaN</td>\n",
       "      <td>1.0000</td>\n",
       "      <td>NaT</td>\n",
       "      <td>2016-04-08</td>\n",
       "      <td>4.0000</td>\n",
       "    </tr>\n",
       "  </tbody>\n",
       "</table>\n",
       "<p>1048575 rows × 8 columns</p>\n",
       "</div>"
      ],
      "text/plain": [
       "         User_id  Merchant_id  Coupon_id  Discount_rate  Distance  \\\n",
       "0        1439408         2632        NaN            NaN    0.0000   \n",
       "1        1439408         4663 11002.0000         0.8700    1.0000   \n",
       "2        1439408         2632  8591.0000         0.9500    0.0000   \n",
       "3        1439408         2632  1078.0000         0.9500    0.0000   \n",
       "4        1439408         2632  8591.0000         0.9500    0.0000   \n",
       "...          ...          ...        ...            ...       ...   \n",
       "1048570  5186127         4043  3996.0000         0.8300    1.0000   \n",
       "1048571  5186127         4043  3996.0000         0.8300    1.0000   \n",
       "1048572  5186127         4043        NaN            NaN    1.0000   \n",
       "1048573  5186127         4043        NaN            NaN    1.0000   \n",
       "1048574  5186127         4043        NaN            NaN    1.0000   \n",
       "\n",
       "        Date_received       Date  month  \n",
       "0                 NaT 2016-02-17 2.0000  \n",
       "1          2016-05-28        NaT    NaN  \n",
       "2          2016-02-17        NaT    NaN  \n",
       "3          2016-03-19        NaT    NaN  \n",
       "4          2016-06-13        NaT    NaN  \n",
       "...               ...        ...    ...  \n",
       "1048570    2016-02-03 2016-02-10 2.0000  \n",
       "1048571    2016-02-12        NaT    NaN  \n",
       "1048572           NaT 2016-05-30 5.0000  \n",
       "1048573           NaT 2016-05-01 5.0000  \n",
       "1048574           NaT 2016-04-08 4.0000  \n",
       "\n",
       "[1048575 rows x 8 columns]"
      ]
     },
     "execution_count": 37,
     "metadata": {},
     "output_type": "execute_result"
    }
   ],
   "source": [
    "offline['month'] = offline.Date.dt.month\n",
    "offline\n"
   ]
  },
  {
   "cell_type": "code",
   "execution_count": 38,
   "metadata": {},
   "outputs": [
    {
     "name": "stdout",
     "output_type": "stream",
     "text": [
      "1月核销率：6.14%\n",
      "2月核销率：16.56%\n",
      "3月核销率：8.36%\n",
      "4月核销率：6.84%\n",
      "5月核销率：11.14%\n",
      "6月核销率：10.47%\n"
     ]
    }
   ],
   "source": [
    "offline.groupby('month')['Coupon_id'].count() / offline.groupby('month')['Date'].count() * 100\n",
    "\n",
    "for i in range(1, 7):\n",
    "    print(\n",
    "        f'{i}月核销率：{(offline.groupby(\"month\")[\"Coupon_id\"].count() / offline.groupby(\"month\")[\"Date\"].count() * 100)[i]:.2f}%')\n"
   ]
  },
  {
   "attachments": {},
   "cell_type": "markdown",
   "metadata": {},
   "source": [
    "        3.3 每月新增用户数"
   ]
  },
  {
   "cell_type": "code",
   "execution_count": 39,
   "metadata": {},
   "outputs": [
    {
     "name": "stdout",
     "output_type": "stream",
     "text": [
      "1月新增人数：2691人\n",
      "2月新增人数：5352人\n",
      "3月新增人数：5407人\n",
      "4月新增人数：4079人\n",
      "5月新增人数：8550人\n",
      "6月新增人数：6601人\n"
     ]
    },
    {
     "name": "stderr",
     "output_type": "stream",
     "text": [
      "C:\\Users\\wdl\\AppData\\Local\\Temp\\ipykernel_4552\\1011993814.py:1: SettingWithCopyWarning: \n",
      "A value is trying to be set on a copy of a slice from a DataFrame.\n",
      "Try using .loc[row_indexer,col_indexer] = value instead\n",
      "\n",
      "See the caveats in the documentation: https://pandas.pydata.org/pandas-docs/stable/user_guide/indexing.html#returning-a-view-versus-a-copy\n",
      "  cpon_consume['month'] = cpon_consume.Date.dt.month\n"
     ]
    }
   ],
   "source": [
    "cpon_consume['month'] = cpon_consume.Date.dt.month\n",
    "cpon_consume.groupby('month').User_id.nunique()\n",
    "\n",
    "for i in range(1, 7):\n",
    "    print(f'{i}月新增人数：{cpon_consume.groupby(\"month\").User_id.nunique()[i]}人')"
   ]
  },
  {
   "attachments": {},
   "cell_type": "markdown",
   "metadata": {},
   "source": [
    "## 四. 用户分析\n"
   ]
  },
  {
   "attachments": {},
   "cell_type": "markdown",
   "metadata": {},
   "source": [
    "        4.1 获客：每日新增用户情况"
   ]
  },
  {
   "cell_type": "code",
   "execution_count": 40,
   "metadata": {},
   "outputs": [
    {
     "data": {
      "image/png": "[encoded data removed]",
      "text/plain": [
       "<Figure size 1800x600 with 1 Axes>"
      ]
     },
     "metadata": {},
     "output_type": "display_data"
    }
   ],
   "source": [
    "new_user_everyday = offline[offline.Date.notna()].groupby('Date').User_id.nunique()\n",
    "plt.figure(figsize=(18, 6))\n",
    "plt.bar(new_user_everyday.index, new_user_everyday.values)\n",
    "plt.show()"
   ]
  },
  {
   "attachments": {},
   "cell_type": "markdown",
   "metadata": {},
   "source": [
    "        4.2 转化及流失情况"
   ]
  },
  {
   "cell_type": "code",
   "execution_count": 41,
   "metadata": {},
   "outputs": [
    {
     "name": "stdout",
     "output_type": "stream",
     "text": [
      "只消费一次的用户数：61765\n"
     ]
    }
   ],
   "source": [
    "cpon_user = offline[offline.Date.notna()].groupby('User_id').count()\n",
    "cpon_user.Date[cpon_user.Date == 1].sum()\n",
    "print(f'只消费一次的用户数：{cpon_user.Date[cpon_user.Date == 1].sum()}')"
   ]
  },
  {
   "cell_type": "code",
   "execution_count": 42,
   "metadata": {},
   "outputs": [
    {
     "name": "stdout",
     "output_type": "stream",
     "text": [
      "只消费一次的用户占比：19.12%\n"
     ]
    }
   ],
   "source": [
    "cpon_user.Date[cpon_user.Date == 1].sum() / offline.User_id.nunique() * 100\n",
    "print(f'只消费一次的用户占比：{cpon_user.Date[cpon_user.Date == 1].sum() / offline.User_id.nunique() * 100:.2f}%')"
   ]
  },
  {
   "attachments": {},
   "cell_type": "markdown",
   "metadata": {},
   "source": [
    "        4.3 用户行为转化漏斗计算"
   ]
  },
  {
   "cell_type": "code",
   "execution_count": 43,
   "metadata": {},
   "outputs": [
    {
     "data": {
      "text/html": [
       "<div>\n",
       "<style scoped>\n",
       "    .dataframe tbody tr th:only-of-type {\n",
       "        vertical-align: middle;\n",
       "    }\n",
       "\n",
       "    .dataframe tbody tr th {\n",
       "        vertical-align: top;\n",
       "    }\n",
       "\n",
       "    .dataframe thead th {\n",
       "        text-align: right;\n",
       "    }\n",
       "</style>\n",
       "<table border=\"1\" class=\"dataframe\">\n",
       "  <thead>\n",
       "    <tr style=\"text-align: right;\">\n",
       "      <th></th>\n",
       "      <th>User_id</th>\n",
       "      <th>Merchant_id</th>\n",
       "      <th>Coupon_id</th>\n",
       "      <th>Discount_rate</th>\n",
       "      <th>Distance</th>\n",
       "      <th>Date_received</th>\n",
       "      <th>Date</th>\n",
       "      <th>month</th>\n",
       "    </tr>\n",
       "  </thead>\n",
       "  <tbody>\n",
       "    <tr>\n",
       "      <th>0</th>\n",
       "      <td>1439408</td>\n",
       "      <td>2632</td>\n",
       "      <td>NaN</td>\n",
       "      <td>NaN</td>\n",
       "      <td>0.0000</td>\n",
       "      <td>NaT</td>\n",
       "      <td>2016-02-17</td>\n",
       "      <td>2.0000</td>\n",
       "    </tr>\n",
       "    <tr>\n",
       "      <th>1</th>\n",
       "      <td>1439408</td>\n",
       "      <td>4663</td>\n",
       "      <td>11002.0000</td>\n",
       "      <td>0.8700</td>\n",
       "      <td>1.0000</td>\n",
       "      <td>2016-05-28</td>\n",
       "      <td>NaT</td>\n",
       "      <td>NaN</td>\n",
       "    </tr>\n",
       "    <tr>\n",
       "      <th>2</th>\n",
       "      <td>1439408</td>\n",
       "      <td>2632</td>\n",
       "      <td>8591.0000</td>\n",
       "      <td>0.9500</td>\n",
       "      <td>0.0000</td>\n",
       "      <td>2016-02-17</td>\n",
       "      <td>NaT</td>\n",
       "      <td>NaN</td>\n",
       "    </tr>\n",
       "    <tr>\n",
       "      <th>3</th>\n",
       "      <td>1439408</td>\n",
       "      <td>2632</td>\n",
       "      <td>1078.0000</td>\n",
       "      <td>0.9500</td>\n",
       "      <td>0.0000</td>\n",
       "      <td>2016-03-19</td>\n",
       "      <td>NaT</td>\n",
       "      <td>NaN</td>\n",
       "    </tr>\n",
       "    <tr>\n",
       "      <th>4</th>\n",
       "      <td>1439408</td>\n",
       "      <td>2632</td>\n",
       "      <td>8591.0000</td>\n",
       "      <td>0.9500</td>\n",
       "      <td>0.0000</td>\n",
       "      <td>2016-06-13</td>\n",
       "      <td>NaT</td>\n",
       "      <td>NaN</td>\n",
       "    </tr>\n",
       "  </tbody>\n",
       "</table>\n",
       "</div>"
      ],
      "text/plain": [
       "   User_id  Merchant_id  Coupon_id  Discount_rate  Distance Date_received  \\\n",
       "0  1439408         2632        NaN            NaN    0.0000           NaT   \n",
       "1  1439408         4663 11002.0000         0.8700    1.0000    2016-05-28   \n",
       "2  1439408         2632  8591.0000         0.9500    0.0000    2016-02-17   \n",
       "3  1439408         2632  1078.0000         0.9500    0.0000    2016-03-19   \n",
       "4  1439408         2632  8591.0000         0.9500    0.0000    2016-06-13   \n",
       "\n",
       "        Date  month  \n",
       "0 2016-02-17 2.0000  \n",
       "1        NaT    NaN  \n",
       "2        NaT    NaN  \n",
       "3        NaT    NaN  \n",
       "4        NaT    NaN  "
      ]
     },
     "execution_count": 43,
     "metadata": {},
     "output_type": "execute_result"
    }
   ],
   "source": [
    "offline.head(5)"
   ]
  },
  {
   "cell_type": "code",
   "execution_count": 44,
   "metadata": {},
   "outputs": [
    {
     "data": {
      "text/plain": [
       "1048575"
      ]
     },
     "execution_count": 44,
     "metadata": {},
     "output_type": "execute_result"
    }
   ],
   "source": [
    "offline.User_id.count()"
   ]
  },
  {
   "cell_type": "code",
   "execution_count": 45,
   "metadata": {},
   "outputs": [
    {
     "name": "stdout",
     "output_type": "stream",
     "text": [
      "领券总人数：60.06%\n"
     ]
    }
   ],
   "source": [
    "offline.Coupon_id.count() / offline.User_id.count() * 100\n",
    "print(f'领券总人数：{offline.Coupon_id.count() / offline.User_id.count() * 100:.2f}%')"
   ]
  },
  {
   "cell_type": "code",
   "execution_count": 46,
   "metadata": {},
   "outputs": [
    {
     "name": "stdout",
     "output_type": "stream",
     "text": [
      "领券且消费人数：4.29%\n"
     ]
    }
   ],
   "source": [
    "cpon_consume.User_id.count() / offline.User_id.count() * 100\n",
    "print(f'领券且消费人数：{cpon_consume.User_id.count() / offline.User_id.count() * 100:.2f}%')"
   ]
  },
  {
   "attachments": {},
   "cell_type": "markdown",
   "metadata": {},
   "source": [
    "        4.4 用户留存情况"
   ]
  },
  {
   "attachments": {},
   "cell_type": "markdown",
   "metadata": {},
   "source": [
    "        4.5 用户价值分析  \n",
    "        \n",
    "            4.5.1 先查询用户最近的消费时间间隔及消费频次"
   ]
  },
  {
   "cell_type": "code",
   "execution_count": 47,
   "metadata": {},
   "outputs": [
    {
     "data": {
      "text/html": [
       "<div>\n",
       "<style scoped>\n",
       "    .dataframe tbody tr th:only-of-type {\n",
       "        vertical-align: middle;\n",
       "    }\n",
       "\n",
       "    .dataframe tbody tr th {\n",
       "        vertical-align: top;\n",
       "    }\n",
       "\n",
       "    .dataframe thead th {\n",
       "        text-align: right;\n",
       "    }\n",
       "</style>\n",
       "<table border=\"1\" class=\"dataframe\">\n",
       "  <thead>\n",
       "    <tr style=\"text-align: right;\">\n",
       "      <th></th>\n",
       "      <th>User_id</th>\n",
       "      <th>Merchant_id</th>\n",
       "      <th>Coupon_id</th>\n",
       "      <th>Discount_rate</th>\n",
       "      <th>Distance</th>\n",
       "      <th>Date_received</th>\n",
       "      <th>Date</th>\n",
       "      <th>month</th>\n",
       "    </tr>\n",
       "  </thead>\n",
       "  <tbody>\n",
       "    <tr>\n",
       "      <th>0</th>\n",
       "      <td>1439408</td>\n",
       "      <td>2632</td>\n",
       "      <td>NaN</td>\n",
       "      <td>NaN</td>\n",
       "      <td>0.0000</td>\n",
       "      <td>NaT</td>\n",
       "      <td>2016-02-17</td>\n",
       "      <td>2.0000</td>\n",
       "    </tr>\n",
       "    <tr>\n",
       "      <th>5</th>\n",
       "      <td>1439408</td>\n",
       "      <td>2632</td>\n",
       "      <td>NaN</td>\n",
       "      <td>NaN</td>\n",
       "      <td>0.0000</td>\n",
       "      <td>NaT</td>\n",
       "      <td>2016-05-16</td>\n",
       "      <td>5.0000</td>\n",
       "    </tr>\n",
       "    <tr>\n",
       "      <th>6</th>\n",
       "      <td>1439408</td>\n",
       "      <td>2632</td>\n",
       "      <td>8591.0000</td>\n",
       "      <td>0.9500</td>\n",
       "      <td>0.0000</td>\n",
       "      <td>2016-05-16</td>\n",
       "      <td>2016-06-13</td>\n",
       "      <td>6.0000</td>\n",
       "    </tr>\n",
       "    <tr>\n",
       "      <th>11</th>\n",
       "      <td>2029232</td>\n",
       "      <td>6459</td>\n",
       "      <td>NaN</td>\n",
       "      <td>NaN</td>\n",
       "      <td>0.0000</td>\n",
       "      <td>NaT</td>\n",
       "      <td>2016-06-26</td>\n",
       "      <td>6.0000</td>\n",
       "    </tr>\n",
       "    <tr>\n",
       "      <th>12</th>\n",
       "      <td>2029232</td>\n",
       "      <td>6459</td>\n",
       "      <td>NaN</td>\n",
       "      <td>NaN</td>\n",
       "      <td>0.0000</td>\n",
       "      <td>NaT</td>\n",
       "      <td>2016-05-19</td>\n",
       "      <td>5.0000</td>\n",
       "    </tr>\n",
       "    <tr>\n",
       "      <th>...</th>\n",
       "      <td>...</td>\n",
       "      <td>...</td>\n",
       "      <td>...</td>\n",
       "      <td>...</td>\n",
       "      <td>...</td>\n",
       "      <td>...</td>\n",
       "      <td>...</td>\n",
       "      <td>...</td>\n",
       "    </tr>\n",
       "    <tr>\n",
       "      <th>1048569</th>\n",
       "      <td>5186127</td>\n",
       "      <td>4043</td>\n",
       "      <td>NaN</td>\n",
       "      <td>NaN</td>\n",
       "      <td>1.0000</td>\n",
       "      <td>NaT</td>\n",
       "      <td>2016-05-28</td>\n",
       "      <td>5.0000</td>\n",
       "    </tr>\n",
       "    <tr>\n",
       "      <th>1048570</th>\n",
       "      <td>5186127</td>\n",
       "      <td>4043</td>\n",
       "      <td>3996.0000</td>\n",
       "      <td>0.8300</td>\n",
       "      <td>1.0000</td>\n",
       "      <td>2016-02-03</td>\n",
       "      <td>2016-02-10</td>\n",
       "      <td>2.0000</td>\n",
       "    </tr>\n",
       "    <tr>\n",
       "      <th>1048572</th>\n",
       "      <td>5186127</td>\n",
       "      <td>4043</td>\n",
       "      <td>NaN</td>\n",
       "      <td>NaN</td>\n",
       "      <td>1.0000</td>\n",
       "      <td>NaT</td>\n",
       "      <td>2016-05-30</td>\n",
       "      <td>5.0000</td>\n",
       "    </tr>\n",
       "    <tr>\n",
       "      <th>1048573</th>\n",
       "      <td>5186127</td>\n",
       "      <td>4043</td>\n",
       "      <td>NaN</td>\n",
       "      <td>NaN</td>\n",
       "      <td>1.0000</td>\n",
       "      <td>NaT</td>\n",
       "      <td>2016-05-01</td>\n",
       "      <td>5.0000</td>\n",
       "    </tr>\n",
       "    <tr>\n",
       "      <th>1048574</th>\n",
       "      <td>5186127</td>\n",
       "      <td>4043</td>\n",
       "      <td>NaN</td>\n",
       "      <td>NaN</td>\n",
       "      <td>1.0000</td>\n",
       "      <td>NaT</td>\n",
       "      <td>2016-04-08</td>\n",
       "      <td>4.0000</td>\n",
       "    </tr>\n",
       "  </tbody>\n",
       "</table>\n",
       "<p>463717 rows × 8 columns</p>\n",
       "</div>"
      ],
      "text/plain": [
       "         User_id  Merchant_id  Coupon_id  Discount_rate  Distance  \\\n",
       "0        1439408         2632        NaN            NaN    0.0000   \n",
       "5        1439408         2632        NaN            NaN    0.0000   \n",
       "6        1439408         2632  8591.0000         0.9500    0.0000   \n",
       "11       2029232         6459        NaN            NaN    0.0000   \n",
       "12       2029232         6459        NaN            NaN    0.0000   \n",
       "...          ...          ...        ...            ...       ...   \n",
       "1048569  5186127         4043        NaN            NaN    1.0000   \n",
       "1048570  5186127         4043  3996.0000         0.8300    1.0000   \n",
       "1048572  5186127         4043        NaN            NaN    1.0000   \n",
       "1048573  5186127         4043        NaN            NaN    1.0000   \n",
       "1048574  5186127         4043        NaN            NaN    1.0000   \n",
       "\n",
       "        Date_received       Date  month  \n",
       "0                 NaT 2016-02-17 2.0000  \n",
       "5                 NaT 2016-05-16 5.0000  \n",
       "6          2016-05-16 2016-06-13 6.0000  \n",
       "11                NaT 2016-06-26 6.0000  \n",
       "12                NaT 2016-05-19 5.0000  \n",
       "...               ...        ...    ...  \n",
       "1048569           NaT 2016-05-28 5.0000  \n",
       "1048570    2016-02-03 2016-02-10 2.0000  \n",
       "1048572           NaT 2016-05-30 5.0000  \n",
       "1048573           NaT 2016-05-01 5.0000  \n",
       "1048574           NaT 2016-04-08 4.0000  \n",
       "\n",
       "[463717 rows x 8 columns]"
      ]
     },
     "execution_count": 47,
     "metadata": {},
     "output_type": "execute_result"
    }
   ],
   "source": [
    "temp_df = offline[offline.Date.notna()]\n",
    "temp_df "
   ]
  },
  {
   "cell_type": "code",
   "execution_count": 48,
   "metadata": {},
   "outputs": [
    {
     "data": {
      "text/html": [
       "<div>\n",
       "<style scoped>\n",
       "    .dataframe tbody tr th:only-of-type {\n",
       "        vertical-align: middle;\n",
       "    }\n",
       "\n",
       "    .dataframe tbody tr th {\n",
       "        vertical-align: top;\n",
       "    }\n",
       "\n",
       "    .dataframe thead th {\n",
       "        text-align: right;\n",
       "    }\n",
       "</style>\n",
       "<table border=\"1\" class=\"dataframe\">\n",
       "  <thead>\n",
       "    <tr style=\"text-align: right;\">\n",
       "      <th></th>\n",
       "      <th>Date</th>\n",
       "    </tr>\n",
       "    <tr>\n",
       "      <th>User_id</th>\n",
       "      <th></th>\n",
       "    </tr>\n",
       "  </thead>\n",
       "  <tbody>\n",
       "    <tr>\n",
       "      <th>165</th>\n",
       "      <td>2016-06-17</td>\n",
       "    </tr>\n",
       "    <tr>\n",
       "      <th>184</th>\n",
       "      <td>2016-02-28</td>\n",
       "    </tr>\n",
       "    <tr>\n",
       "      <th>316</th>\n",
       "      <td>2016-06-19</td>\n",
       "    </tr>\n",
       "  </tbody>\n",
       "</table>\n",
       "</div>"
      ],
      "text/plain": [
       "              Date\n",
       "User_id           \n",
       "165     2016-06-17\n",
       "184     2016-02-28\n",
       "316     2016-06-19"
      ]
     },
     "execution_count": 48,
     "metadata": {},
     "output_type": "execute_result"
    }
   ],
   "source": [
    "rfm_df = temp_df.groupby('User_id').Date.max() # 每个用户最后一次消费时间\n",
    "rfm_df = pd.DataFrame(rfm_df)\n",
    "rfm_df.head(3)"
   ]
  },
  {
   "cell_type": "code",
   "execution_count": 49,
   "metadata": {},
   "outputs": [
    {
     "data": {
      "text/html": [
       "<div>\n",
       "<style scoped>\n",
       "    .dataframe tbody tr th:only-of-type {\n",
       "        vertical-align: middle;\n",
       "    }\n",
       "\n",
       "    .dataframe tbody tr th {\n",
       "        vertical-align: top;\n",
       "    }\n",
       "\n",
       "    .dataframe thead th {\n",
       "        text-align: right;\n",
       "    }\n",
       "</style>\n",
       "<table border=\"1\" class=\"dataframe\">\n",
       "  <thead>\n",
       "    <tr style=\"text-align: right;\">\n",
       "      <th></th>\n",
       "      <th>Date</th>\n",
       "      <th>count</th>\n",
       "    </tr>\n",
       "    <tr>\n",
       "      <th>User_id</th>\n",
       "      <th></th>\n",
       "      <th></th>\n",
       "    </tr>\n",
       "  </thead>\n",
       "  <tbody>\n",
       "    <tr>\n",
       "      <th>165</th>\n",
       "      <td>2016-06-17</td>\n",
       "      <td>14</td>\n",
       "    </tr>\n",
       "    <tr>\n",
       "      <th>184</th>\n",
       "      <td>2016-02-28</td>\n",
       "      <td>1</td>\n",
       "    </tr>\n",
       "    <tr>\n",
       "      <th>316</th>\n",
       "      <td>2016-06-19</td>\n",
       "      <td>7</td>\n",
       "    </tr>\n",
       "  </tbody>\n",
       "</table>\n",
       "</div>"
      ],
      "text/plain": [
       "              Date  count\n",
       "User_id                  \n",
       "165     2016-06-17     14\n",
       "184     2016-02-28      1\n",
       "316     2016-06-19      7"
      ]
     },
     "execution_count": 49,
     "metadata": {},
     "output_type": "execute_result"
    }
   ],
   "source": [
    "rfm_df['count'] = temp_df.groupby('User_id').Date.count() # 每个用户消费次数\n",
    "rfm_df.head(3)"
   ]
  },
  {
   "attachments": {},
   "cell_type": "markdown",
   "metadata": {},
   "source": [
    "            4.5.2 分别查询R,F的最大值，最小值以及各值数量分布情况"
   ]
  },
  {
   "cell_type": "code",
   "execution_count": 50,
   "metadata": {},
   "outputs": [
    {
     "data": {
      "text/html": [
       "<div>\n",
       "<style scoped>\n",
       "    .dataframe tbody tr th:only-of-type {\n",
       "        vertical-align: middle;\n",
       "    }\n",
       "\n",
       "    .dataframe tbody tr th {\n",
       "        vertical-align: top;\n",
       "    }\n",
       "\n",
       "    .dataframe thead th {\n",
       "        text-align: right;\n",
       "    }\n",
       "</style>\n",
       "<table border=\"1\" class=\"dataframe\">\n",
       "  <thead>\n",
       "    <tr style=\"text-align: right;\">\n",
       "      <th></th>\n",
       "      <th>Date</th>\n",
       "      <th>count</th>\n",
       "      <th>R</th>\n",
       "    </tr>\n",
       "    <tr>\n",
       "      <th>User_id</th>\n",
       "      <th></th>\n",
       "      <th></th>\n",
       "      <th></th>\n",
       "    </tr>\n",
       "  </thead>\n",
       "  <tbody>\n",
       "    <tr>\n",
       "      <th>165</th>\n",
       "      <td>2016-06-17</td>\n",
       "      <td>14</td>\n",
       "      <td>13</td>\n",
       "    </tr>\n",
       "    <tr>\n",
       "      <th>184</th>\n",
       "      <td>2016-02-28</td>\n",
       "      <td>1</td>\n",
       "      <td>123</td>\n",
       "    </tr>\n",
       "    <tr>\n",
       "      <th>316</th>\n",
       "      <td>2016-06-19</td>\n",
       "      <td>7</td>\n",
       "      <td>11</td>\n",
       "    </tr>\n",
       "  </tbody>\n",
       "</table>\n",
       "</div>"
      ],
      "text/plain": [
       "              Date  count    R\n",
       "User_id                       \n",
       "165     2016-06-17     14   13\n",
       "184     2016-02-28      1  123\n",
       "316     2016-06-19      7   11"
      ]
     },
     "execution_count": 50,
     "metadata": {},
     "output_type": "execute_result"
    }
   ],
   "source": [
    "rfm_df['R'] = (datetime(2016, 6, 30) - temp_df.groupby('User_id').Date.max()).dt.days # 最后一次消费时间距离观测窗口结束的天数\n",
    "rfm_df.head(3)"
   ]
  },
  {
   "cell_type": "code",
   "execution_count": 51,
   "metadata": {},
   "outputs": [
    {
     "data": {
      "text/html": [
       "<div>\n",
       "<style scoped>\n",
       "    .dataframe tbody tr th:only-of-type {\n",
       "        vertical-align: middle;\n",
       "    }\n",
       "\n",
       "    .dataframe tbody tr th {\n",
       "        vertical-align: top;\n",
       "    }\n",
       "\n",
       "    .dataframe thead th {\n",
       "        text-align: right;\n",
       "    }\n",
       "</style>\n",
       "<table border=\"1\" class=\"dataframe\">\n",
       "  <thead>\n",
       "    <tr style=\"text-align: right;\">\n",
       "      <th></th>\n",
       "      <th>Date</th>\n",
       "      <th>count</th>\n",
       "      <th>R</th>\n",
       "      <th>F</th>\n",
       "    </tr>\n",
       "    <tr>\n",
       "      <th>User_id</th>\n",
       "      <th></th>\n",
       "      <th></th>\n",
       "      <th></th>\n",
       "      <th></th>\n",
       "    </tr>\n",
       "  </thead>\n",
       "  <tbody>\n",
       "    <tr>\n",
       "      <th>165</th>\n",
       "      <td>2016-06-17</td>\n",
       "      <td>14</td>\n",
       "      <td>13</td>\n",
       "      <td>14</td>\n",
       "    </tr>\n",
       "    <tr>\n",
       "      <th>184</th>\n",
       "      <td>2016-02-28</td>\n",
       "      <td>1</td>\n",
       "      <td>123</td>\n",
       "      <td>1</td>\n",
       "    </tr>\n",
       "    <tr>\n",
       "      <th>316</th>\n",
       "      <td>2016-06-19</td>\n",
       "      <td>7</td>\n",
       "      <td>11</td>\n",
       "      <td>7</td>\n",
       "    </tr>\n",
       "  </tbody>\n",
       "</table>\n",
       "</div>"
      ],
      "text/plain": [
       "              Date  count    R   F\n",
       "User_id                           \n",
       "165     2016-06-17     14   13  14\n",
       "184     2016-02-28      1  123   1\n",
       "316     2016-06-19      7   11   7"
      ]
     },
     "execution_count": 51,
     "metadata": {},
     "output_type": "execute_result"
    }
   ],
   "source": [
    "rfm_df['F'] = temp_df.groupby('User_id').Date.count() # 每个用户消费次数\n",
    "rfm_df.head(3)"
   ]
  },
  {
   "cell_type": "code",
   "execution_count": 52,
   "metadata": {},
   "outputs": [
    {
     "data": {
      "text/plain": [
       "count   130087.0000\n",
       "mean        60.2416\n",
       "std         47.8036\n",
       "min          0.0000\n",
       "25%         22.0000\n",
       "50%         44.0000\n",
       "75%         95.0000\n",
       "max        181.0000\n",
       "Name: R, dtype: float64"
      ]
     },
     "execution_count": 52,
     "metadata": {},
     "output_type": "execute_result"
    }
   ],
   "source": [
    "rfm_df.R.describe()"
   ]
  },
  {
   "cell_type": "code",
   "execution_count": 53,
   "metadata": {},
   "outputs": [
    {
     "data": {
      "text/plain": [
       "count   130087.0000\n",
       "mean         3.5647\n",
       "std          5.6440\n",
       "min          1.0000\n",
       "25%          1.0000\n",
       "50%          2.0000\n",
       "75%          4.0000\n",
       "max        196.0000\n",
       "Name: F, dtype: float64"
      ]
     },
     "execution_count": 53,
     "metadata": {},
     "output_type": "execute_result"
    }
   ],
   "source": [
    "rfm_df.F.describe()"
   ]
  },
  {
   "attachments": {},
   "cell_type": "markdown",
   "metadata": {},
   "source": [
    "            4.5.3 根据R,F值最大值和最小值的区间设计本次的打分标准，计算R,F的值"
   ]
  },
  {
   "cell_type": "code",
   "execution_count": 54,
   "metadata": {},
   "outputs": [
    {
     "data": {
      "text/html": [
       "<div>\n",
       "<style scoped>\n",
       "    .dataframe tbody tr th:only-of-type {\n",
       "        vertical-align: middle;\n",
       "    }\n",
       "\n",
       "    .dataframe tbody tr th {\n",
       "        vertical-align: top;\n",
       "    }\n",
       "\n",
       "    .dataframe thead th {\n",
       "        text-align: right;\n",
       "    }\n",
       "</style>\n",
       "<table border=\"1\" class=\"dataframe\">\n",
       "  <thead>\n",
       "    <tr style=\"text-align: right;\">\n",
       "      <th></th>\n",
       "      <th>Date</th>\n",
       "      <th>count</th>\n",
       "      <th>R</th>\n",
       "      <th>F</th>\n",
       "      <th>R_score</th>\n",
       "    </tr>\n",
       "    <tr>\n",
       "      <th>User_id</th>\n",
       "      <th></th>\n",
       "      <th></th>\n",
       "      <th></th>\n",
       "      <th></th>\n",
       "      <th></th>\n",
       "    </tr>\n",
       "  </thead>\n",
       "  <tbody>\n",
       "    <tr>\n",
       "      <th>165</th>\n",
       "      <td>2016-06-17</td>\n",
       "      <td>14</td>\n",
       "      <td>13</td>\n",
       "      <td>14</td>\n",
       "      <td>4</td>\n",
       "    </tr>\n",
       "    <tr>\n",
       "      <th>184</th>\n",
       "      <td>2016-02-28</td>\n",
       "      <td>1</td>\n",
       "      <td>123</td>\n",
       "      <td>1</td>\n",
       "      <td>1</td>\n",
       "    </tr>\n",
       "    <tr>\n",
       "      <th>316</th>\n",
       "      <td>2016-06-19</td>\n",
       "      <td>7</td>\n",
       "      <td>11</td>\n",
       "      <td>7</td>\n",
       "      <td>4</td>\n",
       "    </tr>\n",
       "  </tbody>\n",
       "</table>\n",
       "</div>"
      ],
      "text/plain": [
       "              Date  count    R   F  R_score\n",
       "User_id                                    \n",
       "165     2016-06-17     14   13  14        4\n",
       "184     2016-02-28      1  123   1        1\n",
       "316     2016-06-19      7   11   7        4"
      ]
     },
     "execution_count": 54,
     "metadata": {},
     "output_type": "execute_result"
    }
   ],
   "source": [
    "def get_R(x):\n",
    "    if x <= 30:\n",
    "        return 4\n",
    "    elif x <= 60:\n",
    "        return 3\n",
    "    elif x <= 90:\n",
    "        return 2\n",
    "    else:\n",
    "        return 1\n",
    "    \n",
    "rfm_df['R_score'] = rfm_df.R.apply(get_R)\n",
    "rfm_df.head(3)"
   ]
  },
  {
   "cell_type": "code",
   "execution_count": 55,
   "metadata": {},
   "outputs": [
    {
     "data": {
      "text/html": [
       "<div>\n",
       "<style scoped>\n",
       "    .dataframe tbody tr th:only-of-type {\n",
       "        vertical-align: middle;\n",
       "    }\n",
       "\n",
       "    .dataframe tbody tr th {\n",
       "        vertical-align: top;\n",
       "    }\n",
       "\n",
       "    .dataframe thead th {\n",
       "        text-align: right;\n",
       "    }\n",
       "</style>\n",
       "<table border=\"1\" class=\"dataframe\">\n",
       "  <thead>\n",
       "    <tr style=\"text-align: right;\">\n",
       "      <th></th>\n",
       "      <th>Date</th>\n",
       "      <th>count</th>\n",
       "      <th>R</th>\n",
       "      <th>F</th>\n",
       "      <th>R_score</th>\n",
       "      <th>F_score</th>\n",
       "    </tr>\n",
       "    <tr>\n",
       "      <th>User_id</th>\n",
       "      <th></th>\n",
       "      <th></th>\n",
       "      <th></th>\n",
       "      <th></th>\n",
       "      <th></th>\n",
       "      <th></th>\n",
       "    </tr>\n",
       "  </thead>\n",
       "  <tbody>\n",
       "    <tr>\n",
       "      <th>165</th>\n",
       "      <td>2016-06-17</td>\n",
       "      <td>14</td>\n",
       "      <td>13</td>\n",
       "      <td>14</td>\n",
       "      <td>4</td>\n",
       "      <td>5</td>\n",
       "    </tr>\n",
       "    <tr>\n",
       "      <th>184</th>\n",
       "      <td>2016-02-28</td>\n",
       "      <td>1</td>\n",
       "      <td>123</td>\n",
       "      <td>1</td>\n",
       "      <td>1</td>\n",
       "      <td>1</td>\n",
       "    </tr>\n",
       "    <tr>\n",
       "      <th>316</th>\n",
       "      <td>2016-06-19</td>\n",
       "      <td>7</td>\n",
       "      <td>11</td>\n",
       "      <td>7</td>\n",
       "      <td>4</td>\n",
       "      <td>5</td>\n",
       "    </tr>\n",
       "  </tbody>\n",
       "</table>\n",
       "</div>"
      ],
      "text/plain": [
       "              Date  count    R   F  R_score  F_score\n",
       "User_id                                             \n",
       "165     2016-06-17     14   13  14        4        5\n",
       "184     2016-02-28      1  123   1        1        1\n",
       "316     2016-06-19      7   11   7        4        5"
      ]
     },
     "execution_count": 55,
     "metadata": {},
     "output_type": "execute_result"
    }
   ],
   "source": [
    "def get_F(x):\n",
    "    if x <= 1:\n",
    "        return 1\n",
    "    elif x <= 2:\n",
    "        return 2\n",
    "    elif x <= 3:\n",
    "        return 3\n",
    "    elif x <= 4:\n",
    "        return 4\n",
    "    else:\n",
    "        return 5\n",
    "    \n",
    "rfm_df['F_score'] = rfm_df.F.apply(get_F)\n",
    "rfm_df.head(3)"
   ]
  },
  {
   "attachments": {},
   "cell_type": "markdown",
   "metadata": {},
   "source": [
    "            4.5.4 查询R,F值的平均值"
   ]
  },
  {
   "cell_type": "code",
   "execution_count": 56,
   "metadata": {},
   "outputs": [
    {
     "data": {
      "text/html": [
       "<div>\n",
       "<style scoped>\n",
       "    .dataframe tbody tr th:only-of-type {\n",
       "        vertical-align: middle;\n",
       "    }\n",
       "\n",
       "    .dataframe tbody tr th {\n",
       "        vertical-align: top;\n",
       "    }\n",
       "\n",
       "    .dataframe thead th {\n",
       "        text-align: right;\n",
       "    }\n",
       "</style>\n",
       "<table border=\"1\" class=\"dataframe\">\n",
       "  <thead>\n",
       "    <tr style=\"text-align: right;\">\n",
       "      <th></th>\n",
       "      <th>Date</th>\n",
       "      <th>count</th>\n",
       "      <th>R</th>\n",
       "      <th>F</th>\n",
       "      <th>R_score</th>\n",
       "      <th>F_score</th>\n",
       "    </tr>\n",
       "    <tr>\n",
       "      <th>User_id</th>\n",
       "      <th></th>\n",
       "      <th></th>\n",
       "      <th></th>\n",
       "      <th></th>\n",
       "      <th></th>\n",
       "      <th></th>\n",
       "    </tr>\n",
       "  </thead>\n",
       "  <tbody>\n",
       "    <tr>\n",
       "      <th>165</th>\n",
       "      <td>2016-06-17</td>\n",
       "      <td>14</td>\n",
       "      <td>13</td>\n",
       "      <td>14</td>\n",
       "      <td>1</td>\n",
       "      <td>1</td>\n",
       "    </tr>\n",
       "    <tr>\n",
       "      <th>184</th>\n",
       "      <td>2016-02-28</td>\n",
       "      <td>1</td>\n",
       "      <td>123</td>\n",
       "      <td>1</td>\n",
       "      <td>0</td>\n",
       "      <td>0</td>\n",
       "    </tr>\n",
       "    <tr>\n",
       "      <th>316</th>\n",
       "      <td>2016-06-19</td>\n",
       "      <td>7</td>\n",
       "      <td>11</td>\n",
       "      <td>7</td>\n",
       "      <td>1</td>\n",
       "      <td>1</td>\n",
       "    </tr>\n",
       "    <tr>\n",
       "      <th>448</th>\n",
       "      <td>2016-06-30</td>\n",
       "      <td>14</td>\n",
       "      <td>0</td>\n",
       "      <td>14</td>\n",
       "      <td>1</td>\n",
       "      <td>1</td>\n",
       "    </tr>\n",
       "    <tr>\n",
       "      <th>452</th>\n",
       "      <td>2016-05-21</td>\n",
       "      <td>2</td>\n",
       "      <td>40</td>\n",
       "      <td>2</td>\n",
       "      <td>1</td>\n",
       "      <td>0</td>\n",
       "    </tr>\n",
       "    <tr>\n",
       "      <th>...</th>\n",
       "      <td>...</td>\n",
       "      <td>...</td>\n",
       "      <td>...</td>\n",
       "      <td>...</td>\n",
       "      <td>...</td>\n",
       "      <td>...</td>\n",
       "    </tr>\n",
       "    <tr>\n",
       "      <th>7360556</th>\n",
       "      <td>2016-05-15</td>\n",
       "      <td>3</td>\n",
       "      <td>46</td>\n",
       "      <td>3</td>\n",
       "      <td>1</td>\n",
       "      <td>1</td>\n",
       "    </tr>\n",
       "    <tr>\n",
       "      <th>7360651</th>\n",
       "      <td>2016-06-13</td>\n",
       "      <td>5</td>\n",
       "      <td>17</td>\n",
       "      <td>5</td>\n",
       "      <td>1</td>\n",
       "      <td>1</td>\n",
       "    </tr>\n",
       "    <tr>\n",
       "      <th>7360675</th>\n",
       "      <td>2016-06-17</td>\n",
       "      <td>2</td>\n",
       "      <td>13</td>\n",
       "      <td>2</td>\n",
       "      <td>1</td>\n",
       "      <td>0</td>\n",
       "    </tr>\n",
       "    <tr>\n",
       "      <th>7360728</th>\n",
       "      <td>2016-05-21</td>\n",
       "      <td>1</td>\n",
       "      <td>40</td>\n",
       "      <td>1</td>\n",
       "      <td>1</td>\n",
       "      <td>0</td>\n",
       "    </tr>\n",
       "    <tr>\n",
       "      <th>7360928</th>\n",
       "      <td>2016-05-27</td>\n",
       "      <td>7</td>\n",
       "      <td>34</td>\n",
       "      <td>7</td>\n",
       "      <td>1</td>\n",
       "      <td>1</td>\n",
       "    </tr>\n",
       "  </tbody>\n",
       "</table>\n",
       "<p>130087 rows × 6 columns</p>\n",
       "</div>"
      ],
      "text/plain": [
       "              Date  count    R   F R_score F_score\n",
       "User_id                                           \n",
       "165     2016-06-17     14   13  14       1       1\n",
       "184     2016-02-28      1  123   1       0       0\n",
       "316     2016-06-19      7   11   7       1       1\n",
       "448     2016-06-30     14    0  14       1       1\n",
       "452     2016-05-21      2   40   2       1       0\n",
       "...            ...    ...  ...  ..     ...     ...\n",
       "7360556 2016-05-15      3   46   3       1       1\n",
       "7360651 2016-06-13      5   17   5       1       1\n",
       "7360675 2016-06-17      2   13   2       1       0\n",
       "7360728 2016-05-21      1   40   1       1       0\n",
       "7360928 2016-05-27      7   34   7       1       1\n",
       "\n",
       "[130087 rows x 6 columns]"
      ]
     },
     "execution_count": 56,
     "metadata": {},
     "output_type": "execute_result"
    }
   ],
   "source": [
    "rfm_df[['R_score', 'F_score']] = (rfm_df[['R_score', 'F_score']] - rfm_df[['R_score', 'F_score']].mean()).applymap(lambda x: '1' if x > \n",
    "                                                                                                                   0 else '0')\n",
    "rfm_df"
   ]
  },
  {
   "attachments": {},
   "cell_type": "markdown",
   "metadata": {},
   "source": [
    "            4.5.5 根据平均值和用户分类规则表对用户分类"
   ]
  },
  {
   "cell_type": "code",
   "execution_count": 57,
   "metadata": {},
   "outputs": [
    {
     "data": {
      "text/plain": [
       "重要挽留客户    44255\n",
       "重要发展客户    39999\n",
       "重要价值客户    37948\n",
       "重要保持客户     7885\n",
       "Name: label, dtype: int64"
      ]
     },
     "execution_count": 57,
     "metadata": {},
     "output_type": "execute_result"
    }
   ],
   "source": [
    "def label(x):\n",
    "    d = {'11': '重要价值客户',\n",
    "         '10': '重要发展客户',\n",
    "         '01': '重要保持客户',\n",
    "         '00': '重要挽留客户'}\n",
    "    level = x['R_score'] + x['F_score']\n",
    "    return d[level]\n",
    "\n",
    "rfm_df['label'] = rfm_df.apply(label, axis=1)\n",
    "rfm_df.label.value_counts()"
   ]
  },
  {
   "attachments": {},
   "cell_type": "markdown",
   "metadata": {},
   "source": [
    "            4.5.6 查询各分层用户数量"
   ]
  },
  {
   "cell_type": "code",
   "execution_count": 58,
   "metadata": {},
   "outputs": [
    {
     "data": {
      "image/png": "[encoded data removed]",
      "text/plain": [
       "<Figure size 640x480 with 1 Axes>"
      ]
     },
     "metadata": {},
     "output_type": "display_data"
    }
   ],
   "source": [
    "plt.bar(rfm_df.label.value_counts().index, rfm_df.label.value_counts().values, width=0.3)\n",
    "plt.show()"
   ]
  },
  {
   "attachments": {},
   "cell_type": "markdown",
   "metadata": {},
   "source": [
    "## 五. 商户分析\n",
    "\n"
   ]
  },
  {
   "attachments": {},
   "cell_type": "markdown",
   "metadata": {},
   "source": [
    "        5.1 每月有消费商户统计"
   ]
  },
  {
   "cell_type": "code",
   "execution_count": 59,
   "metadata": {},
   "outputs": [
    {
     "name": "stderr",
     "output_type": "stream",
     "text": [
      "C:\\Users\\wdl\\AppData\\Local\\Temp\\ipykernel_4552\\2049594753.py:2: SettingWithCopyWarning: \n",
      "A value is trying to be set on a copy of a slice from a DataFrame\n",
      "\n",
      "See the caveats in the documentation: https://pandas.pydata.org/pandas-docs/stable/user_guide/indexing.html#returning-a-view-versus-a-copy\n",
      "  temp_df2.drop('month', axis=1, inplace=True)\n",
      "C:\\Users\\wdl\\AppData\\Local\\Temp\\ipykernel_4552\\2049594753.py:3: SettingWithCopyWarning: \n",
      "A value is trying to be set on a copy of a slice from a DataFrame.\n",
      "Try using .loc[row_indexer,col_indexer] = value instead\n",
      "\n",
      "See the caveats in the documentation: https://pandas.pydata.org/pandas-docs/stable/user_guide/indexing.html#returning-a-view-versus-a-copy\n",
      "  temp_df2['month'] = temp_df2.Date.dt.month\n"
     ]
    },
    {
     "data": {
      "text/plain": [
       "month\n",
       "1    2711\n",
       "2    2423\n",
       "3    4029\n",
       "4    5251\n",
       "5    6584\n",
       "6    5598\n",
       "Name: Merchant_id, dtype: int64"
      ]
     },
     "execution_count": 59,
     "metadata": {},
     "output_type": "execute_result"
    }
   ],
   "source": [
    "temp_df2 = offline[offline.Date.notna()]\n",
    "temp_df2.drop('month', axis=1, inplace=True)\n",
    "temp_df2['month'] = temp_df2.Date.dt.month\n",
    "temp_df2.groupby('month').Merchant_id.nunique()"
   ]
  },
  {
   "cell_type": "code",
   "execution_count": 60,
   "metadata": {},
   "outputs": [
    {
     "name": "stdout",
     "output_type": "stream",
     "text": [
      "1月商家数量：2711个\n",
      "2月商家数量：2423个\n",
      "3月商家数量：4029个\n",
      "4月商家数量：5251个\n",
      "5月商家数量：6584个\n",
      "6月商家数量：5598个\n"
     ]
    }
   ],
   "source": [
    "for i in range(1, 7):\n",
    "    print(f'{i}月商家数量：{temp_df2.groupby(\"month\").Merchant_id.nunique()[i]}个')"
   ]
  },
  {
   "attachments": {},
   "cell_type": "markdown",
   "metadata": {},
   "source": [
    "        5.2 一周内每天有消费的商户数量"
   ]
  },
  {
   "cell_type": "code",
   "execution_count": 61,
   "metadata": {},
   "outputs": [
    {
     "name": "stderr",
     "output_type": "stream",
     "text": [
      "C:\\Users\\wdl\\AppData\\Local\\Temp\\ipykernel_4552\\2856122812.py:1: SettingWithCopyWarning: \n",
      "A value is trying to be set on a copy of a slice from a DataFrame.\n",
      "Try using .loc[row_indexer,col_indexer] = value instead\n",
      "\n",
      "See the caveats in the documentation: https://pandas.pydata.org/pandas-docs/stable/user_guide/indexing.html#returning-a-view-versus-a-copy\n",
      "  temp_df2['weekday'] = temp_df2.Date.dt.weekday + 1\n"
     ]
    },
    {
     "data": {
      "text/plain": [
       "weekday\n",
       "1    5085\n",
       "2    5135\n",
       "3    5220\n",
       "4    5387\n",
       "5    5444\n",
       "6    5506\n",
       "7    5276\n",
       "Name: Merchant_id, dtype: int64"
      ]
     },
     "execution_count": 61,
     "metadata": {},
     "output_type": "execute_result"
    }
   ],
   "source": [
    "temp_df2['weekday'] = temp_df2.Date.dt.weekday + 1\n",
    "temp_df2.groupby('weekday').Merchant_id.nunique()"
   ]
  },
  {
   "cell_type": "code",
   "execution_count": 62,
   "metadata": {},
   "outputs": [
    {
     "name": "stdout",
     "output_type": "stream",
     "text": [
      "星期1有消费的商家数量：5085个\n",
      "星期2有消费的商家数量：5135个\n",
      "星期3有消费的商家数量：5220个\n",
      "星期4有消费的商家数量：5387个\n",
      "星期5有消费的商家数量：5444个\n",
      "星期6有消费的商家数量：5506个\n",
      "星期7有消费的商家数量：5276个\n"
     ]
    }
   ],
   "source": [
    "for i in range(1, 8):\n",
    "    print(f'星期{i}有消费的商家数量：{temp_df2.groupby(\"weekday\").Merchant_id.nunique()[i]}个')"
   ]
  },
  {
   "attachments": {},
   "cell_type": "markdown",
   "metadata": {},
   "source": [
    "        5.3 商户整体核销率，核销率在0.25以下的商户占比"
   ]
  },
  {
   "cell_type": "code",
   "execution_count": 63,
   "metadata": {},
   "outputs": [
    {
     "data": {
      "text/html": [
       "<div>\n",
       "<style scoped>\n",
       "    .dataframe tbody tr th:only-of-type {\n",
       "        vertical-align: middle;\n",
       "    }\n",
       "\n",
       "    .dataframe tbody tr th {\n",
       "        vertical-align: top;\n",
       "    }\n",
       "\n",
       "    .dataframe thead th {\n",
       "        text-align: right;\n",
       "    }\n",
       "</style>\n",
       "<table border=\"1\" class=\"dataframe\">\n",
       "  <thead>\n",
       "    <tr style=\"text-align: right;\">\n",
       "      <th></th>\n",
       "      <th>User_id</th>\n",
       "      <th>Merchant_id</th>\n",
       "      <th>Coupon_id</th>\n",
       "      <th>Discount_rate</th>\n",
       "      <th>Distance</th>\n",
       "      <th>Date_received</th>\n",
       "      <th>Date</th>\n",
       "      <th>month</th>\n",
       "      <th>weekday</th>\n",
       "    </tr>\n",
       "  </thead>\n",
       "  <tbody>\n",
       "    <tr>\n",
       "      <th>0</th>\n",
       "      <td>1439408</td>\n",
       "      <td>2632</td>\n",
       "      <td>NaN</td>\n",
       "      <td>NaN</td>\n",
       "      <td>0.0000</td>\n",
       "      <td>NaT</td>\n",
       "      <td>2016-02-17</td>\n",
       "      <td>2</td>\n",
       "      <td>3</td>\n",
       "    </tr>\n",
       "    <tr>\n",
       "      <th>5</th>\n",
       "      <td>1439408</td>\n",
       "      <td>2632</td>\n",
       "      <td>NaN</td>\n",
       "      <td>NaN</td>\n",
       "      <td>0.0000</td>\n",
       "      <td>NaT</td>\n",
       "      <td>2016-05-16</td>\n",
       "      <td>5</td>\n",
       "      <td>1</td>\n",
       "    </tr>\n",
       "    <tr>\n",
       "      <th>6</th>\n",
       "      <td>1439408</td>\n",
       "      <td>2632</td>\n",
       "      <td>8591.0000</td>\n",
       "      <td>0.9500</td>\n",
       "      <td>0.0000</td>\n",
       "      <td>2016-05-16</td>\n",
       "      <td>2016-06-13</td>\n",
       "      <td>6</td>\n",
       "      <td>1</td>\n",
       "    </tr>\n",
       "    <tr>\n",
       "      <th>11</th>\n",
       "      <td>2029232</td>\n",
       "      <td>6459</td>\n",
       "      <td>NaN</td>\n",
       "      <td>NaN</td>\n",
       "      <td>0.0000</td>\n",
       "      <td>NaT</td>\n",
       "      <td>2016-06-26</td>\n",
       "      <td>6</td>\n",
       "      <td>7</td>\n",
       "    </tr>\n",
       "    <tr>\n",
       "      <th>12</th>\n",
       "      <td>2029232</td>\n",
       "      <td>6459</td>\n",
       "      <td>NaN</td>\n",
       "      <td>NaN</td>\n",
       "      <td>0.0000</td>\n",
       "      <td>NaT</td>\n",
       "      <td>2016-05-19</td>\n",
       "      <td>5</td>\n",
       "      <td>4</td>\n",
       "    </tr>\n",
       "    <tr>\n",
       "      <th>...</th>\n",
       "      <td>...</td>\n",
       "      <td>...</td>\n",
       "      <td>...</td>\n",
       "      <td>...</td>\n",
       "      <td>...</td>\n",
       "      <td>...</td>\n",
       "      <td>...</td>\n",
       "      <td>...</td>\n",
       "      <td>...</td>\n",
       "    </tr>\n",
       "    <tr>\n",
       "      <th>1048569</th>\n",
       "      <td>5186127</td>\n",
       "      <td>4043</td>\n",
       "      <td>NaN</td>\n",
       "      <td>NaN</td>\n",
       "      <td>1.0000</td>\n",
       "      <td>NaT</td>\n",
       "      <td>2016-05-28</td>\n",
       "      <td>5</td>\n",
       "      <td>6</td>\n",
       "    </tr>\n",
       "    <tr>\n",
       "      <th>1048570</th>\n",
       "      <td>5186127</td>\n",
       "      <td>4043</td>\n",
       "      <td>3996.0000</td>\n",
       "      <td>0.8300</td>\n",
       "      <td>1.0000</td>\n",
       "      <td>2016-02-03</td>\n",
       "      <td>2016-02-10</td>\n",
       "      <td>2</td>\n",
       "      <td>3</td>\n",
       "    </tr>\n",
       "    <tr>\n",
       "      <th>1048572</th>\n",
       "      <td>5186127</td>\n",
       "      <td>4043</td>\n",
       "      <td>NaN</td>\n",
       "      <td>NaN</td>\n",
       "      <td>1.0000</td>\n",
       "      <td>NaT</td>\n",
       "      <td>2016-05-30</td>\n",
       "      <td>5</td>\n",
       "      <td>1</td>\n",
       "    </tr>\n",
       "    <tr>\n",
       "      <th>1048573</th>\n",
       "      <td>5186127</td>\n",
       "      <td>4043</td>\n",
       "      <td>NaN</td>\n",
       "      <td>NaN</td>\n",
       "      <td>1.0000</td>\n",
       "      <td>NaT</td>\n",
       "      <td>2016-05-01</td>\n",
       "      <td>5</td>\n",
       "      <td>7</td>\n",
       "    </tr>\n",
       "    <tr>\n",
       "      <th>1048574</th>\n",
       "      <td>5186127</td>\n",
       "      <td>4043</td>\n",
       "      <td>NaN</td>\n",
       "      <td>NaN</td>\n",
       "      <td>1.0000</td>\n",
       "      <td>NaT</td>\n",
       "      <td>2016-04-08</td>\n",
       "      <td>4</td>\n",
       "      <td>5</td>\n",
       "    </tr>\n",
       "  </tbody>\n",
       "</table>\n",
       "<p>463717 rows × 9 columns</p>\n",
       "</div>"
      ],
      "text/plain": [
       "         User_id  Merchant_id  Coupon_id  Discount_rate  Distance  \\\n",
       "0        1439408         2632        NaN            NaN    0.0000   \n",
       "5        1439408         2632        NaN            NaN    0.0000   \n",
       "6        1439408         2632  8591.0000         0.9500    0.0000   \n",
       "11       2029232         6459        NaN            NaN    0.0000   \n",
       "12       2029232         6459        NaN            NaN    0.0000   \n",
       "...          ...          ...        ...            ...       ...   \n",
       "1048569  5186127         4043        NaN            NaN    1.0000   \n",
       "1048570  5186127         4043  3996.0000         0.8300    1.0000   \n",
       "1048572  5186127         4043        NaN            NaN    1.0000   \n",
       "1048573  5186127         4043        NaN            NaN    1.0000   \n",
       "1048574  5186127         4043        NaN            NaN    1.0000   \n",
       "\n",
       "        Date_received       Date  month  weekday  \n",
       "0                 NaT 2016-02-17      2        3  \n",
       "5                 NaT 2016-05-16      5        1  \n",
       "6          2016-05-16 2016-06-13      6        1  \n",
       "11                NaT 2016-06-26      6        7  \n",
       "12                NaT 2016-05-19      5        4  \n",
       "...               ...        ...    ...      ...  \n",
       "1048569           NaT 2016-05-28      5        6  \n",
       "1048570    2016-02-03 2016-02-10      2        3  \n",
       "1048572           NaT 2016-05-30      5        1  \n",
       "1048573           NaT 2016-05-01      5        7  \n",
       "1048574           NaT 2016-04-08      4        5  \n",
       "\n",
       "[463717 rows x 9 columns]"
      ]
     },
     "execution_count": 63,
     "metadata": {},
     "output_type": "execute_result"
    }
   ],
   "source": [
    "temp_df2"
   ]
  },
  {
   "cell_type": "code",
   "execution_count": 64,
   "metadata": {},
   "outputs": [
    {
     "name": "stdout",
     "output_type": "stream",
     "text": [
      "商户整体核销率：9.70%\n"
     ]
    }
   ],
   "source": [
    "temp_df2[temp_df2.Date_received.notna() & temp_df2.Date.notna()].Date.count() / temp_df2.Date.count()\n",
    "print(f'商户整体核销率：{temp_df2[temp_df2.Date_received.notna() & temp_df2.Date.notna()].Date.count() / temp_df2.Date.count()*100:.2f}%')"
   ]
  },
  {
   "cell_type": "code",
   "execution_count": 65,
   "metadata": {},
   "outputs": [
    {
     "name": "stdout",
     "output_type": "stream",
     "text": [
      "核销率低于25%的商户占比：77.15%\n"
     ]
    }
   ],
   "source": [
    "Merchan_write_off_rate = temp_df2[temp_df2.Date_received.notna() & temp_df2.Date.notna()].groupby('Merchant_id').Date.count() / temp_df2.groupby('Merchant_id').Date.count()\n",
    "Merchan_write_off_rate[Merchan_write_off_rate < 0.25].count() / Merchan_write_off_rate.count() * 100\n",
    "print(f'核销率低于25%的商户占比：{Merchan_write_off_rate[Merchan_write_off_rate < 0.25].count() / Merchan_write_off_rate.count() * 100:.2f}%')"
   ]
  },
  {
   "attachments": {},
   "cell_type": "markdown",
   "metadata": {},
   "source": [
    "        5.4 商户分层"
   ]
  },
  {
   "cell_type": "code",
   "execution_count": 74,
   "metadata": {},
   "outputs": [
    {
     "data": {
      "text/html": [
       "<div>\n",
       "<style scoped>\n",
       "    .dataframe tbody tr th:only-of-type {\n",
       "        vertical-align: middle;\n",
       "    }\n",
       "\n",
       "    .dataframe tbody tr th {\n",
       "        vertical-align: top;\n",
       "    }\n",
       "\n",
       "    .dataframe thead th {\n",
       "        text-align: right;\n",
       "    }\n",
       "</style>\n",
       "<table border=\"1\" class=\"dataframe\">\n",
       "  <thead>\n",
       "    <tr style=\"text-align: right;\">\n",
       "      <th></th>\n",
       "      <th>User_id</th>\n",
       "      <th>Merchant_id</th>\n",
       "      <th>Coupon_id</th>\n",
       "      <th>Discount_rate</th>\n",
       "      <th>Distance</th>\n",
       "      <th>Date_received</th>\n",
       "      <th>Date</th>\n",
       "      <th>month</th>\n",
       "    </tr>\n",
       "  </thead>\n",
       "  <tbody>\n",
       "    <tr>\n",
       "      <th>1</th>\n",
       "      <td>1439408</td>\n",
       "      <td>4663</td>\n",
       "      <td>11002.0000</td>\n",
       "      <td>0.8700</td>\n",
       "      <td>1.0000</td>\n",
       "      <td>2016-05-28</td>\n",
       "      <td>NaT</td>\n",
       "      <td>NaN</td>\n",
       "    </tr>\n",
       "    <tr>\n",
       "      <th>2</th>\n",
       "      <td>1439408</td>\n",
       "      <td>2632</td>\n",
       "      <td>8591.0000</td>\n",
       "      <td>0.9500</td>\n",
       "      <td>0.0000</td>\n",
       "      <td>2016-02-17</td>\n",
       "      <td>NaT</td>\n",
       "      <td>NaN</td>\n",
       "    </tr>\n",
       "    <tr>\n",
       "      <th>3</th>\n",
       "      <td>1439408</td>\n",
       "      <td>2632</td>\n",
       "      <td>1078.0000</td>\n",
       "      <td>0.9500</td>\n",
       "      <td>0.0000</td>\n",
       "      <td>2016-03-19</td>\n",
       "      <td>NaT</td>\n",
       "      <td>NaN</td>\n",
       "    </tr>\n",
       "    <tr>\n",
       "      <th>4</th>\n",
       "      <td>1439408</td>\n",
       "      <td>2632</td>\n",
       "      <td>8591.0000</td>\n",
       "      <td>0.9500</td>\n",
       "      <td>0.0000</td>\n",
       "      <td>2016-06-13</td>\n",
       "      <td>NaT</td>\n",
       "      <td>NaN</td>\n",
       "    </tr>\n",
       "    <tr>\n",
       "      <th>6</th>\n",
       "      <td>1439408</td>\n",
       "      <td>2632</td>\n",
       "      <td>8591.0000</td>\n",
       "      <td>0.9500</td>\n",
       "      <td>0.0000</td>\n",
       "      <td>2016-05-16</td>\n",
       "      <td>2016-06-13</td>\n",
       "      <td>6.0000</td>\n",
       "    </tr>\n",
       "    <tr>\n",
       "      <th>...</th>\n",
       "      <td>...</td>\n",
       "      <td>...</td>\n",
       "      <td>...</td>\n",
       "      <td>...</td>\n",
       "      <td>...</td>\n",
       "      <td>...</td>\n",
       "      <td>...</td>\n",
       "      <td>...</td>\n",
       "    </tr>\n",
       "    <tr>\n",
       "      <th>1048566</th>\n",
       "      <td>4384335</td>\n",
       "      <td>3381</td>\n",
       "      <td>9776.0000</td>\n",
       "      <td>0.5000</td>\n",
       "      <td>11.0000</td>\n",
       "      <td>2016-01-29</td>\n",
       "      <td>NaT</td>\n",
       "      <td>NaN</td>\n",
       "    </tr>\n",
       "    <tr>\n",
       "      <th>1048567</th>\n",
       "      <td>4384335</td>\n",
       "      <td>3381</td>\n",
       "      <td>1807.0000</td>\n",
       "      <td>0.9000</td>\n",
       "      <td>11.0000</td>\n",
       "      <td>2016-01-28</td>\n",
       "      <td>NaT</td>\n",
       "      <td>NaN</td>\n",
       "    </tr>\n",
       "    <tr>\n",
       "      <th>1048568</th>\n",
       "      <td>4912719</td>\n",
       "      <td>450</td>\n",
       "      <td>8555.0000</td>\n",
       "      <td>0.8300</td>\n",
       "      <td>3.0000</td>\n",
       "      <td>2016-02-04</td>\n",
       "      <td>NaT</td>\n",
       "      <td>NaN</td>\n",
       "    </tr>\n",
       "    <tr>\n",
       "      <th>1048570</th>\n",
       "      <td>5186127</td>\n",
       "      <td>4043</td>\n",
       "      <td>3996.0000</td>\n",
       "      <td>0.8300</td>\n",
       "      <td>1.0000</td>\n",
       "      <td>2016-02-03</td>\n",
       "      <td>2016-02-10</td>\n",
       "      <td>2.0000</td>\n",
       "    </tr>\n",
       "    <tr>\n",
       "      <th>1048571</th>\n",
       "      <td>5186127</td>\n",
       "      <td>4043</td>\n",
       "      <td>3996.0000</td>\n",
       "      <td>0.8300</td>\n",
       "      <td>1.0000</td>\n",
       "      <td>2016-02-12</td>\n",
       "      <td>NaT</td>\n",
       "      <td>NaN</td>\n",
       "    </tr>\n",
       "  </tbody>\n",
       "</table>\n",
       "<p>629824 rows × 8 columns</p>\n",
       "</div>"
      ],
      "text/plain": [
       "         User_id  Merchant_id  Coupon_id  Discount_rate  Distance  \\\n",
       "1        1439408         4663 11002.0000         0.8700    1.0000   \n",
       "2        1439408         2632  8591.0000         0.9500    0.0000   \n",
       "3        1439408         2632  1078.0000         0.9500    0.0000   \n",
       "4        1439408         2632  8591.0000         0.9500    0.0000   \n",
       "6        1439408         2632  8591.0000         0.9500    0.0000   \n",
       "...          ...          ...        ...            ...       ...   \n",
       "1048566  4384335         3381  9776.0000         0.5000   11.0000   \n",
       "1048567  4384335         3381  1807.0000         0.9000   11.0000   \n",
       "1048568  4912719          450  8555.0000         0.8300    3.0000   \n",
       "1048570  5186127         4043  3996.0000         0.8300    1.0000   \n",
       "1048571  5186127         4043  3996.0000         0.8300    1.0000   \n",
       "\n",
       "        Date_received       Date  month  \n",
       "1          2016-05-28        NaT    NaN  \n",
       "2          2016-02-17        NaT    NaN  \n",
       "3          2016-03-19        NaT    NaN  \n",
       "4          2016-06-13        NaT    NaN  \n",
       "6          2016-05-16 2016-06-13 6.0000  \n",
       "...               ...        ...    ...  \n",
       "1048566    2016-01-29        NaT    NaN  \n",
       "1048567    2016-01-28        NaT    NaN  \n",
       "1048568    2016-02-04        NaT    NaN  \n",
       "1048570    2016-02-03 2016-02-10 2.0000  \n",
       "1048571    2016-02-12        NaT    NaN  \n",
       "\n",
       "[629824 rows x 8 columns]"
      ]
     },
     "execution_count": 74,
     "metadata": {},
     "output_type": "execute_result"
    }
   ],
   "source": [
    "offline[offline.Coupon_id.notna()]"
   ]
  },
  {
   "cell_type": "code",
   "execution_count": 78,
   "metadata": {},
   "outputs": [
    {
     "data": {
      "text/plain": [
       "<pandas.core.groupby.generic.DataFrameGroupBy object at 0x000001B46427FE90>"
      ]
     },
     "execution_count": 78,
     "metadata": {},
     "output_type": "execute_result"
    }
   ],
   "source": [
    "temp_df3 = offline[offline.Coupon_id.notna()].groupby('Merchant_id')\n",
    "temp_df3"
   ]
  },
  {
   "cell_type": "code",
   "execution_count": 83,
   "metadata": {},
   "outputs": [
    {
     "data": {
      "text/plain": [
       "61"
      ]
     },
     "execution_count": 83,
     "metadata": {},
     "output_type": "execute_result"
    }
   ],
   "source": [
    "temp_df3.Date.count()[temp_df3.Date.count() > 100].count()"
   ]
  },
  {
   "cell_type": "code",
   "execution_count": 93,
   "metadata": {},
   "outputs": [
    {
     "data": {
      "text/plain": [
       "Merchant_id\n",
       "2       True\n",
       "3       True\n",
       "4       True\n",
       "5       True\n",
       "8       True\n",
       "        ... \n",
       "8848    True\n",
       "8850    True\n",
       "8852    True\n",
       "8854    True\n",
       "8856    True\n",
       "Name: Date, Length: 5347, dtype: bool"
      ]
     },
     "execution_count": 93,
     "metadata": {},
     "output_type": "execute_result"
    }
   ],
   "source": [
    "temp_df3.Date.count() < 100"
   ]
  },
  {
   "attachments": {},
   "cell_type": "markdown",
   "metadata": {},
   "source": [
    "## 六. 优惠券分析\n",
    "\n",
    "        6.1 优惠券每日领取，每日核销情况"
   ]
  },
  {
   "attachments": {},
   "cell_type": "markdown",
   "metadata": {},
   "source": [
    "        6.2 优惠券平均核销时间"
   ]
  },
  {
   "attachments": {},
   "cell_type": "markdown",
   "metadata": {},
   "source": [
    "        6.3 不同距离下优惠券的领取量及核销率"
   ]
  },
  {
   "attachments": {},
   "cell_type": "markdown",
   "metadata": {},
   "source": [
    "## 七.  相关分析\n",
    "        7.1 门店距离与优惠券核销率的相关性"
   ]
  },
  {
   "attachments": {},
   "cell_type": "markdown",
   "metadata": {},
   "source": [
    "        7.2 优惠券折扣与核销率的相关性"
   ]
  },
  {
   "attachments": {},
   "cell_type": "markdown",
   "metadata": {},
   "source": [
    "## 八. Tableau可视化图表"
   ]
  },
  {
   "attachments": {},
   "cell_type": "markdown",
   "metadata": {},
   "source": [
    "## 九. 数据分析"
   ]
  }
 ],
 "metadata": {
  "kernelspec": {
   "display_name": "Python 3",
   "language": "python",
   "name": "python3"
  },
  "language_info": {
   "codemirror_mode": {
    "name": "ipython",
    "version": 3
   },
   "file_extension": ".py",
   "mimetype": "text/x-python",
   "name": "python",
   "nbconvert_exporter": "python",
   "pygments_lexer": "ipython3",
   "version": "3.11.3"
  },
  "orig_nbformat": 4
 },
 "nbformat": 4,
 "nbformat_minor": 2
}
