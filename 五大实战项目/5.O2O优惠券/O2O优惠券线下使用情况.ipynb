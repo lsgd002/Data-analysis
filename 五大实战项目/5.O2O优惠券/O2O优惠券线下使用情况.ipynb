{
 "cells": [
  {
   "attachments": {},
   "cell_type": "markdown",
   "metadata": {},
   "source": [
    "# O2O优惠券线下使用情况\n",
    "\n",
    "https://blog.csdn.net/BiLiBa123/article/details/128020313?ops_request_misc=%257B%2522request%255Fid%2522%253A%2522168272786316800184144333%2522%252C%2522scm%2522%253A%252220140713.130102334..%2522%257D&request_id=168272786316800184144333&biz_id=0&utm_medium=distribute.pc_search_result.none-task-blog-2~all~sobaiduend~default-2-128020313-null-null.142^v86^control,239^v2^insert_chatgpt&utm_term=%E4%BC%98%E6%83%A0%E5%88%B8%E4%BD%BF%E7%94%A8%E6%83%85%E5%86%B5%E5%88%86%E6%9E%90&spm=1018.2226.3001.4187  \n",
    "\n",
    "https://www.bilibili.com/video/BV1K24y1G7pJ?p=42"
   ]
  },
  {
   "attachments": {},
   "cell_type": "markdown",
   "metadata": {},
   "source": [
    "数据清洗工具：jupyter notebook\n",
    "\n",
    "数据分析工具：Python\n",
    "\n",
    "可视化图表工具：Pyecharts\n",
    "\n",
    "分析类型：描述性分析，诊断分析\n",
    "\n",
    "分析方法：漏斗分析，RFM用户价值分析，AARRR分析，假设检验分析。"
   ]
  },
  {
   "attachments": {},
   "cell_type": "markdown",
   "metadata": {},
   "source": [
    "## 一. 数据清洗\n",
    "\n",
    "        1.1 数据集来源\n",
    "\n",
    "数据来源：https://tianchi.aliyun.com/competition/entrance/231593/information"
   ]
  },
  {
   "attachments": {},
   "cell_type": "markdown",
   "metadata": {},
   "source": [
    "        1.2 数据说明\n",
    "数据说明：用户在2016年1月1日至2016年6月30日之间真实线下消费行为数据\n",
    "\n",
    "分析工具：Python\n",
    "\n",
    "Table 1: 用户线下消费和优惠券领取行为\n",
    "\n",
    "| Field | Description |  \n",
    "| :--- | :--- |\n",
    "| User_id | 用户ID |  \n",
    "| Merchant_id | 商户ID|  \n",
    "|Coupon_id | 优惠券ID：null表示无优惠券消费，此时Discount_rate和Date_received字段无意义 |\n",
    "| Discount_rate | 优惠率：x \\in [0,1]代表折扣率；x:y表示满x减y。单位是元 |\n",
    "| Distanceuser | 经常活动的地点离该merchant的最近门店距离是x*500米（如果是连锁店，则取最近的一家门店），x\\in[0,10]；<br>null表示无此信息，0表示低于500米，10表示大于5公里；|\n",
    "| Date_received | 领取优惠券日期 |\n",
    "| Date | 消费日期：<br>如果Date=null & Coupon_id != null，该记录表示领取优惠券但没有使用，即负样本；<br>如果Date!=null & Coupon_id = null，则表示普通消费日期；<br>如果Date!=null & Coupon_id != null，则表示用优惠券消费日期，即正样本；"
   ]
  },
  {
   "attachments": {},
   "cell_type": "markdown",
   "metadata": {},
   "source": [
    "        1.3 数据导入"
   ]
  },
  {
   "cell_type": "code",
   "execution_count": 123,
   "metadata": {},
   "outputs": [],
   "source": [
    "import numpy as np\n",
    "import pandas as pd\n",
    "import matplotlib.pyplot as plt\n",
    "\n",
    "plt.rcParams['font.sans-serif'] = ['SimHei']\n",
    "plt.rcParams['axes.unicode_minus'] = False"
   ]
  },
  {
   "cell_type": "code",
   "execution_count": 124,
   "metadata": {},
   "outputs": [
    {
     "data": {
      "text/html": [
       "<div>\n",
       "<style scoped>\n",
       "    .dataframe tbody tr th:only-of-type {\n",
       "        vertical-align: middle;\n",
       "    }\n",
       "\n",
       "    .dataframe tbody tr th {\n",
       "        vertical-align: top;\n",
       "    }\n",
       "\n",
       "    .dataframe thead th {\n",
       "        text-align: right;\n",
       "    }\n",
       "</style>\n",
       "<table border=\"1\" class=\"dataframe\">\n",
       "  <thead>\n",
       "    <tr style=\"text-align: right;\">\n",
       "      <th></th>\n",
       "      <th>User_id</th>\n",
       "      <th>Merchant_id</th>\n",
       "      <th>Coupon_id</th>\n",
       "      <th>Discount_rate</th>\n",
       "      <th>Distance</th>\n",
       "      <th>Date_received</th>\n",
       "      <th>Date</th>\n",
       "    </tr>\n",
       "  </thead>\n",
       "  <tbody>\n",
       "    <tr>\n",
       "      <th>0</th>\n",
       "      <td>1439408</td>\n",
       "      <td>2632</td>\n",
       "      <td>NaN</td>\n",
       "      <td>NaN</td>\n",
       "      <td>0.0</td>\n",
       "      <td>NaT</td>\n",
       "      <td>2016-02-17</td>\n",
       "    </tr>\n",
       "    <tr>\n",
       "      <th>1</th>\n",
       "      <td>1439408</td>\n",
       "      <td>4663</td>\n",
       "      <td>11002.0</td>\n",
       "      <td>150:20:00</td>\n",
       "      <td>1.0</td>\n",
       "      <td>2016-05-28</td>\n",
       "      <td>NaT</td>\n",
       "    </tr>\n",
       "    <tr>\n",
       "      <th>2</th>\n",
       "      <td>1439408</td>\n",
       "      <td>2632</td>\n",
       "      <td>8591.0</td>\n",
       "      <td>20:01</td>\n",
       "      <td>0.0</td>\n",
       "      <td>2016-02-17</td>\n",
       "      <td>NaT</td>\n",
       "    </tr>\n",
       "    <tr>\n",
       "      <th>3</th>\n",
       "      <td>1439408</td>\n",
       "      <td>2632</td>\n",
       "      <td>1078.0</td>\n",
       "      <td>20:01</td>\n",
       "      <td>0.0</td>\n",
       "      <td>2016-03-19</td>\n",
       "      <td>NaT</td>\n",
       "    </tr>\n",
       "    <tr>\n",
       "      <th>4</th>\n",
       "      <td>1439408</td>\n",
       "      <td>2632</td>\n",
       "      <td>8591.0</td>\n",
       "      <td>20:01</td>\n",
       "      <td>0.0</td>\n",
       "      <td>2016-06-13</td>\n",
       "      <td>NaT</td>\n",
       "    </tr>\n",
       "  </tbody>\n",
       "</table>\n",
       "</div>"
      ],
      "text/plain": [
       "   User_id  Merchant_id  Coupon_id Discount_rate  Distance Date_received  \\\n",
       "0  1439408         2632        NaN           NaN       0.0           NaT   \n",
       "1  1439408         4663    11002.0     150:20:00       1.0    2016-05-28   \n",
       "2  1439408         2632     8591.0         20:01       0.0    2016-02-17   \n",
       "3  1439408         2632     1078.0         20:01       0.0    2016-03-19   \n",
       "4  1439408         2632     8591.0         20:01       0.0    2016-06-13   \n",
       "\n",
       "        Date  \n",
       "0 2016-02-17  \n",
       "1        NaT  \n",
       "2        NaT  \n",
       "3        NaT  \n",
       "4        NaT  "
      ]
     },
     "execution_count": 124,
     "metadata": {},
     "output_type": "execute_result"
    }
   ],
   "source": [
    "offline = pd.read_csv(r'C:\\Users\\wdl\\Data-analysis\\五大实战项目\\5.O2O优惠券\\data\\ccf_offline_stage1_train.csv', parse_dates=['Date_received', 'Date'])\n",
    "offline.head(5)"
   ]
  },
  {
   "cell_type": "code",
   "execution_count": 125,
   "metadata": {},
   "outputs": [
    {
     "name": "stdout",
     "output_type": "stream",
     "text": [
      "<class 'pandas.core.frame.DataFrame'>\n",
      "RangeIndex: 1048575 entries, 0 to 1048574\n",
      "Data columns (total 7 columns):\n",
      " #   Column         Non-Null Count    Dtype         \n",
      "---  ------         --------------    -----         \n",
      " 0   User_id        1048575 non-null  int64         \n",
      " 1   Merchant_id    1048575 non-null  int64         \n",
      " 2   Coupon_id      629824 non-null   float64       \n",
      " 3   Discount_rate  629824 non-null   object        \n",
      " 4   Distance       985589 non-null   float64       \n",
      " 5   Date_received  629824 non-null   datetime64[ns]\n",
      " 6   Date           463717 non-null   datetime64[ns]\n",
      "dtypes: datetime64[ns](2), float64(2), int64(2), object(1)\n",
      "memory usage: 56.0+ MB\n"
     ]
    }
   ],
   "source": [
    "offline.info()"
   ]
  },
  {
   "attachments": {},
   "cell_type": "markdown",
   "metadata": {},
   "source": [
    "        1.4 查看缺失值"
   ]
  },
  {
   "cell_type": "code",
   "execution_count": 126,
   "metadata": {},
   "outputs": [
    {
     "data": {
      "text/plain": [
       "User_id               0\n",
       "Merchant_id           0\n",
       "Coupon_id        418751\n",
       "Discount_rate    418751\n",
       "Distance          62986\n",
       "Date_received    418751\n",
       "Date             584858\n",
       "dtype: int64"
      ]
     },
     "execution_count": 126,
     "metadata": {},
     "output_type": "execute_result"
    }
   ],
   "source": [
    "offline.isnull().sum()"
   ]
  },
  {
   "cell_type": "markdown",
   "metadata": {},
   "source": [
    "            1.4.1 验证缺失值是否相等"
   ]
  },
  {
   "cell_type": "code",
   "execution_count": 127,
   "metadata": {},
   "outputs": [],
   "source": [
    "nan1 = offline.Coupon_id.isna()\n",
    "nan2 = offline.Discount_rate.isna()\n",
    "nan3 = offline.Date_received.isna()"
   ]
  },
  {
   "cell_type": "code",
   "execution_count": 128,
   "metadata": {},
   "outputs": [
    {
     "data": {
      "text/plain": [
       "True"
      ]
     },
     "execution_count": 128,
     "metadata": {},
     "output_type": "execute_result"
    }
   ],
   "source": [
    "np.all(nan1 == nan2)"
   ]
  },
  {
   "cell_type": "code",
   "execution_count": 129,
   "metadata": {},
   "outputs": [
    {
     "data": {
      "text/plain": [
       "True"
      ]
     },
     "execution_count": 129,
     "metadata": {},
     "output_type": "execute_result"
    }
   ],
   "source": [
    "np.all(nan1 == nan3)"
   ]
  },
  {
   "cell_type": "code",
   "execution_count": 130,
   "metadata": {},
   "outputs": [],
   "source": [
    "offline['Distance'].fillna(11, inplace=True)"
   ]
  },
  {
   "attachments": {},
   "cell_type": "markdown",
   "metadata": {},
   "source": [
    "        1.5 数据处理​编辑"
   ]
  },
  {
   "attachments": {},
   "cell_type": "markdown",
   "metadata": {},
   "source": [
    "            1.5.1 计算折扣率"
   ]
  },
  {
   "cell_type": "code",
   "execution_count": 131,
   "metadata": {},
   "outputs": [],
   "source": [
    "def discount_rate_convert(s):\n",
    "    if ':' in str(s):\n",
    "        split = str(s).split(':')\n",
    "        discount_rate = (int(split[0]) - int(split[1])) / int(split[0])\n",
    "        return round(discount_rate, 2)\n",
    "    elif s == np.NaN:\n",
    "        return s\n",
    "    else:\n",
    "        return float(s)"
   ]
  },
  {
   "cell_type": "code",
   "execution_count": 132,
   "metadata": {},
   "outputs": [
    {
     "data": {
      "text/plain": [
       "0           NaN\n",
       "1          0.87\n",
       "2          0.95\n",
       "3          0.95\n",
       "4          0.95\n",
       "           ... \n",
       "1048570    0.83\n",
       "1048571    0.83\n",
       "1048572     NaN\n",
       "1048573     NaN\n",
       "1048574     NaN\n",
       "Name: Discount_rate, Length: 1048575, dtype: float64"
      ]
     },
     "execution_count": 132,
     "metadata": {},
     "output_type": "execute_result"
    }
   ],
   "source": [
    "offline['Discount_rate'] = offline.Discount_rate.map(discount_rate_convert)\n",
    "offline.Discount_rate"
   ]
  },
  {
   "attachments": {},
   "cell_type": "markdown",
   "metadata": {},
   "source": [
    "## 二. 分析"
   ]
  },
  {
   "attachments": {},
   "cell_type": "markdown",
   "metadata": {},
   "source": [
    "        2.1 优惠券使用情况：\n",
    "<br>Date == null & Coupon_id != null，有券未消费（cpon_no_consume）\n",
    "<br>Date != null & Coupon_id == null，无券消费（no_cpon_consume）；\n",
    "<br>Date != null & Coupon_id != null，有券消费（cpon_consume）；\n",
    "<br>Date == null & Coupon_id == null，无券未消费（no_cpon_no_consume）；"
   ]
  },
  {
   "cell_type": "code",
   "execution_count": 133,
   "metadata": {},
   "outputs": [],
   "source": [
    "cpon_no_consume = offline[(offline['Date'].isna() & offline['Coupon_id'].notna())]\n",
    "no_cpon_consume = offline[(offline['Date'].notna() & offline['Coupon_id'].isna())]\n",
    "cpon_consume = offline[(offline['Date'].notna() & offline['Coupon_id'].notna())]\n",
    "no_cpon_no_consume = offline[(offline['Date'].isna() & offline['Coupon_id'].isna())]"
   ]
  },
  {
   "cell_type": "code",
   "execution_count": 134,
   "metadata": {},
   "outputs": [
    {
     "name": "stdout",
     "output_type": "stream",
     "text": [
      "有券未消费： 584858\n",
      "无券消费： 418751\n",
      "有券且消费： 44966\n",
      "无券未消费： 0\n"
     ]
    }
   ],
   "source": [
    "print('有券未消费：', len(cpon_no_consume))\n",
    "print('无券消费：', len(no_cpon_consume))\n",
    "print('有券且消费：', len(cpon_consume))\n",
    "print('无券未消费：', len(no_cpon_no_consume))"
   ]
  },
  {
   "attachments": {},
   "cell_type": "markdown",
   "metadata": {},
   "source": [
    "            2.1.1 优惠券使用情况分析可视化\n",
    "        "
   ]
  },
  {
   "cell_type": "code",
   "execution_count": 135,
   "metadata": {},
   "outputs": [
    {
     "data": {
      "image/png": "[encoded data removed]",
      "text/plain": [
       "<Figure size 640x480 with 1 Axes>"
      ]
     },
     "metadata": {},
     "output_type": "display_data"
    }
   ],
   "source": [
    "plt.pie([len(cpon_no_consume), len(no_cpon_consume), len(cpon_consume), ], \n",
    "        labels=['有券未消费\\n{}'.format(len(cpon_no_consume)), \n",
    "                '无券消费\\n{}'.format(len(no_cpon_consume)), \n",
    "                '有券且消费\\n{}'.format(len(cpon_consume)),], \n",
    "        autopct='%1.1f%%',\n",
    "        shadow=True,\n",
    "        wedgeprops={'linewidth': 1, 'edgecolor': 'black'},\n",
    "        explode=[0.02, 0.05, 0.2],\n",
    "        )\n",
    "plt.legend(labels=['有券未消费', '有券且消费', '无券消费'], loc='best')\n",
    "plt.show()"
   ]
  },
  {
   "attachments": {},
   "cell_type": "markdown",
   "metadata": {},
   "source": [
    "            2.1.2 有券，距离和优惠折扣力度"
   ]
  },
  {
   "cell_type": "code",
   "execution_count": 149,
   "metadata": {},
   "outputs": [
    {
     "data": {
      "image/png": "[encoded data removed]",
      "text/plain": [
       "<Figure size 640x480 with 1 Axes>"
      ]
     },
     "metadata": {},
     "output_type": "display_data"
    }
   ],
   "source": [
    "Merchant_distance = cpon_consume.groupby('Merchant_id').Distance.mean()\n",
    "Merchant_distance.value_counts()\n",
    "Merchant_distance.plot(kind='hist', bins=20)\n",
    "plt.show()"
   ]
  },
  {
   "cell_type": "code",
   "execution_count": 147,
   "metadata": {},
   "outputs": [
    {
     "data": {
      "image/png": "[encoded data removed]",
      "text/plain": [
       "<Figure size 640x480 with 1 Axes>"
      ]
     },
     "metadata": {},
     "output_type": "display_data"
    }
   ],
   "source": [
    "Merchant_distance_rate = cpon_consume.groupby('Merchant_id').Discount_rate.mean()\n",
    "Merchant_distance_rate.sort_values()\n",
    "Merchant_distance_rate.hist(bins=10)\n",
    "plt.show()"
   ]
  },
  {
   "attachments": {},
   "cell_type": "markdown",
   "metadata": {},
   "source": [
    "## 三. 总体情况统计分析\n",
    "\n",
    "        3.1 数据总体情况 "
   ]
  },
  {
   "attachments": {},
   "cell_type": "markdown",
   "metadata": {},
   "source": [
    "        3.2 优惠券每月核销情况统计"
   ]
  },
  {
   "attachments": {},
   "cell_type": "markdown",
   "metadata": {},
   "source": [
    "        3.3 每月新增用户数"
   ]
  },
  {
   "attachments": {},
   "cell_type": "markdown",
   "metadata": {},
   "source": [
    "## 四. 用户分析\n",
    "        4.1 获客：每日新增用户情况"
   ]
  },
  {
   "attachments": {},
   "cell_type": "markdown",
   "metadata": {},
   "source": [
    "        4.2 转化及流失情况"
   ]
  },
  {
   "attachments": {},
   "cell_type": "markdown",
   "metadata": {},
   "source": [
    "        4.3 用户行为转化漏斗计算"
   ]
  },
  {
   "attachments": {},
   "cell_type": "markdown",
   "metadata": {},
   "source": [
    "        4.4 用户留存情况"
   ]
  },
  {
   "attachments": {},
   "cell_type": "markdown",
   "metadata": {},
   "source": [
    "        4.5 用户价值分析  \n",
    "        \n",
    "            4.5.1 先查询用户最近的消费时间间隔及消费频次"
   ]
  },
  {
   "attachments": {},
   "cell_type": "markdown",
   "metadata": {},
   "source": [
    "            4.5.2 分别查询R,F的最大值，最小值以及各值数量分布情况"
   ]
  },
  {
   "attachments": {},
   "cell_type": "markdown",
   "metadata": {},
   "source": [
    "            4.5.3 根据R,F值最大值和最小值的区间设计本次的打分标准，计算R,F的值"
   ]
  },
  {
   "attachments": {},
   "cell_type": "markdown",
   "metadata": {},
   "source": [
    "            4.5.4 查询R,F值的平均值"
   ]
  },
  {
   "attachments": {},
   "cell_type": "markdown",
   "metadata": {},
   "source": [
    "            4.5.5 根据平均值和用户分类规则表对用户分类"
   ]
  },
  {
   "attachments": {},
   "cell_type": "markdown",
   "metadata": {},
   "source": [
    "            4.5.6 查询各分层用户数量"
   ]
  },
  {
   "attachments": {},
   "cell_type": "markdown",
   "metadata": {},
   "source": [
    "## 五. 商户分析\n",
    "\n",
    "        5.1 每月有消费商户统计"
   ]
  },
  {
   "attachments": {},
   "cell_type": "markdown",
   "metadata": {},
   "source": [
    "        5.2 一周内每天有消费的商户数量"
   ]
  },
  {
   "attachments": {},
   "cell_type": "markdown",
   "metadata": {},
   "source": [
    "        5.3 商户整体核销率，核销率在0.25以下的商户占比"
   ]
  },
  {
   "attachments": {},
   "cell_type": "markdown",
   "metadata": {},
   "source": [
    "        5.4 商户分层"
   ]
  },
  {
   "attachments": {},
   "cell_type": "markdown",
   "metadata": {},
   "source": [
    "## 六. 优惠券分析\n",
    "\n",
    "        6.1 优惠券每日领取，每日核销情况"
   ]
  },
  {
   "attachments": {},
   "cell_type": "markdown",
   "metadata": {},
   "source": [
    "        6.2 优惠券平均核销时间"
   ]
  },
  {
   "attachments": {},
   "cell_type": "markdown",
   "metadata": {},
   "source": [
    "        6.3 不同距离下优惠券的领取量及核销率"
   ]
  },
  {
   "attachments": {},
   "cell_type": "markdown",
   "metadata": {},
   "source": [
    "## 七.  相关分析\n",
    "        7.1 门店距离与优惠券核销率的相关性"
   ]
  },
  {
   "attachments": {},
   "cell_type": "markdown",
   "metadata": {},
   "source": [
    "        7.2 优惠券折扣与核销率的相关性"
   ]
  },
  {
   "attachments": {},
   "cell_type": "markdown",
   "metadata": {},
   "source": [
    "## 八. Tableau可视化图表"
   ]
  },
  {
   "attachments": {},
   "cell_type": "markdown",
   "metadata": {},
   "source": [
    "## 九. 数据分析"
   ]
  }
 ],
 "metadata": {
  "kernelspec": {
   "display_name": "Python 3",
   "language": "python",
   "name": "python3"
  },
  "language_info": {
   "codemirror_mode": {
    "name": "ipython",
    "version": 3
   },
   "file_extension": ".py",
   "mimetype": "text/x-python",
   "name": "python",
   "nbconvert_exporter": "python",
   "pygments_lexer": "ipython3",
   "version": "3.11.3"
  },
  "orig_nbformat": 4
 },
 "nbformat": 4,
 "nbformat_minor": 2
}
