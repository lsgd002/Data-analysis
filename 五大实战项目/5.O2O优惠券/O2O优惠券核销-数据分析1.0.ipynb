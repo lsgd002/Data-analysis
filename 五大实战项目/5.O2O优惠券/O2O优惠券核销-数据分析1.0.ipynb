{
 "cells": [
  {
   "attachments": {},
   "cell_type": "markdown",
   "metadata": {},
   "source": [
    "# 优惠券使用情况分析1.0\n",
    "\n",
    "O2O优惠券核销-数据分析1.0 - https://blog.csdn.net/twlve/article/details/128460210?ops_request_misc=&request_id=&biz_id=102&utm_term=%E4%BC%98%E6%83%A0%E5%88%B8%E4%BD%BF%E7%94%A8%E6%83%85%E5%86%B5%E5%88%86%E6%9E%90&utm_medium=distribute.pc_search_result.none-task-blog-2~all~sobaiduweb~default-1-128460210.142^v86^control,239^v2^insert_chatgpt&spm=1018.2226.3001.4187"
   ]
  },
  {
   "attachments": {},
   "cell_type": "markdown",
   "metadata": {},
   "source": [
    "## 一、项目背景\n",
    "\n",
    "        O2O行业关联数亿消费者，各类APP每天记录了超过百亿条用户行为和位置记录，因而成为大数据科研和商业化运营的最佳结合点之一。以优惠券盘活老用户或吸引新客户进店消费是O2O的一种重要营销方式。然而随机投放的优惠券对多数用户造成无意义的干扰。对商家而言，滥发的优惠券可能降低品牌声誉，同时难以估算营销成本。个性化投放是提高优惠券核销率的重要技术，它能让具有一定偏好的消费者得到真正的实惠，同时赋予商家更强的营销能力。"
   ]
  },
  {
   "attachments": {},
   "cell_type": "markdown",
   "metadata": {},
   "source": [
    "## 二、分析目的\n",
    "\n",
    "        利用用户在2016年1月1日至2016年6月30日之间真实线下消费行为数据，分析平台优惠券投放效果，并尝试提供合理的建议。"
   ]
  },
  {
   "attachments": {},
   "cell_type": "markdown",
   "metadata": {},
   "source": [
    "## 三、数据集描述\n",
    "\n",
    "数据说明：用户在2016年1月1日至2016年6月30日之间真实线下消费行为数据\n",
    "\n",
    "分析工具：Python\n",
    "\n",
    "数据来源：https://tianchi.aliyun.com/competition/entrance/231593/information\n",
    "\n",
    "Table 1: 用户线下消费和优惠券领取行为\n",
    "\n",
    "| Field | Description |  \n",
    "| :--- | :--- |\n",
    "| User_id | 用户ID |  \n",
    "| Merchant_id | 商户ID|  \n",
    "|Coupon_id | 优惠券ID：null表示无优惠券消费，此时Discount_rate和Date_received字段无意义 |\n",
    "| Discount_rate | 优惠率：x \\in [0,1]代表折扣率；x:y表示满x减y。单位是元 |\n",
    "| Distanceuser | 经常活动的地点离该merchant的最近门店距离是x*500米（如果是连锁店，则取最近的一家门店），x\\in[0,10]；null表示无此信息，0表示低于500米，10表示大于5公里；|\n",
    "| Date_received | 领取优惠券日期 |\n",
    "| Date | 消费日期：如果Date=null & Coupon_id != null，该记录表示领取优惠券但没有使用，即负样本；如果Date!=null & Coupon_id = null，则表示普通消费日期；如果Date!=null & Coupon_id != null，则表示用优惠券消费日期，即正样本； |"
   ]
  },
  {
   "attachments": {},
   "cell_type": "markdown",
   "metadata": {},
   "source": [
    "## 四、分析思路\n",
    "\n",
    "![图片](https://img-blog.csdnimg.cn/b8f3f81d1ea04b4e8490012af25cee1b.png)"
   ]
  },
  {
   "attachments": {},
   "cell_type": "markdown",
   "metadata": {},
   "source": [
    "## 五、分析内容"
   ]
  },
  {
   "attachments": {},
   "cell_type": "markdown",
   "metadata": {},
   "source": [
    "5.1 优惠券维度\n",
    "\n",
    "        5.1.1 距离因素"
   ]
  },
  {
   "attachments": {},
   "cell_type": "markdown",
   "metadata": {},
   "source": [
    "        5.1.2优惠券类型因素"
   ]
  },
  {
   "attachments": {},
   "cell_type": "markdown",
   "metadata": {},
   "source": [
    "        5.1.3 时间因素"
   ]
  },
  {
   "attachments": {},
   "cell_type": "markdown",
   "metadata": {},
   "source": [
    "5.2 用户维度\n",
    "\n",
    "        5.2.1 不同领券次数、核销率的用户分布情况"
   ]
  },
  {
   "attachments": {},
   "cell_type": "markdown",
   "metadata": {},
   "source": [
    "5.3 商户维度\n",
    "\n",
    "        5.3.1 不同领券次数、核销率的商户分布情况"
   ]
  },
  {
   "attachments": {},
   "cell_type": "markdown",
   "metadata": {},
   "source": [
    "## 六、分析结论\n",
    "\n",
    "（一）优惠券维度"
   ]
  },
  {
   "attachments": {},
   "cell_type": "markdown",
   "metadata": {},
   "source": [
    "（二）用户维度"
   ]
  },
  {
   "attachments": {},
   "cell_type": "markdown",
   "metadata": {},
   "source": [
    "（三）商户维度"
   ]
  },
  {
   "attachments": {},
   "cell_type": "markdown",
   "metadata": {},
   "source": [
    "## 七、仪表盘"
   ]
  },
  {
   "attachments": {},
   "cell_type": "markdown",
   "metadata": {},
   "source": [
    "## 八、个人感想"
   ]
  }
 ],
 "metadata": {
  "language_info": {
   "name": "python"
  },
  "orig_nbformat": 4
 },
 "nbformat": 4,
 "nbformat_minor": 2
}
